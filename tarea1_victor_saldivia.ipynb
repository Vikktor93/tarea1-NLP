{
 "cells": [
  {
   "cell_type": "markdown",
   "id": "cf5f8f78",
   "metadata": {},
   "source": [
    "<div>\n",
    "<img src=\"https://i.ibb.co/v3CvVz9/udd-short.png\" width=\"150\"/>\n",
    "    <br>\n",
    "    <strong>Universidad del Desarrollo</strong><br>\n",
    "    <em>Magíster en Data Science</em><br>\n",
    "    <em>Profesora: Maria Paz Raveau</em><br>\n",
    "    <em>Asignatura: Procesamiento de Lenguaje Natural</em><br>\n",
    "\n",
    "</div>\n",
    "\n",
    "# **Tarea 1**\n",
    "\n",
    "*Fecha de Entrega: Domingo 20, Julio 2025.*\n",
    "\n",
    "**Nombre Estudiante**: Victor Saldivia Vera"
   ]
  },
  {
   "cell_type": "markdown",
   "id": "6018466a",
   "metadata": {},
   "source": [
    "### **01. Intrucciones y Enunciado**\n",
    "\n",
    "Suponga que ud. es contactado por alguna agencia gubernamental que quiere saber qué dijeron los participantes de los cabildos de 2016. Ud. debe entonces, basándose en los textos de fundamento, responder a este requerimiento.  Use para ello la base de datos que vimos en clases, de los cabildos provinciales. \n",
    "\n",
    "- Escoja alguna de los conceptos que vienen en la base de datos (evite las que no tengan muchas entradas). Hemos visto cómo generar WordClouds con tokens y con bigramas. *¿Es posible valerse de las etiquetas gramaticales para mejorar el resultado?* \n",
    "- Pruebe haciendo un WordCloud con tokens/sustantivos,  y otro con  bigramas/sustantivo-adjetivo. Recuerde pre-procesar correctamente.\n",
    "- Con estos mismo bigramas/sustantivo-adjetivo, haga una red de bigramas.\n",
    "- Ayúdese con frases de ejemplo, y de los WordClouds, para escribir una descripción del concepto.\n"
   ]
  },
  {
   "cell_type": "markdown",
   "id": "72b064a5",
   "metadata": {},
   "source": [
    "### **02. Descripción de la Data**\n"
   ]
  },
  {
   "cell_type": "code",
   "execution_count": 1,
   "id": "3ce18d31",
   "metadata": {},
   "outputs": [
    {
     "name": "stdout",
     "output_type": "stream",
     "text": [
      "Dimensión: (30414, 12)\n",
      "Nombre de Columnas: Index(['region_nombre', 'provincia_nombre', 'comuna_nombre', 'cabildo_id',\n",
      "       'cabildo_nombre', 'cabildo_direccion', 'num_mesa', 'pregunta_glosa',\n",
      "       'concepto_nombre', 'concepto_otro', 'tipo-eleccion', 'fundamento'],\n",
      "      dtype='object')\n"
     ]
    }
   ],
   "source": [
    "import pandas as pd\n",
    "df = pd.read_excel('data/resultadocabildoprovincial.xlsx')\n",
    "print(f'Dimensión: {df.shape}'), \n",
    "print(f'Nombre de Columnas: {df.columns}')"
   ]
  },
  {
   "cell_type": "markdown",
   "id": "984ad9d6",
   "metadata": {},
   "source": [
    "### **03. Librerías a Utilizar**\n"
   ]
  },
  {
   "cell_type": "code",
   "execution_count": 16,
   "id": "d8989cf8",
   "metadata": {},
   "outputs": [],
   "source": [
    "import pandas as pd\n",
    "import numpy as np\n",
    "import re\n",
    "import unicodedata\n",
    "from collections import Counter\n",
    "\n",
    "# Librerías de Procesamiento de Texto\n",
    "import nltk\n",
    "from nltk.corpus import stopwords\n",
    "from nltk.collocations import BigramCollocationFinder, BigramAssocMeasures\n",
    "import stanza\n",
    "\n",
    "# Visualización\n",
    "import matplotlib.pyplot as plt\n",
    "from wordcloud import WordCloud\n",
    "import networkx as nx\n",
    "\n",
    "# La librería de warnings se utiliza para manejar las advertencias\n",
    "import warnings\n",
    "warnings.filterwarnings('ignore')\n",
    "\n",
    "# Paquete muestra Barra de Progreso\n",
    "from tqdm import tqdm\n",
    "tqdm.pandas()"
   ]
  },
  {
   "cell_type": "code",
   "execution_count": null,
   "id": "baf0d31f",
   "metadata": {},
   "outputs": [],
   "source": [
    "# Descargas (Nota: Ejecutar una sola vez en entorno local)\n",
    "# nltk.download('punkt')\n",
    "# nltk.download('stopwords')\n",
    "# stanza.download('es')"
   ]
  },
  {
   "cell_type": "markdown",
   "id": "b5a81d65",
   "metadata": {},
   "source": [
    "#### Configuración de Stanza para el PLN"
   ]
  },
  {
   "cell_type": "code",
   "execution_count": 17,
   "id": "33f79e82",
   "metadata": {},
   "outputs": [
    {
     "name": "stderr",
     "output_type": "stream",
     "text": [
      "2025-07-20 14:43:44 INFO: Checking for updates to resources.json in case models have been updated.  Note: this behavior can be turned off with download_method=None or download_method=DownloadMethod.REUSE_RESOURCES\n",
      "Downloading https://raw.githubusercontent.com/stanfordnlp/stanza-resources/main/resources_1.10.0.json: 433kB [00:00, 24.1MB/s]                    \n",
      "2025-07-20 14:43:45 INFO: Downloaded file to C:\\Users\\Victo\\stanza_resources\\resources.json\n",
      "2025-07-20 14:43:45 WARNING: Language es package default expects mwt, which has been added\n",
      "2025-07-20 14:43:45 INFO: Loading these models for language: es (Spanish):\n",
      "=================================\n",
      "| Processor | Package           |\n",
      "---------------------------------\n",
      "| tokenize  | combined          |\n",
      "| mwt       | combined          |\n",
      "| pos       | combined_charlm   |\n",
      "| lemma     | combined_nocharlm |\n",
      "=================================\n",
      "\n",
      "2025-07-20 14:43:45 INFO: Using device: cpu\n",
      "2025-07-20 14:43:45 INFO: Loading: tokenize\n",
      "2025-07-20 14:43:45 INFO: Loading: mwt\n",
      "2025-07-20 14:43:45 INFO: Loading: pos\n",
      "2025-07-20 14:43:48 INFO: Loading: lemma\n",
      "2025-07-20 14:43:49 INFO: Done loading processors!\n"
     ]
    }
   ],
   "source": [
    "nlp = stanza.Pipeline('es', processors='tokenize,pos,lemma', use_gpu=False)  # Cambiar a True si hay GPU\n"
   ]
  },
  {
   "cell_type": "markdown",
   "id": "8fdc2837",
   "metadata": {},
   "source": [
    "### **04. Carga y Exploración Inicial**\n"
   ]
  },
  {
   "cell_type": "code",
   "execution_count": 18,
   "id": "af4cbe4a",
   "metadata": {},
   "outputs": [
    {
     "data": {
      "application/vnd.microsoft.datawrangler.viewer.v0+json": {
       "columns": [
        {
         "name": "index",
         "rawType": "int64",
         "type": "integer"
        },
        {
         "name": "region_nombre",
         "rawType": "object",
         "type": "string"
        },
        {
         "name": "provincia_nombre",
         "rawType": "object",
         "type": "string"
        },
        {
         "name": "comuna_nombre",
         "rawType": "object",
         "type": "string"
        },
        {
         "name": "cabildo_id",
         "rawType": "int64",
         "type": "integer"
        },
        {
         "name": "cabildo_nombre",
         "rawType": "object",
         "type": "string"
        },
        {
         "name": "cabildo_direccion",
         "rawType": "object",
         "type": "string"
        },
        {
         "name": "num_mesa",
         "rawType": "int64",
         "type": "integer"
        },
        {
         "name": "pregunta_glosa",
         "rawType": "object",
         "type": "string"
        },
        {
         "name": "concepto_nombre",
         "rawType": "object",
         "type": "string"
        },
        {
         "name": "concepto_otro",
         "rawType": "object",
         "type": "unknown"
        },
        {
         "name": "tipo-eleccion",
         "rawType": "object",
         "type": "string"
        },
        {
         "name": "fundamento",
         "rawType": "object",
         "type": "string"
        },
        {
         "name": "len_chars",
         "rawType": "int64",
         "type": "integer"
        },
        {
         "name": "len_tokens_raw",
         "rawType": "int64",
         "type": "integer"
        }
       ],
       "ref": "94345314-2fb7-434a-adc0-31abd74e18d5",
       "rows": [
        [
         "0",
         "Arica y Parinacota",
         "Arica",
         "Arica",
         "81",
         "Colegio San Marcos",
         "Santa María 2140, Arica",
         "1",
         "¿Cuáles son los valores y principios más importantes que deben inspirar y dar sustento a la Constitución?",
         "Autonomía/libertad",
         null,
         "A",
         "sin fundamento",
         "14",
         "2"
        ],
        [
         "1",
         "Arica y Parinacota",
         "Arica",
         "Arica",
         "81",
         "Colegio San Marcos",
         "Santa María 2140, Arica",
         "1",
         "¿Cuáles son los valores y principios más importantes que deben inspirar y dar sustento a la Constitución?",
         "Democracia",
         null,
         "A",
         "Sin fundamento",
         "14",
         "2"
        ],
        [
         "2",
         "Arica y Parinacota",
         "Arica",
         "Arica",
         "81",
         "Colegio San Marcos",
         "Santa María 2140, Arica",
         "1",
         "¿Cuáles son los valores y principios más importantes que deben inspirar y dar sustento a la Constitución?",
         "Descentralización",
         null,
         "A",
         "La descentralizacion de ser autonoma por ser zona extrema del pais",
         "66",
         "11"
        ],
        [
         "7",
         "Arica y Parinacota",
         "Arica",
         "Arica",
         "81",
         "Colegio San Marcos",
         "Santa María 2140, Arica",
         "1",
         "¿Cuáles son los derechos, que la Constitución debe establecer para todas las personas?",
         "A la vida",
         null,
         "A",
         "Sin furdamento",
         "14",
         "2"
        ],
        [
         "26",
         "Arica y Parinacota",
         "Arica",
         "Arica",
         "81",
         "Colegio San Marcos",
         "Santa María 2140, Arica",
         "1",
         "¿Cuáles son las instituciones del Estado que debe contemplar la Constitución y que características deberían tener?",
         "Gobierno regional",
         null,
         "A",
         "Sin fundamentos",
         "15",
         "2"
        ]
       ],
       "shape": {
        "columns": 14,
        "rows": 5
       }
      },
      "text/html": [
       "<div>\n",
       "<style scoped>\n",
       "    .dataframe tbody tr th:only-of-type {\n",
       "        vertical-align: middle;\n",
       "    }\n",
       "\n",
       "    .dataframe tbody tr th {\n",
       "        vertical-align: top;\n",
       "    }\n",
       "\n",
       "    .dataframe thead th {\n",
       "        text-align: right;\n",
       "    }\n",
       "</style>\n",
       "<table border=\"1\" class=\"dataframe\">\n",
       "  <thead>\n",
       "    <tr style=\"text-align: right;\">\n",
       "      <th></th>\n",
       "      <th>region_nombre</th>\n",
       "      <th>provincia_nombre</th>\n",
       "      <th>comuna_nombre</th>\n",
       "      <th>cabildo_id</th>\n",
       "      <th>cabildo_nombre</th>\n",
       "      <th>cabildo_direccion</th>\n",
       "      <th>num_mesa</th>\n",
       "      <th>pregunta_glosa</th>\n",
       "      <th>concepto_nombre</th>\n",
       "      <th>concepto_otro</th>\n",
       "      <th>tipo-eleccion</th>\n",
       "      <th>fundamento</th>\n",
       "      <th>len_chars</th>\n",
       "      <th>len_tokens_raw</th>\n",
       "    </tr>\n",
       "  </thead>\n",
       "  <tbody>\n",
       "    <tr>\n",
       "      <th>0</th>\n",
       "      <td>Arica y Parinacota</td>\n",
       "      <td>Arica</td>\n",
       "      <td>Arica</td>\n",
       "      <td>81</td>\n",
       "      <td>Colegio San Marcos</td>\n",
       "      <td>Santa María 2140, Arica</td>\n",
       "      <td>1</td>\n",
       "      <td>¿Cuáles son los valores y principios más impor...</td>\n",
       "      <td>Autonomía/libertad</td>\n",
       "      <td>NaN</td>\n",
       "      <td>A</td>\n",
       "      <td>sin fundamento</td>\n",
       "      <td>14</td>\n",
       "      <td>2</td>\n",
       "    </tr>\n",
       "    <tr>\n",
       "      <th>1</th>\n",
       "      <td>Arica y Parinacota</td>\n",
       "      <td>Arica</td>\n",
       "      <td>Arica</td>\n",
       "      <td>81</td>\n",
       "      <td>Colegio San Marcos</td>\n",
       "      <td>Santa María 2140, Arica</td>\n",
       "      <td>1</td>\n",
       "      <td>¿Cuáles son los valores y principios más impor...</td>\n",
       "      <td>Democracia</td>\n",
       "      <td>NaN</td>\n",
       "      <td>A</td>\n",
       "      <td>Sin fundamento</td>\n",
       "      <td>14</td>\n",
       "      <td>2</td>\n",
       "    </tr>\n",
       "    <tr>\n",
       "      <th>2</th>\n",
       "      <td>Arica y Parinacota</td>\n",
       "      <td>Arica</td>\n",
       "      <td>Arica</td>\n",
       "      <td>81</td>\n",
       "      <td>Colegio San Marcos</td>\n",
       "      <td>Santa María 2140, Arica</td>\n",
       "      <td>1</td>\n",
       "      <td>¿Cuáles son los valores y principios más impor...</td>\n",
       "      <td>Descentralización</td>\n",
       "      <td>NaN</td>\n",
       "      <td>A</td>\n",
       "      <td>La descentralizacion de ser autonoma por ser z...</td>\n",
       "      <td>66</td>\n",
       "      <td>11</td>\n",
       "    </tr>\n",
       "    <tr>\n",
       "      <th>7</th>\n",
       "      <td>Arica y Parinacota</td>\n",
       "      <td>Arica</td>\n",
       "      <td>Arica</td>\n",
       "      <td>81</td>\n",
       "      <td>Colegio San Marcos</td>\n",
       "      <td>Santa María 2140, Arica</td>\n",
       "      <td>1</td>\n",
       "      <td>¿Cuáles son los derechos, que la Constitución ...</td>\n",
       "      <td>A la vida</td>\n",
       "      <td>NaN</td>\n",
       "      <td>A</td>\n",
       "      <td>Sin furdamento</td>\n",
       "      <td>14</td>\n",
       "      <td>2</td>\n",
       "    </tr>\n",
       "    <tr>\n",
       "      <th>26</th>\n",
       "      <td>Arica y Parinacota</td>\n",
       "      <td>Arica</td>\n",
       "      <td>Arica</td>\n",
       "      <td>81</td>\n",
       "      <td>Colegio San Marcos</td>\n",
       "      <td>Santa María 2140, Arica</td>\n",
       "      <td>1</td>\n",
       "      <td>¿Cuáles son las instituciones del Estado que d...</td>\n",
       "      <td>Gobierno regional</td>\n",
       "      <td>NaN</td>\n",
       "      <td>A</td>\n",
       "      <td>Sin fundamentos</td>\n",
       "      <td>15</td>\n",
       "      <td>2</td>\n",
       "    </tr>\n",
       "  </tbody>\n",
       "</table>\n",
       "</div>"
      ],
      "text/plain": [
       "         region_nombre provincia_nombre comuna_nombre  cabildo_id  \\\n",
       "0   Arica y Parinacota            Arica         Arica          81   \n",
       "1   Arica y Parinacota            Arica         Arica          81   \n",
       "2   Arica y Parinacota            Arica         Arica          81   \n",
       "7   Arica y Parinacota            Arica         Arica          81   \n",
       "26  Arica y Parinacota            Arica         Arica          81   \n",
       "\n",
       "        cabildo_nombre        cabildo_direccion  num_mesa  \\\n",
       "0   Colegio San Marcos  Santa María 2140, Arica         1   \n",
       "1   Colegio San Marcos  Santa María 2140, Arica         1   \n",
       "2   Colegio San Marcos  Santa María 2140, Arica         1   \n",
       "7   Colegio San Marcos  Santa María 2140, Arica         1   \n",
       "26  Colegio San Marcos  Santa María 2140, Arica         1   \n",
       "\n",
       "                                       pregunta_glosa     concepto_nombre  \\\n",
       "0   ¿Cuáles son los valores y principios más impor...  Autonomía/libertad   \n",
       "1   ¿Cuáles son los valores y principios más impor...          Democracia   \n",
       "2   ¿Cuáles son los valores y principios más impor...   Descentralización   \n",
       "7   ¿Cuáles son los derechos, que la Constitución ...           A la vida   \n",
       "26  ¿Cuáles son las instituciones del Estado que d...   Gobierno regional   \n",
       "\n",
       "   concepto_otro tipo-eleccion  \\\n",
       "0            NaN             A   \n",
       "1            NaN             A   \n",
       "2            NaN             A   \n",
       "7            NaN             A   \n",
       "26           NaN             A   \n",
       "\n",
       "                                           fundamento  len_chars  \\\n",
       "0                                      sin fundamento         14   \n",
       "1                                      Sin fundamento         14   \n",
       "2   La descentralizacion de ser autonoma por ser z...         66   \n",
       "7                                      Sin furdamento         14   \n",
       "26                                    Sin fundamentos         15   \n",
       "\n",
       "    len_tokens_raw  \n",
       "0                2  \n",
       "1                2  \n",
       "2               11  \n",
       "7                2  \n",
       "26               2  "
      ]
     },
     "execution_count": 18,
     "metadata": {},
     "output_type": "execute_result"
    }
   ],
   "source": [
    "df.head()"
   ]
  },
  {
   "cell_type": "markdown",
   "id": "43e47afd",
   "metadata": {},
   "source": [
    "#### Conteo de nulos en columnas de texto\n"
   ]
  },
  {
   "cell_type": "code",
   "execution_count": 19,
   "id": "e8568cbe",
   "metadata": {},
   "outputs": [
    {
     "name": "stdout",
     "output_type": "stream",
     "text": [
      "0\n"
     ]
    }
   ],
   "source": [
    "texto_col = \"fundamento\"\n",
    "print(df[texto_col].isna().sum())"
   ]
  },
  {
   "cell_type": "markdown",
   "id": "737f928e",
   "metadata": {},
   "source": [
    "#### Estadísticas Descriptivas sobre el texto\n"
   ]
  },
  {
   "cell_type": "code",
   "execution_count": 20,
   "id": "67c1b00c",
   "metadata": {},
   "outputs": [
    {
     "data": {
      "application/vnd.microsoft.datawrangler.viewer.v0+json": {
       "columns": [
        {
         "name": "index",
         "rawType": "object",
         "type": "string"
        },
        {
         "name": "len_chars",
         "rawType": "float64",
         "type": "float"
        },
        {
         "name": "len_tokens_raw",
         "rawType": "float64",
         "type": "float"
        }
       ],
       "ref": "53269c6d-ecf6-4de7-913f-e79307d8afae",
       "rows": [
        [
         "count",
         "19326.0",
         "19326.0"
        ],
        [
         "mean",
         "100.84233674842181",
         "15.763013556866397"
        ],
        [
         "std",
         "68.72344359732296",
         "10.954641521813056"
        ],
        [
         "min",
         "1.0",
         "1.0"
        ],
        [
         "25%",
         "50.0",
         "8.0"
        ],
        [
         "50%",
         "84.0",
         "13.0"
        ],
        [
         "75%",
         "134.0",
         "21.0"
        ],
        [
         "max",
         "300.0",
         "61.0"
        ]
       ],
       "shape": {
        "columns": 2,
        "rows": 8
       }
      },
      "text/html": [
       "<div>\n",
       "<style scoped>\n",
       "    .dataframe tbody tr th:only-of-type {\n",
       "        vertical-align: middle;\n",
       "    }\n",
       "\n",
       "    .dataframe tbody tr th {\n",
       "        vertical-align: top;\n",
       "    }\n",
       "\n",
       "    .dataframe thead th {\n",
       "        text-align: right;\n",
       "    }\n",
       "</style>\n",
       "<table border=\"1\" class=\"dataframe\">\n",
       "  <thead>\n",
       "    <tr style=\"text-align: right;\">\n",
       "      <th></th>\n",
       "      <th>len_chars</th>\n",
       "      <th>len_tokens_raw</th>\n",
       "    </tr>\n",
       "  </thead>\n",
       "  <tbody>\n",
       "    <tr>\n",
       "      <th>count</th>\n",
       "      <td>19326.000000</td>\n",
       "      <td>19326.000000</td>\n",
       "    </tr>\n",
       "    <tr>\n",
       "      <th>mean</th>\n",
       "      <td>100.842337</td>\n",
       "      <td>15.763014</td>\n",
       "    </tr>\n",
       "    <tr>\n",
       "      <th>std</th>\n",
       "      <td>68.723444</td>\n",
       "      <td>10.954642</td>\n",
       "    </tr>\n",
       "    <tr>\n",
       "      <th>min</th>\n",
       "      <td>1.000000</td>\n",
       "      <td>1.000000</td>\n",
       "    </tr>\n",
       "    <tr>\n",
       "      <th>25%</th>\n",
       "      <td>50.000000</td>\n",
       "      <td>8.000000</td>\n",
       "    </tr>\n",
       "    <tr>\n",
       "      <th>50%</th>\n",
       "      <td>84.000000</td>\n",
       "      <td>13.000000</td>\n",
       "    </tr>\n",
       "    <tr>\n",
       "      <th>75%</th>\n",
       "      <td>134.000000</td>\n",
       "      <td>21.000000</td>\n",
       "    </tr>\n",
       "    <tr>\n",
       "      <th>max</th>\n",
       "      <td>300.000000</td>\n",
       "      <td>61.000000</td>\n",
       "    </tr>\n",
       "  </tbody>\n",
       "</table>\n",
       "</div>"
      ],
      "text/plain": [
       "          len_chars  len_tokens_raw\n",
       "count  19326.000000    19326.000000\n",
       "mean     100.842337       15.763014\n",
       "std       68.723444       10.954642\n",
       "min        1.000000        1.000000\n",
       "25%       50.000000        8.000000\n",
       "50%       84.000000       13.000000\n",
       "75%      134.000000       21.000000\n",
       "max      300.000000       61.000000"
      ]
     },
     "execution_count": 20,
     "metadata": {},
     "output_type": "execute_result"
    }
   ],
   "source": [
    "df['len_chars'] = df[texto_col].str.len() # columna de longitud de caracteres\n",
    "df['len_tokens_raw'] = df[texto_col].str.split().str.len() # columna de tokens sin procesar\n",
    "df[['len_chars','len_tokens_raw']].describe()"
   ]
  },
  {
   "cell_type": "markdown",
   "id": "14a04f3f",
   "metadata": {},
   "source": [
    "#### Eliminación de nulos y duplicados\n"
   ]
  },
  {
   "cell_type": "code",
   "execution_count": 21,
   "id": "34d5c453",
   "metadata": {},
   "outputs": [
    {
     "name": "stdout",
     "output_type": "stream",
     "text": [
      "Filas eliminadas: 0\n"
     ]
    }
   ],
   "source": [
    "before = len(df)\n",
    "df = df.dropna(subset=[texto_col])\n",
    "df = df.drop_duplicates(subset=[texto_col])\n",
    "print(f\"Filas eliminadas: {before - len(df)}\")"
   ]
  },
  {
   "cell_type": "markdown",
   "id": "7101cecc",
   "metadata": {},
   "source": [
    "### **05. Selección de Concepto**\n"
   ]
  },
  {
   "cell_type": "code",
   "execution_count": 22,
   "id": "7774fd01",
   "metadata": {},
   "outputs": [
    {
     "data": {
      "application/vnd.microsoft.datawrangler.viewer.v0+json": {
       "columns": [
        {
         "name": "concepto_nombre",
         "rawType": "object",
         "type": "string"
        },
        {
         "name": "count",
         "rawType": "int64",
         "type": "integer"
        }
       ],
       "ref": "3b89df66-307b-43f0-9bba-8098d5ae57ba",
       "rows": [
        [
         "Otro",
         "3976"
        ],
        [
         "Igualdad",
         "519"
        ],
        [
         "Democracia",
         "507"
        ],
        [
         "Descentralización",
         "503"
        ],
        [
         "Justicia",
         "492"
        ],
        [
         "Respeto/conservación de la naturaleza o medio ambiente",
         "484"
        ],
        [
         "A la vida",
         "440"
        ],
        [
         "A la salud",
         "437"
        ],
        [
         "A la educación",
         "428"
        ],
        [
         "Respeto",
         "385"
        ],
        [
         "Fuerzas Armadas",
         "381"
        ],
        [
         "Bien Común/comunidad",
         "381"
        ],
        [
         "Congreso o parlamento (estructura y funciones)",
         "373"
        ],
        [
         "A la vivienda digna",
         "365"
        ],
        [
         "Plebiscitos, referendos y consultas",
         "361"
        ],
        [
         "Respeto por la constitución",
         "335"
        ],
        [
         "Igualdad ante la ley",
         "332"
        ],
        [
         "Defensor del Pueblo/Ciudadano",
         "312"
        ],
        [
         "Poder judicial (estructura y funciones)",
         "306"
        ],
        [
         "A la seguridad social",
         "300"
        ]
       ],
       "shape": {
        "columns": 1,
        "rows": 20
       }
      },
      "text/plain": [
       "concepto_nombre\n",
       "Otro                                                      3976\n",
       "Igualdad                                                   519\n",
       "Democracia                                                 507\n",
       "Descentralización                                          503\n",
       "Justicia                                                   492\n",
       "Respeto/conservación de la naturaleza o medio ambiente     484\n",
       "A la vida                                                  440\n",
       "A la salud                                                 437\n",
       "A la educación                                             428\n",
       "Respeto                                                    385\n",
       "Fuerzas Armadas                                            381\n",
       "Bien Común/comunidad                                       381\n",
       "Congreso o parlamento (estructura y funciones)             373\n",
       "A la vivienda digna                                        365\n",
       "Plebiscitos, referendos y consultas                        361\n",
       "Respeto por la constitución                                335\n",
       "Igualdad ante la ley                                       332\n",
       "Defensor del Pueblo/Ciudadano                              312\n",
       "Poder judicial (estructura y funciones)                    306\n",
       "A la seguridad social                                      300\n",
       "Name: count, dtype: int64"
      ]
     },
     "execution_count": 22,
     "metadata": {},
     "output_type": "execute_result"
    }
   ],
   "source": [
    "# Distribución de frecuencias para elegir uno con suficientes observaciones\n",
    "concepto_col = \"concepto_nombre\" \n",
    "concept_counts = df[concepto_col].value_counts()\n",
    "concept_counts.head(20)"
   ]
  },
  {
   "cell_type": "markdown",
   "id": "ba66ba73",
   "metadata": {},
   "source": [
    "#### Selección de Concepto"
   ]
  },
  {
   "cell_type": "code",
   "execution_count": 23,
   "id": "77233baa",
   "metadata": {},
   "outputs": [],
   "source": [
    "concepto_elegido = \"Democracia\" "
   ]
  },
  {
   "cell_type": "markdown",
   "id": "5a00504d",
   "metadata": {},
   "source": [
    "#### Creación del Subconjunto filtrado\n",
    "Se elige el concepto 'Democracia' el cual tiene una frecuencia de (507 ocurrencias) para garantizar masa textual suficiente y diversidad léxica. Se descartaron conceptos con baja frecuencia para evitar resultados inestables en nubes de palabras y bigramas.”\n",
    "\n"
   ]
  },
  {
   "cell_type": "code",
   "execution_count": 24,
   "id": "1e4dd563",
   "metadata": {},
   "outputs": [
    {
     "name": "stdout",
     "output_type": "stream",
     "text": [
      "Filas del concepto: 507\n"
     ]
    }
   ],
   "source": [
    "subset = df[df[concepto_col] == concepto_elegido].copy()\n",
    "print(\"Filas del concepto:\", len(subset))\n"
   ]
  },
  {
   "cell_type": "code",
   "execution_count": 25,
   "id": "4b9b1a5d",
   "metadata": {},
   "outputs": [
    {
     "data": {
      "application/vnd.microsoft.datawrangler.viewer.v0+json": {
       "columns": [
        {
         "name": "index",
         "rawType": "int64",
         "type": "integer"
        },
        {
         "name": "region_nombre",
         "rawType": "object",
         "type": "string"
        },
        {
         "name": "provincia_nombre",
         "rawType": "object",
         "type": "string"
        },
        {
         "name": "comuna_nombre",
         "rawType": "object",
         "type": "string"
        },
        {
         "name": "cabildo_id",
         "rawType": "int64",
         "type": "integer"
        },
        {
         "name": "cabildo_nombre",
         "rawType": "object",
         "type": "string"
        },
        {
         "name": "cabildo_direccion",
         "rawType": "object",
         "type": "string"
        },
        {
         "name": "num_mesa",
         "rawType": "int64",
         "type": "integer"
        },
        {
         "name": "pregunta_glosa",
         "rawType": "object",
         "type": "string"
        },
        {
         "name": "concepto_nombre",
         "rawType": "object",
         "type": "string"
        },
        {
         "name": "concepto_otro",
         "rawType": "object",
         "type": "unknown"
        },
        {
         "name": "tipo-eleccion",
         "rawType": "object",
         "type": "string"
        },
        {
         "name": "fundamento",
         "rawType": "object",
         "type": "string"
        },
        {
         "name": "len_chars",
         "rawType": "int64",
         "type": "integer"
        },
        {
         "name": "len_tokens_raw",
         "rawType": "int64",
         "type": "integer"
        }
       ],
       "ref": "35470fbc-080c-4691-aa86-b16bbb711168",
       "rows": [
        [
         "1",
         "Arica y Parinacota",
         "Arica",
         "Arica",
         "81",
         "Colegio San Marcos",
         "Santa María 2140, Arica",
         "1",
         "¿Cuáles son los valores y principios más importantes que deben inspirar y dar sustento a la Constitución?",
         "Democracia",
         null,
         "A",
         "Sin fundamento",
         "14",
         "2"
        ],
        [
         "142",
         "Arica y Parinacota",
         "Arica",
         "Arica",
         "81",
         "Colegio San Marcos",
         "Santa María 2140, Arica",
         "5",
         "¿Cuáles son los valores y principios más importantes que deben inspirar y dar sustento a la Constitución?",
         "Democracia",
         null,
         "A",
         "Que el ciudadano pueda participar en la toma de decisiones con igualdad, aceptación y respeto por el otro, considerando todas las realidades.",
         "141",
         "22"
        ],
        [
         "169",
         "Arica y Parinacota",
         "Arica",
         "Arica",
         "81",
         "Colegio San Marcos",
         "Santa María 2140, Arica",
         "6",
         "¿Cuáles son los valores y principios más importantes que deben inspirar y dar sustento a la Constitución?",
         "Democracia",
         null,
         "P",
         "Las condiciones actuales no constituyen democracia. No obstante debe ser un valor fundamental en la nueva Constitucion",
         "118",
         "17"
        ],
        [
         "283",
         "Arica y Parinacota",
         "Arica",
         "Arica",
         "81",
         "Colegio San Marcos",
         "Santa María 2140, Arica",
         "9",
         "¿Cuáles son los valores y principios más importantes que deben inspirar y dar sustento a la Constitución?",
         "Democracia",
         null,
         "P",
         "por la estructura establecida en el dialogo anterior",
         "52",
         "8"
        ],
        [
         "316",
         "Arica y Parinacota",
         "Arica",
         "Arica",
         "81",
         "Colegio San Marcos",
         "Santa María 2140, Arica",
         "10",
         "¿Cuáles son los valores y principios más importantes que deben inspirar y dar sustento a la Constitución?",
         "Democracia",
         null,
         "A",
         "debemos pasar de una democracia representativa a una participativa",
         "66",
         "9"
        ],
        [
         "363",
         "Arica y Parinacota",
         "Arica",
         "Arica",
         "81",
         "Colegio San Marcos",
         "Santa María 2140, Arica",
         "11",
         "¿Cuáles son los valores y principios más importantes que deben inspirar y dar sustento a la Constitución?",
         "Democracia",
         null,
         "A",
         "por eso estamos aqui",
         "20",
         "4"
        ],
        [
         "491",
         "Arica y Parinacota",
         "Arica",
         "Arica",
         "81",
         "Colegio San Marcos",
         "Santa María 2140, Arica",
         "14",
         "¿Cuáles son los valores y principios más importantes que deben inspirar y dar sustento a la Constitución?",
         "Democracia",
         null,
         "A",
         "Se garantice una democracia vinculante que se apliquen topes a la acumulación de riquezas",
         "89",
         "14"
        ],
        [
         "526",
         "Arica y Parinacota",
         "Arica",
         "Arica",
         "81",
         "Colegio San Marcos",
         "Santa María 2140, Arica",
         "15",
         "¿Cuáles son los valores y principios más importantes que deben inspirar y dar sustento a la Constitución?",
         "Democracia",
         null,
         "A",
         "la base y el principio de todos",
         "31",
         "7"
        ],
        [
         "746",
         "Arica y Parinacota",
         "Parinacota",
         "Putre",
         "121",
         "Liceo Granaderos de Putre",
         "Teniente del Campo 242, Putre",
         "2",
         "¿Cuáles son los valores y principios más importantes que deben inspirar y dar sustento a la Constitución?",
         "Democracia",
         null,
         "A",
         "Mejorar  en todos los aspectos los sistemas democráticos de participación. No es posible que aún , en algunas instancias de votación, las postulaciones más votadas finalmente no sean las elegidas. Por ende, ahí se pasa por encima de las decisiones populares.",
         "258",
         "41"
        ],
        [
         "945",
         "Tarapacá",
         "Iquique",
         "Alto Hospicio",
         "107",
         "San Antonio de Matilla",
         "Los Kiwis 3443, Alto Hospicio",
         "2",
         "¿Cuáles son los valores y principios más importantes que deben inspirar y dar sustento a la Constitución?",
         "Democracia",
         null,
         "A",
         "Elemento fundamental en la nueva constitución en Chile",
         "54",
         "8"
        ]
       ],
       "shape": {
        "columns": 14,
        "rows": 10
       }
      },
      "text/html": [
       "<div>\n",
       "<style scoped>\n",
       "    .dataframe tbody tr th:only-of-type {\n",
       "        vertical-align: middle;\n",
       "    }\n",
       "\n",
       "    .dataframe tbody tr th {\n",
       "        vertical-align: top;\n",
       "    }\n",
       "\n",
       "    .dataframe thead th {\n",
       "        text-align: right;\n",
       "    }\n",
       "</style>\n",
       "<table border=\"1\" class=\"dataframe\">\n",
       "  <thead>\n",
       "    <tr style=\"text-align: right;\">\n",
       "      <th></th>\n",
       "      <th>region_nombre</th>\n",
       "      <th>provincia_nombre</th>\n",
       "      <th>comuna_nombre</th>\n",
       "      <th>cabildo_id</th>\n",
       "      <th>cabildo_nombre</th>\n",
       "      <th>cabildo_direccion</th>\n",
       "      <th>num_mesa</th>\n",
       "      <th>pregunta_glosa</th>\n",
       "      <th>concepto_nombre</th>\n",
       "      <th>concepto_otro</th>\n",
       "      <th>tipo-eleccion</th>\n",
       "      <th>fundamento</th>\n",
       "      <th>len_chars</th>\n",
       "      <th>len_tokens_raw</th>\n",
       "    </tr>\n",
       "  </thead>\n",
       "  <tbody>\n",
       "    <tr>\n",
       "      <th>1</th>\n",
       "      <td>Arica y Parinacota</td>\n",
       "      <td>Arica</td>\n",
       "      <td>Arica</td>\n",
       "      <td>81</td>\n",
       "      <td>Colegio San Marcos</td>\n",
       "      <td>Santa María 2140, Arica</td>\n",
       "      <td>1</td>\n",
       "      <td>¿Cuáles son los valores y principios más impor...</td>\n",
       "      <td>Democracia</td>\n",
       "      <td>NaN</td>\n",
       "      <td>A</td>\n",
       "      <td>Sin fundamento</td>\n",
       "      <td>14</td>\n",
       "      <td>2</td>\n",
       "    </tr>\n",
       "    <tr>\n",
       "      <th>142</th>\n",
       "      <td>Arica y Parinacota</td>\n",
       "      <td>Arica</td>\n",
       "      <td>Arica</td>\n",
       "      <td>81</td>\n",
       "      <td>Colegio San Marcos</td>\n",
       "      <td>Santa María 2140, Arica</td>\n",
       "      <td>5</td>\n",
       "      <td>¿Cuáles son los valores y principios más impor...</td>\n",
       "      <td>Democracia</td>\n",
       "      <td>NaN</td>\n",
       "      <td>A</td>\n",
       "      <td>Que el ciudadano pueda participar en la toma d...</td>\n",
       "      <td>141</td>\n",
       "      <td>22</td>\n",
       "    </tr>\n",
       "    <tr>\n",
       "      <th>169</th>\n",
       "      <td>Arica y Parinacota</td>\n",
       "      <td>Arica</td>\n",
       "      <td>Arica</td>\n",
       "      <td>81</td>\n",
       "      <td>Colegio San Marcos</td>\n",
       "      <td>Santa María 2140, Arica</td>\n",
       "      <td>6</td>\n",
       "      <td>¿Cuáles son los valores y principios más impor...</td>\n",
       "      <td>Democracia</td>\n",
       "      <td>NaN</td>\n",
       "      <td>P</td>\n",
       "      <td>Las condiciones actuales no constituyen democr...</td>\n",
       "      <td>118</td>\n",
       "      <td>17</td>\n",
       "    </tr>\n",
       "    <tr>\n",
       "      <th>283</th>\n",
       "      <td>Arica y Parinacota</td>\n",
       "      <td>Arica</td>\n",
       "      <td>Arica</td>\n",
       "      <td>81</td>\n",
       "      <td>Colegio San Marcos</td>\n",
       "      <td>Santa María 2140, Arica</td>\n",
       "      <td>9</td>\n",
       "      <td>¿Cuáles son los valores y principios más impor...</td>\n",
       "      <td>Democracia</td>\n",
       "      <td>NaN</td>\n",
       "      <td>P</td>\n",
       "      <td>por la estructura establecida en el dialogo an...</td>\n",
       "      <td>52</td>\n",
       "      <td>8</td>\n",
       "    </tr>\n",
       "    <tr>\n",
       "      <th>316</th>\n",
       "      <td>Arica y Parinacota</td>\n",
       "      <td>Arica</td>\n",
       "      <td>Arica</td>\n",
       "      <td>81</td>\n",
       "      <td>Colegio San Marcos</td>\n",
       "      <td>Santa María 2140, Arica</td>\n",
       "      <td>10</td>\n",
       "      <td>¿Cuáles son los valores y principios más impor...</td>\n",
       "      <td>Democracia</td>\n",
       "      <td>NaN</td>\n",
       "      <td>A</td>\n",
       "      <td>debemos pasar de una democracia representativa...</td>\n",
       "      <td>66</td>\n",
       "      <td>9</td>\n",
       "    </tr>\n",
       "    <tr>\n",
       "      <th>363</th>\n",
       "      <td>Arica y Parinacota</td>\n",
       "      <td>Arica</td>\n",
       "      <td>Arica</td>\n",
       "      <td>81</td>\n",
       "      <td>Colegio San Marcos</td>\n",
       "      <td>Santa María 2140, Arica</td>\n",
       "      <td>11</td>\n",
       "      <td>¿Cuáles son los valores y principios más impor...</td>\n",
       "      <td>Democracia</td>\n",
       "      <td>NaN</td>\n",
       "      <td>A</td>\n",
       "      <td>por eso estamos aqui</td>\n",
       "      <td>20</td>\n",
       "      <td>4</td>\n",
       "    </tr>\n",
       "    <tr>\n",
       "      <th>491</th>\n",
       "      <td>Arica y Parinacota</td>\n",
       "      <td>Arica</td>\n",
       "      <td>Arica</td>\n",
       "      <td>81</td>\n",
       "      <td>Colegio San Marcos</td>\n",
       "      <td>Santa María 2140, Arica</td>\n",
       "      <td>14</td>\n",
       "      <td>¿Cuáles son los valores y principios más impor...</td>\n",
       "      <td>Democracia</td>\n",
       "      <td>NaN</td>\n",
       "      <td>A</td>\n",
       "      <td>Se garantice una democracia vinculante que se ...</td>\n",
       "      <td>89</td>\n",
       "      <td>14</td>\n",
       "    </tr>\n",
       "    <tr>\n",
       "      <th>526</th>\n",
       "      <td>Arica y Parinacota</td>\n",
       "      <td>Arica</td>\n",
       "      <td>Arica</td>\n",
       "      <td>81</td>\n",
       "      <td>Colegio San Marcos</td>\n",
       "      <td>Santa María 2140, Arica</td>\n",
       "      <td>15</td>\n",
       "      <td>¿Cuáles son los valores y principios más impor...</td>\n",
       "      <td>Democracia</td>\n",
       "      <td>NaN</td>\n",
       "      <td>A</td>\n",
       "      <td>la base y el principio de todos</td>\n",
       "      <td>31</td>\n",
       "      <td>7</td>\n",
       "    </tr>\n",
       "    <tr>\n",
       "      <th>746</th>\n",
       "      <td>Arica y Parinacota</td>\n",
       "      <td>Parinacota</td>\n",
       "      <td>Putre</td>\n",
       "      <td>121</td>\n",
       "      <td>Liceo Granaderos de Putre</td>\n",
       "      <td>Teniente del Campo 242, Putre</td>\n",
       "      <td>2</td>\n",
       "      <td>¿Cuáles son los valores y principios más impor...</td>\n",
       "      <td>Democracia</td>\n",
       "      <td>NaN</td>\n",
       "      <td>A</td>\n",
       "      <td>Mejorar  en todos los aspectos los sistemas de...</td>\n",
       "      <td>258</td>\n",
       "      <td>41</td>\n",
       "    </tr>\n",
       "    <tr>\n",
       "      <th>945</th>\n",
       "      <td>Tarapacá</td>\n",
       "      <td>Iquique</td>\n",
       "      <td>Alto Hospicio</td>\n",
       "      <td>107</td>\n",
       "      <td>San Antonio de Matilla</td>\n",
       "      <td>Los Kiwis 3443, Alto Hospicio</td>\n",
       "      <td>2</td>\n",
       "      <td>¿Cuáles son los valores y principios más impor...</td>\n",
       "      <td>Democracia</td>\n",
       "      <td>NaN</td>\n",
       "      <td>A</td>\n",
       "      <td>Elemento fundamental en la nueva constitución ...</td>\n",
       "      <td>54</td>\n",
       "      <td>8</td>\n",
       "    </tr>\n",
       "  </tbody>\n",
       "</table>\n",
       "</div>"
      ],
      "text/plain": [
       "          region_nombre provincia_nombre  comuna_nombre  cabildo_id  \\\n",
       "1    Arica y Parinacota            Arica          Arica          81   \n",
       "142  Arica y Parinacota            Arica          Arica          81   \n",
       "169  Arica y Parinacota            Arica          Arica          81   \n",
       "283  Arica y Parinacota            Arica          Arica          81   \n",
       "316  Arica y Parinacota            Arica          Arica          81   \n",
       "363  Arica y Parinacota            Arica          Arica          81   \n",
       "491  Arica y Parinacota            Arica          Arica          81   \n",
       "526  Arica y Parinacota            Arica          Arica          81   \n",
       "746  Arica y Parinacota       Parinacota          Putre         121   \n",
       "945            Tarapacá          Iquique  Alto Hospicio         107   \n",
       "\n",
       "                cabildo_nombre              cabildo_direccion  num_mesa  \\\n",
       "1           Colegio San Marcos        Santa María 2140, Arica         1   \n",
       "142         Colegio San Marcos        Santa María 2140, Arica         5   \n",
       "169         Colegio San Marcos        Santa María 2140, Arica         6   \n",
       "283         Colegio San Marcos        Santa María 2140, Arica         9   \n",
       "316         Colegio San Marcos        Santa María 2140, Arica        10   \n",
       "363         Colegio San Marcos        Santa María 2140, Arica        11   \n",
       "491         Colegio San Marcos        Santa María 2140, Arica        14   \n",
       "526         Colegio San Marcos        Santa María 2140, Arica        15   \n",
       "746  Liceo Granaderos de Putre  Teniente del Campo 242, Putre         2   \n",
       "945     San Antonio de Matilla  Los Kiwis 3443, Alto Hospicio         2   \n",
       "\n",
       "                                        pregunta_glosa concepto_nombre  \\\n",
       "1    ¿Cuáles son los valores y principios más impor...      Democracia   \n",
       "142  ¿Cuáles son los valores y principios más impor...      Democracia   \n",
       "169  ¿Cuáles son los valores y principios más impor...      Democracia   \n",
       "283  ¿Cuáles son los valores y principios más impor...      Democracia   \n",
       "316  ¿Cuáles son los valores y principios más impor...      Democracia   \n",
       "363  ¿Cuáles son los valores y principios más impor...      Democracia   \n",
       "491  ¿Cuáles son los valores y principios más impor...      Democracia   \n",
       "526  ¿Cuáles son los valores y principios más impor...      Democracia   \n",
       "746  ¿Cuáles son los valores y principios más impor...      Democracia   \n",
       "945  ¿Cuáles son los valores y principios más impor...      Democracia   \n",
       "\n",
       "    concepto_otro tipo-eleccion  \\\n",
       "1             NaN             A   \n",
       "142           NaN             A   \n",
       "169           NaN             P   \n",
       "283           NaN             P   \n",
       "316           NaN             A   \n",
       "363           NaN             A   \n",
       "491           NaN             A   \n",
       "526           NaN             A   \n",
       "746           NaN             A   \n",
       "945           NaN             A   \n",
       "\n",
       "                                            fundamento  len_chars  \\\n",
       "1                                       Sin fundamento         14   \n",
       "142  Que el ciudadano pueda participar en la toma d...        141   \n",
       "169  Las condiciones actuales no constituyen democr...        118   \n",
       "283  por la estructura establecida en el dialogo an...         52   \n",
       "316  debemos pasar de una democracia representativa...         66   \n",
       "363                               por eso estamos aqui         20   \n",
       "491  Se garantice una democracia vinculante que se ...         89   \n",
       "526                    la base y el principio de todos         31   \n",
       "746  Mejorar  en todos los aspectos los sistemas de...        258   \n",
       "945  Elemento fundamental en la nueva constitución ...         54   \n",
       "\n",
       "     len_tokens_raw  \n",
       "1                 2  \n",
       "142              22  \n",
       "169              17  \n",
       "283               8  \n",
       "316               9  \n",
       "363               4  \n",
       "491              14  \n",
       "526               7  \n",
       "746              41  \n",
       "945               8  "
      ]
     },
     "execution_count": 25,
     "metadata": {},
     "output_type": "execute_result"
    }
   ],
   "source": [
    "# Subconjunto de datos para el concepto elegido\n",
    "subset.head(10)"
   ]
  },
  {
   "cell_type": "markdown",
   "id": "7435734c",
   "metadata": {},
   "source": [
    "### **06. Pre-Procesamiento de Texto**\n"
   ]
  },
  {
   "cell_type": "markdown",
   "id": "b5496745",
   "metadata": {},
   "source": [
    "#### Normalización de Texto"
   ]
  },
  {
   "cell_type": "code",
   "execution_count": 26,
   "id": "5fa531fd",
   "metadata": {},
   "outputs": [],
   "source": [
    "def normalize_text(text: str) -> str:\n",
    "    text = str(text).lower() #\n",
    "    text = unicodedata.normalize('NFKD', text).encode('ascii','ignore').decode('utf-8','ignore')  # eliminar tildes\n",
    "    text = re.sub(r'[^a-z0-9\\\\s]', ' ', text) # eliminar caracteres especiales\n",
    "    text = re.sub(r'\\\\s+', ' ', text).strip() # eliminar espacios extra\n",
    "    return text\n",
    "\n",
    "subset['texto_norm'] = subset[texto_col].apply(normalize_text)"
   ]
  },
  {
   "cell_type": "code",
   "execution_count": 32,
   "id": "675838f9",
   "metadata": {},
   "outputs": [
    {
     "data": {
      "application/vnd.microsoft.datawrangler.viewer.v0+json": {
       "columns": [
        {
         "name": "index",
         "rawType": "int64",
         "type": "integer"
        },
        {
         "name": "region_nombre",
         "rawType": "object",
         "type": "string"
        },
        {
         "name": "provincia_nombre",
         "rawType": "object",
         "type": "string"
        },
        {
         "name": "comuna_nombre",
         "rawType": "object",
         "type": "string"
        },
        {
         "name": "cabildo_id",
         "rawType": "int64",
         "type": "integer"
        },
        {
         "name": "cabildo_nombre",
         "rawType": "object",
         "type": "string"
        },
        {
         "name": "cabildo_direccion",
         "rawType": "object",
         "type": "string"
        },
        {
         "name": "num_mesa",
         "rawType": "int64",
         "type": "integer"
        },
        {
         "name": "pregunta_glosa",
         "rawType": "object",
         "type": "string"
        },
        {
         "name": "concepto_nombre",
         "rawType": "object",
         "type": "string"
        },
        {
         "name": "concepto_otro",
         "rawType": "object",
         "type": "unknown"
        },
        {
         "name": "tipo-eleccion",
         "rawType": "object",
         "type": "string"
        },
        {
         "name": "fundamento",
         "rawType": "object",
         "type": "string"
        },
        {
         "name": "len_chars",
         "rawType": "int64",
         "type": "integer"
        },
        {
         "name": "len_tokens_raw",
         "rawType": "int64",
         "type": "integer"
        },
        {
         "name": "texto_norm",
         "rawType": "object",
         "type": "string"
        },
        {
         "name": "doc",
         "rawType": "object",
         "type": "unknown"
        }
       ],
       "ref": "a7b83fbc-9145-49b8-abd0-4657dad9c97d",
       "rows": [
        [
         "1",
         "Arica y Parinacota",
         "Arica",
         "Arica",
         "81",
         "Colegio San Marcos",
         "Santa María 2140, Arica",
         "1",
         "¿Cuáles son los valores y principios más importantes que deben inspirar y dar sustento a la Constitución?",
         "Democracia",
         null,
         "A",
         "Sin fundamento",
         "14",
         "2",
         "sin fundamento",
         "[('sin', 'sin', 'ADP'), ('fundamento', 'fundamento', 'NOUN')]"
        ],
        [
         "142",
         "Arica y Parinacota",
         "Arica",
         "Arica",
         "81",
         "Colegio San Marcos",
         "Santa María 2140, Arica",
         "5",
         "¿Cuáles son los valores y principios más importantes que deben inspirar y dar sustento a la Constitución?",
         "Democracia",
         null,
         "A",
         "Que el ciudadano pueda participar en la toma de decisiones con igualdad, aceptación y respeto por el otro, considerando todas las realidades.",
         "141",
         "22",
         "que el ciudadano pueda participar en la toma de decisiones con igualdad  aceptacion y respeto por el otro  considerando todas las realidades",
         "[('que', 'que', 'SCONJ'), ('el', 'el', 'DET'), ('ciudadano', 'ciudadano', 'NOUN'), ('pueda', 'poder', 'AUX'), ('participar', 'participar', 'VERB'), ('en', 'en', 'ADP'), ('la', 'el', 'DET'), ('toma', 'toma', 'NOUN'), ('de', 'de', 'ADP'), ('decisiones', 'decisión', 'NOUN'), ('con', 'con', 'ADP'), ('igualdad', 'igualdad', 'NOUN'), ('aceptacion', 'aceptación', 'NOUN'), ('y', 'y', 'CCONJ'), ('respeto', 'respeto', 'NOUN'), ('por', 'por', 'ADP'), ('el', 'el', 'DET'), ('otro', 'otro', 'PRON'), ('considerando', 'considerar', 'VERB'), ('todas', 'todo', 'DET'), ('las', 'el', 'DET'), ('realidades', 'realidad', 'NOUN')]"
        ],
        [
         "169",
         "Arica y Parinacota",
         "Arica",
         "Arica",
         "81",
         "Colegio San Marcos",
         "Santa María 2140, Arica",
         "6",
         "¿Cuáles son los valores y principios más importantes que deben inspirar y dar sustento a la Constitución?",
         "Democracia",
         null,
         "P",
         "Las condiciones actuales no constituyen democracia. No obstante debe ser un valor fundamental en la nueva Constitucion",
         "118",
         "17",
         "las condiciones actuales no constituyen democracia  no obstante debe ser un valor fundamental en la nueva constitucion",
         "[('las', 'el', 'DET'), ('condiciones', 'condición', 'NOUN'), ('actuales', 'actual', 'ADJ'), ('no', 'no', 'ADV'), ('constituyen', 'constituir', 'VERB'), ('democracia', 'democracia', 'NOUN'), ('no', 'no', 'PART'), ('obstante', 'obstante', 'NOUN'), ('debe', 'deber', 'AUX'), ('ser', 'ser', 'AUX'), ('un', 'uno', 'DET'), ('valor', 'valor', 'NOUN'), ('fundamental', 'fundamental', 'ADJ'), ('en', 'en', 'ADP'), ('la', 'el', 'DET'), ('nueva', 'nuevo', 'ADJ'), ('constitucion', 'constitución', 'NOUN')]"
        ],
        [
         "283",
         "Arica y Parinacota",
         "Arica",
         "Arica",
         "81",
         "Colegio San Marcos",
         "Santa María 2140, Arica",
         "9",
         "¿Cuáles son los valores y principios más importantes que deben inspirar y dar sustento a la Constitución?",
         "Democracia",
         null,
         "P",
         "por la estructura establecida en el dialogo anterior",
         "52",
         "8",
         "por la estructura establecida en el dialogo anterior",
         "[('por', 'por', 'ADP'), ('la', 'el', 'DET'), ('estructura', 'estructura', 'NOUN'), ('establecida', 'establecido', 'ADJ'), ('en', 'en', 'ADP'), ('el', 'el', 'DET'), ('dialogo', 'dialogo', 'NOUN'), ('anterior', 'anterior', 'ADJ')]"
        ],
        [
         "316",
         "Arica y Parinacota",
         "Arica",
         "Arica",
         "81",
         "Colegio San Marcos",
         "Santa María 2140, Arica",
         "10",
         "¿Cuáles son los valores y principios más importantes que deben inspirar y dar sustento a la Constitución?",
         "Democracia",
         null,
         "A",
         "debemos pasar de una democracia representativa a una participativa",
         "66",
         "9",
         "debemos pasar de una democracia representativa a una participativa",
         "[('debemos', 'deber', 'AUX'), ('pasar', 'pasar', 'VERB'), ('de', 'de', 'ADP'), ('una', 'uno', 'DET'), ('democracia', 'democracia', 'NOUN'), ('representativa', 'representativo', 'ADJ'), ('a', 'a', 'ADP'), ('una', 'uno', 'DET'), ('participativa', 'participativo', 'ADJ')]"
        ],
        [
         "363",
         "Arica y Parinacota",
         "Arica",
         "Arica",
         "81",
         "Colegio San Marcos",
         "Santa María 2140, Arica",
         "11",
         "¿Cuáles son los valores y principios más importantes que deben inspirar y dar sustento a la Constitución?",
         "Democracia",
         null,
         "A",
         "por eso estamos aqui",
         "20",
         "4",
         "por eso estamos aqui",
         "[('por', 'por', 'ADP'), ('eso', 'ese', 'PRON'), ('estamos', 'estar', 'AUX'), ('aqui', 'aquí', 'ADV')]"
        ],
        [
         "491",
         "Arica y Parinacota",
         "Arica",
         "Arica",
         "81",
         "Colegio San Marcos",
         "Santa María 2140, Arica",
         "14",
         "¿Cuáles son los valores y principios más importantes que deben inspirar y dar sustento a la Constitución?",
         "Democracia",
         null,
         "A",
         "Se garantice una democracia vinculante que se apliquen topes a la acumulación de riquezas",
         "89",
         "14",
         "se garantice una democracia vinculante que se apliquen topes a la acumulacion de riquezas",
         "[('se', 'él', 'PRON'), ('garantice', 'garantizar', 'VERB'), ('una', 'uno', 'DET'), ('democracia', 'democracia', 'NOUN'), ('vinculante', 'vinculante', 'ADJ'), ('que', 'que', 'PRON'), ('se', 'él', 'PRON'), ('apliquen', 'aplicar', 'VERB'), ('topes', 'tope', 'NOUN'), ('a', 'a', 'ADP'), ('la', 'el', 'DET'), ('acumulacion', 'acumulación', 'NOUN'), ('de', 'de', 'ADP'), ('riquezas', 'riqueza', 'NOUN')]"
        ],
        [
         "526",
         "Arica y Parinacota",
         "Arica",
         "Arica",
         "81",
         "Colegio San Marcos",
         "Santa María 2140, Arica",
         "15",
         "¿Cuáles son los valores y principios más importantes que deben inspirar y dar sustento a la Constitución?",
         "Democracia",
         null,
         "A",
         "la base y el principio de todos",
         "31",
         "7",
         "la base y el principio de todos",
         "[('la', 'el', 'DET'), ('base', 'base', 'NOUN'), ('y', 'y', 'CCONJ'), ('el', 'el', 'DET'), ('principio', 'principio', 'NOUN'), ('de', 'de', 'ADP'), ('todos', 'todo', 'PRON')]"
        ],
        [
         "746",
         "Arica y Parinacota",
         "Parinacota",
         "Putre",
         "121",
         "Liceo Granaderos de Putre",
         "Teniente del Campo 242, Putre",
         "2",
         "¿Cuáles son los valores y principios más importantes que deben inspirar y dar sustento a la Constitución?",
         "Democracia",
         null,
         "A",
         "Mejorar  en todos los aspectos los sistemas democráticos de participación. No es posible que aún , en algunas instancias de votación, las postulaciones más votadas finalmente no sean las elegidas. Por ende, ahí se pasa por encima de las decisiones populares.",
         "258",
         "41",
         "mejorar  en todos los aspectos los sistemas democraticos de participacion  no es posible que aun   en algunas instancias de votacion  las postulaciones mas votadas finalmente no sean las elegidas  por ende  ahi se pasa por encima de las decisiones populares",
         "[('mejorar', 'mejorar', 'VERB'), ('en', 'en', 'ADP'), ('todos', 'todo', 'DET'), ('los', 'el', 'DET'), ('aspectos', 'aspecto', 'NOUN'), ('los', 'el', 'DET'), ('sistemas', 'sistema', 'NOUN'), ('democraticos', 'democratico', 'ADJ'), ('de', 'de', 'ADP'), ('participacion', 'participación', 'NOUN'), ('no', 'no', 'ADV'), ('es', 'ser', 'AUX'), ('posible', 'posible', 'ADJ'), ('que', 'que', 'SCONJ'), ('aun', 'aun', 'ADV'), ('en', 'en', 'ADP'), ('algunas', 'alguno', 'DET'), ('instancias', 'instancia', 'NOUN'), ('de', 'de', 'ADP'), ('votacion', 'votacion', 'NOUN'), ('las', 'el', 'DET'), ('postulaciones', 'postulación', 'NOUN'), ('mas', 'más', 'ADV'), ('votadas', 'votado', 'ADJ'), ('finalmente', 'finalmente', 'ADV'), ('no', 'no', 'ADV'), ('sean', 'ser', 'AUX'), ('las', 'el', 'DET'), ('elegidas', 'elegir', 'ADJ'), ('por', 'por', 'ADP'), ('ende', 'ende', 'NOUN'), ('ahi', 'ahí', 'ADV'), ('se', 'él', 'PRON'), ('pasa', 'pasar', 'VERB'), ('por', 'por', 'ADP'), ('encima', 'encima', 'ADV'), ('de', 'de', 'ADP'), ('las', 'el', 'DET'), ('decisiones', 'decisión', 'NOUN'), ('populares', 'popular', 'ADJ')]"
        ],
        [
         "945",
         "Tarapacá",
         "Iquique",
         "Alto Hospicio",
         "107",
         "San Antonio de Matilla",
         "Los Kiwis 3443, Alto Hospicio",
         "2",
         "¿Cuáles son los valores y principios más importantes que deben inspirar y dar sustento a la Constitución?",
         "Democracia",
         null,
         "A",
         "Elemento fundamental en la nueva constitución en Chile",
         "54",
         "8",
         "elemento fundamental en la nueva constitucion en chile",
         "[('elemento', 'elemento', 'NOUN'), ('fundamental', 'fundamental', 'ADJ'), ('en', 'en', 'ADP'), ('la', 'el', 'DET'), ('nueva', 'nuevo', 'ADJ'), ('constitucion', 'constitución', 'NOUN'), ('en', 'en', 'ADP'), ('chile', 'chile', 'NOUN')]"
        ],
        [
         "946",
         "Tarapacá",
         "Iquique",
         "Iquique",
         "106",
         "Colegio Inglés",
         "Patricio Lynch 1580, Iquique",
         "2",
         "¿Cuáles son los valores y principios más importantes que deben inspirar y dar sustento a la Constitución?",
         "Democracia",
         null,
         "A",
         "Participación del pueblo en todas las decisiones",
         "48",
         "7",
         "participacion del pueblo en todas las decisiones",
         "[('participacion', 'participación', 'NOUN'), ('de', 'de', 'ADP'), ('el', 'el', 'DET'), ('pueblo', 'pueblo', 'NOUN'), ('en', 'en', 'ADP'), ('todas', 'todo', 'DET'), ('las', 'el', 'DET'), ('decisiones', 'decisión', 'NOUN')]"
        ],
        [
         "1045",
         "Tarapacá",
         "Iquique",
         "Alto Hospicio",
         "107",
         "San Antonio de Matilla",
         "Los Kiwis 3443, Alto Hospicio",
         "3",
         "¿Cuáles son los valores y principios más importantes que deben inspirar y dar sustento a la Constitución?",
         "Democracia",
         null,
         "A",
         "Democracia participativa y resolutiva\nIncluir pueblos originarios",
         "65",
         "7",
         "democracia participativa y resolutiva incluir pueblos originarios",
         "[('democracia', 'democracia', 'NOUN'), ('participativa', 'participativo', 'ADJ'), ('y', 'y', 'CCONJ'), ('resolutiva', 'resolutivo', 'ADJ'), ('incluir', 'incluir', 'VERB'), ('pueblos', 'pueblo', 'NOUN'), ('originarios', 'originario', 'ADJ')]"
        ],
        [
         "1046",
         "Tarapacá",
         "Iquique",
         "Iquique",
         "106",
         "Colegio Inglés",
         "Patricio Lynch 1580, Iquique",
         "3",
         "¿Cuáles son los valores y principios más importantes que deben inspirar y dar sustento a la Constitución?",
         "Democracia",
         null,
         "A",
         "La decisión soberana debe ser del pueblo. Posibilidad de elegir a nuestros representantes.",
         "90",
         "13",
         "la decision soberana debe ser del pueblo  posibilidad de elegir a nuestros representantes",
         "[('la', 'el', 'DET'), ('decision', 'decisión', 'NOUN'), ('soberana', 'soberano', 'ADJ'), ('debe', 'deber', 'AUX'), ('ser', 'ser', 'AUX'), ('de', 'de', 'ADP'), ('el', 'el', 'DET'), ('pueblo', 'pueblo', 'NOUN'), ('posibilidad', 'posibilidad', 'NOUN'), ('de', 'de', 'ADP'), ('elegir', 'elegir', 'VERB'), ('a', 'a', 'ADP'), ('nuestros', 'nuestro', 'DET'), ('representantes', 'representante', 'NOUN')]"
        ],
        [
         "1134",
         "Tarapacá",
         "Iquique",
         "Iquique",
         "106",
         "Colegio Inglés",
         "Patricio Lynch 1580, Iquique",
         "4",
         "¿Cuáles son los valores y principios más importantes que deben inspirar y dar sustento a la Constitución?",
         "Democracia",
         null,
         "A",
         "Es fundamental este principio para la sociedad actual y establecer mecanismos que la protejan. para que la ciudadanía decida lo que les parezca mejor a su desarrollo",
         "165",
         "27",
         "es fundamental este principio para la sociedad actual y establecer mecanismos que la protejan  para que la ciudadania decida lo que les parezca mejor a su desarrollo",
         "[('es', 'ser', 'AUX'), ('fundamental', 'fundamental', 'ADJ'), ('este', 'este', 'DET'), ('principio', 'principio', 'NOUN'), ('para', 'para', 'ADP'), ('la', 'el', 'DET'), ('sociedad', 'sociedad', 'NOUN'), ('actual', 'actual', 'ADJ'), ('y', 'y', 'CCONJ'), ('establecer', 'establecer', 'VERB'), ('mecanismos', 'mecanismo', 'NOUN'), ('que', 'que', 'PRON'), ('la', 'él', 'PRON'), ('protejan', 'proteger', 'VERB'), ('para', 'para', 'ADP'), ('que', 'que', 'SCONJ'), ('la', 'el', 'DET'), ('ciudadania', 'ciudadanía', 'NOUN'), ('decida', 'decidir', 'VERB'), ('lo', 'él', 'PRON'), ('que', 'que', 'PRON'), ('les', 'él', 'PRON'), ('parezca', 'parecer', 'VERB'), ('mejor', 'mejor', 'ADJ'), ('a', 'a', 'ADP'), ('su', 'su', 'DET'), ('desarrollo', 'desarrollo', 'NOUN')]"
        ],
        [
         "1169",
         "Tarapacá",
         "Iquique",
         "Iquique",
         "106",
         "Colegio Inglés",
         "Patricio Lynch 1580, Iquique",
         "5",
         "¿Cuáles son los valores y principios más importantes que deben inspirar y dar sustento a la Constitución?",
         "Democracia",
         null,
         "P",
         "Este concepto no es considerado por el grupo como un valor o principio sino una forma de régimen político",
         "105",
         "19",
         "este concepto no es considerado por el grupo como un valor o principio sino una forma de regimen politico",
         "[('este', 'este', 'DET'), ('concepto', 'concepto', 'NOUN'), ('no', 'no', 'ADV'), ('es', 'ser', 'AUX'), ('considerado', 'considerar', 'VERB'), ('por', 'por', 'ADP'), ('el', 'el', 'DET'), ('grupo', 'grupo', 'NOUN'), ('como', 'como', 'SCONJ'), ('un', 'uno', 'DET'), ('valor', 'valor', 'NOUN'), ('o', 'o', 'CCONJ'), ('principio', 'principio', 'NOUN'), ('sino', 'sino', 'CCONJ'), ('una', 'uno', 'DET'), ('forma', 'forma', 'NOUN'), ('de', 'de', 'ADP'), ('regimen', 'regimen', 'NOUN'), ('politico', 'politico', 'ADJ')]"
        ],
        [
         "1218",
         "Tarapacá",
         "Iquique",
         "Iquique",
         "106",
         "Colegio Inglés",
         "Patricio Lynch 1580, Iquique",
         "6",
         "¿Cuáles son los valores y principios más importantes que deben inspirar y dar sustento a la Constitución?",
         "Democracia",
         null,
         "A",
         "La democracia es importante ya que es la garantía que el Estado propenda a tomar las decisiones que la mayoría desea.",
         "117",
         "21",
         "la democracia es importante ya que es la garantia que el estado propenda a tomar las decisiones que la mayoria desea",
         "[('la', 'el', 'DET'), ('democracia', 'democracia', 'NOUN'), ('es', 'ser', 'AUX'), ('importante', 'importante', 'ADJ'), ('ya', 'ya', 'ADV'), ('que', 'que', 'SCONJ'), ('es', 'ser', 'AUX'), ('la', 'el', 'DET'), ('garantia', 'garantia', 'NOUN'), ('que', 'que', 'PRON'), ('el', 'el', 'DET'), ('estado', 'estado', 'NOUN'), ('propenda', 'propender', 'VERB'), ('a', 'a', 'ADP'), ('tomar', 'tomar', 'VERB'), ('las', 'el', 'DET'), ('decisiones', 'decisión', 'NOUN'), ('que', 'que', 'PRON'), ('la', 'el', 'DET'), ('mayoria', 'mayoria', 'NOUN'), ('desea', 'desear', 'VERB')]"
        ],
        [
         "1250",
         "Tarapacá",
         "Iquique",
         "Iquique",
         "106",
         "Colegio Inglés",
         "Patricio Lynch 1580, Iquique",
         "7",
         "¿Cuáles son los valores y principios más importantes que deben inspirar y dar sustento a la Constitución?",
         "Democracia",
         null,
         "A",
         "Que se amplíen y se garanticen los mecanismos de participación ciudadana; Asamblea Constituyente y que esta sea vinculante.",
         "123",
         "18",
         "que se amplien y se garanticen los mecanismos de participacion ciudadana  asamblea constituyente y que esta sea vinculante",
         "[('que', 'que', 'SCONJ'), ('se', 'él', 'PRON'), ('amplien', 'ampliar', 'VERB'), ('y', 'y', 'CCONJ'), ('se', 'él', 'PRON'), ('garanticen', 'garantizar', 'VERB'), ('los', 'el', 'DET'), ('mecanismos', 'mecanismo', 'NOUN'), ('de', 'de', 'ADP'), ('participacion', 'participación', 'NOUN'), ('ciudadana', 'ciudadano', 'ADJ'), ('asamblea', 'asamblea', 'NOUN'), ('constituyente', 'constituyente', 'ADJ'), ('y', 'y', 'CCONJ'), ('que', 'que', 'PRON'), ('esta', 'este', 'PRON'), ('sea', 'ser', 'AUX'), ('vinculante', 'vinculante', 'ADJ')]"
        ],
        [
         "1284",
         "Tarapacá",
         "El Tamarugal",
         "Pozo Almonte",
         "141",
         "Escuela Básica de Pozo Almonte",
         "La cascada 86, Pozo Almonte",
         "1",
         "¿Cuáles son los valores y principios más importantes que deben inspirar y dar sustento a la Constitución?",
         "Democracia",
         null,
         "A",
         "- Mas participación de los ciudadanos en  la toma de decisiones.",
         "64",
         "11",
         "mas participacion de los ciudadanos en  la toma de decisiones",
         "[('mas', 'más', 'ADV'), ('participacion', 'participación', 'NOUN'), ('de', 'de', 'ADP'), ('los', 'el', 'DET'), ('ciudadanos', 'ciudadano', 'NOUN'), ('en', 'en', 'ADP'), ('la', 'el', 'DET'), ('toma', 'toma', 'NOUN'), ('de', 'de', 'ADP'), ('decisiones', 'decisión', 'NOUN')]"
        ],
        [
         "1331",
         "Tarapacá",
         "El Tamarugal",
         "Pozo Almonte",
         "141",
         "Escuela Básica de Pozo Almonte",
         "La cascada 86, Pozo Almonte",
         "2",
         "¿Cuáles son los valores y principios más importantes que deben inspirar y dar sustento a la Constitución?",
         "Democracia",
         null,
         "A",
         "Que se define como el poder del pueblo. Donde el gobierno del pueblo por y para el pueblo.\nEntonces: para nosotros según esto, la democracia no se aplica como debería ser.",
         "171",
         "31",
         "que se define como el poder del pueblo  donde el gobierno del pueblo por y para el pueblo  entonces  para nosotros segun esto  la democracia no se aplica como deberia ser",
         "[('que', 'que', 'PRON'), ('se', 'él', 'PRON'), ('define', 'definir', 'VERB'), ('como', 'como', 'SCONJ'), ('el', 'el', 'DET'), ('poder', 'poder', 'NOUN'), ('de', 'de', 'ADP'), ('el', 'el', 'DET'), ('pueblo', 'pueblo', 'NOUN'), ('donde', 'donde', 'ADV'), ('el', 'el', 'DET'), ('gobierno', 'gobierno', 'NOUN'), ('de', 'de', 'ADP'), ('el', 'el', 'DET'), ('pueblo', 'pueblo', 'NOUN'), ('por', 'por', 'ADP'), ('y', 'y', 'CCONJ'), ('para', 'para', 'ADP'), ('el', 'el', 'DET'), ('pueblo', 'pueblo', 'NOUN'), ('entonces', 'entonces', 'ADV'), ('para', 'para', 'ADP'), ('nosotros', 'yo', 'PRON'), ('segun', 'seguir', 'VERB'), ('esto', 'este', 'PRON'), ('la', 'el', 'DET'), ('democracia', 'democracia', 'NOUN'), ('no', 'no', 'ADV'), ('se', 'él', 'PRON'), ('aplica', 'aplicar', 'VERB'), ('como', 'como', 'SCONJ'), ('deberia', 'deber', 'VERB'), ('ser', 'ser', 'AUX')]"
        ],
        [
         "1380",
         "Tarapacá",
         "El Tamarugal",
         "Pozo Almonte",
         "141",
         "Escuela Básica de Pozo Almonte",
         "La cascada 86, Pozo Almonte",
         "3",
         "¿Cuáles son los valores y principios más importantes que deben inspirar y dar sustento a la Constitución?",
         "Democracia",
         null,
         "A",
         "Sin argumentar.",
         "15",
         "2",
         "sin argumentar",
         "[('sin', 'sin', 'ADP'), ('argumentar', 'argumentar', 'VERB')]"
        ],
        [
         "1421",
         "Tarapacá",
         "El Tamarugal",
         "Pozo Almonte",
         "141",
         "Escuela Básica de Pozo Almonte",
         "La cascada 86, Pozo Almonte",
         "4",
         "¿Cuáles son los valores y principios más importantes que deben inspirar y dar sustento a la Constitución?",
         "Democracia",
         null,
         "A",
         "Estamos de acuerdo que se consagre en la constitución.",
         "54",
         "9",
         "estamos de acuerdo que se consagre en la constitucion",
         "[('estamos', 'estar', 'AUX'), ('de', 'de', 'ADP'), ('acuerdo', 'acuerdo', 'NOUN'), ('que', 'que', 'SCONJ'), ('se', 'él', 'PRON'), ('consagre', 'consagrar', 'VERB'), ('en', 'en', 'ADP'), ('la', 'el', 'DET'), ('constitucion', 'constitución', 'NOUN')]"
        ],
        [
         "1506",
         "Tarapacá",
         "El Tamarugal",
         "Pozo Almonte",
         "141",
         "Escuela Básica de Pozo Almonte",
         "La cascada 86, Pozo Almonte",
         "6",
         "¿Cuáles son los valores y principios más importantes que deben inspirar y dar sustento a la Constitución?",
         "Democracia",
         null,
         "A",
         "Estamos de acuerdo que la democracia sea una prioridad en la reforma constituyente.",
         "83",
         "13",
         "estamos de acuerdo que la democracia sea una prioridad en la reforma constituyente",
         "[('estamos', 'estar', 'AUX'), ('de', 'de', 'ADP'), ('acuerdo', 'acuerdo', 'NOUN'), ('que', 'que', 'SCONJ'), ('la', 'el', 'DET'), ('democracia', 'democracia', 'NOUN'), ('sea', 'ser', 'AUX'), ('una', 'uno', 'DET'), ('prioridad', 'prioridad', 'NOUN'), ('en', 'en', 'ADP'), ('la', 'el', 'DET'), ('reforma', 'reforma', 'NOUN'), ('constituyente', 'constituyente', 'ADJ')]"
        ],
        [
         "1551",
         "Tarapacá",
         "El Tamarugal",
         "Pozo Almonte",
         "141",
         "Escuela Básica de Pozo Almonte",
         "La cascada 86, Pozo Almonte",
         "7",
         "¿Cuáles son los valores y principios más importantes que deben inspirar y dar sustento a la Constitución?",
         "Democracia",
         null,
         "A",
         "Se acepta la propuesta oficial pero el grupo definio la democracia como  la centralidad. Por ejemplo \" descentralizacion debe ser en marco democrático\". Todos los principios en un marco democrático.",
         "198",
         "30",
         "se acepta la propuesta oficial pero el grupo definio la democracia como  la centralidad  por ejemplo   descentralizacion debe ser en marco democratico   todos los principios en un marco democratico",
         "[('se', 'él', 'PRON'), ('acepta', 'aceptar', 'VERB'), ('la', 'el', 'DET'), ('propuesta', 'propuesta', 'NOUN'), ('oficial', 'oficial', 'ADJ'), ('pero', 'pero', 'CCONJ'), ('el', 'el', 'DET'), ('grupo', 'grupo', 'NOUN'), ('definio', 'definir', 'VERB'), ('la', 'el', 'DET'), ('democracia', 'democracia', 'NOUN'), ('como', 'como', 'SCONJ'), ('la', 'el', 'DET'), ('centralidad', 'centralidad', 'NOUN'), ('por', 'por', 'ADP'), ('ejemplo', 'ejemplo', 'NOUN'), ('descentralizacion', 'descentralización', 'NOUN'), ('debe', 'deber', 'AUX'), ('ser', 'ser', 'AUX'), ('en', 'en', 'ADP'), ('marco', 'marco', 'NOUN'), ('democratico', 'democratico', 'ADJ'), ('todos', 'todo', 'DET'), ('los', 'el', 'DET'), ('principios', 'principio', 'NOUN'), ('en', 'en', 'ADP'), ('un', 'uno', 'DET'), ('marco', 'marco', 'NOUN'), ('democratico', 'democratico', 'ADJ')]"
        ],
        [
         "1587",
         "Antofagasta",
         "Antofagasta",
         "Antofagasta",
         "79",
         "Colegio Don Bosco",
         "Huamachuco 9567, Antofagasta",
         "1",
         "¿Cuáles son los valores y principios más importantes que deben inspirar y dar sustento a la Constitución?",
         "Democracia",
         null,
         "A",
         "participativa",
         "13",
         "1",
         "participativa",
         "[('participativa', 'participativo', 'ADJ')]"
        ],
        [
         "1628",
         "Antofagasta",
         "Antofagasta",
         "Antofagasta",
         "79",
         "Colegio Don Bosco",
         "Huamachuco 9567, Antofagasta",
         "2",
         "¿Cuáles son los valores y principios más importantes que deben inspirar y dar sustento a la Constitución?",
         "Democracia",
         null,
         "A",
         "Todos están de acuerdo que la democracia.",
         "41",
         "7",
         "todos estan de acuerdo que la democracia",
         "[('todos', 'todo', 'PRON'), ('estan', 'estar', 'VERB'), ('de', 'de', 'ADP'), ('acuerdo', 'acuerdo', 'NOUN'), ('que', 'que', 'SCONJ'), ('la', 'el', 'DET'), ('democracia', 'democracia', 'NOUN')]"
        ],
        [
         "1682",
         "Antofagasta",
         "Antofagasta",
         "Antofagasta",
         "79",
         "Colegio Don Bosco",
         "Huamachuco 9567, Antofagasta",
         "3",
         "¿Cuáles son los valores y principios más importantes que deben inspirar y dar sustento a la Constitución?",
         "Democracia",
         null,
         "A",
         "debe ser participativa con mecanismos que la garanticen.\nprincipio rector de ella la participación ciudadana.\nmecanismos de consulta ciudadana vinculante.",
         "154",
         "20",
         "debe ser participativa con mecanismos que la garanticen  principio rector de ella la participacion ciudadana  mecanismos de consulta ciudadana vinculante",
         "[('debe', 'deber', 'AUX'), ('ser', 'ser', 'AUX'), ('participativa', 'participativo', 'ADJ'), ('con', 'con', 'ADP'), ('mecanismos', 'mecanismo', 'NOUN'), ('que', 'que', 'PRON'), ('la', 'él', 'PRON'), ('garanticen', 'garantizar', 'VERB'), ('principio', 'principio', 'NOUN'), ('rector', 'rector', 'ADJ'), ('de', 'de', 'ADP'), ('ella', 'él', 'PRON'), ('la', 'el', 'DET'), ('participacion', 'participación', 'NOUN'), ('ciudadana', 'ciudadano', 'ADJ'), ('mecanismos', 'mecanismo', 'NOUN'), ('de', 'de', 'ADP'), ('consulta', 'consulta', 'NOUN'), ('ciudadana', 'ciudadano', 'ADJ'), ('vinculante', 'vinculante', 'ADJ')]"
        ],
        [
         "1722",
         "Antofagasta",
         "Antofagasta",
         "Antofagasta",
         "79",
         "Colegio Don Bosco",
         "Huamachuco 9567, Antofagasta",
         "4",
         "¿Cuáles son los valores y principios más importantes que deben inspirar y dar sustento a la Constitución?",
         "Democracia",
         null,
         "A",
         "Porque se entiende como el sistema de gobierno del pueblo que garantiza la participación ciudadana en todos los ámbitos.",
         "120",
         "19",
         "porque se entiende como el sistema de gobierno del pueblo que garantiza la participacion ciudadana en todos los ambitos",
         "[('porque', 'porque', 'SCONJ'), ('se', 'él', 'PRON'), ('entiende', 'entender', 'VERB'), ('como', 'como', 'SCONJ'), ('el', 'el', 'DET'), ('sistema', 'sistema', 'NOUN'), ('de', 'de', 'ADP'), ('gobierno', 'gobierno', 'NOUN'), ('de', 'de', 'ADP'), ('el', 'el', 'DET'), ('pueblo', 'pueblo', 'NOUN'), ('que', 'que', 'PRON'), ('garantiza', 'garantizar', 'VERB'), ('la', 'el', 'DET'), ('participacion', 'participación', 'NOUN'), ('ciudadana', 'ciudadano', 'ADJ'), ('en', 'en', 'ADP'), ('todos', 'todo', 'DET'), ('los', 'el', 'DET'), ('ambitos', 'ambito', 'NOUN')]"
        ],
        [
         "1767",
         "Antofagasta",
         "Antofagasta",
         "Antofagasta",
         "79",
         "Colegio Don Bosco",
         "Huamachuco 9567, Antofagasta",
         "5",
         "¿Cuáles son los valores y principios más importantes que deben inspirar y dar sustento a la Constitución?",
         "Democracia",
         null,
         "A",
         "sin este valor no podría ser un estado",
         "38",
         "8",
         "sin este valor no podria ser un estado",
         "[('sin', 'sin', 'ADP'), ('este', 'este', 'DET'), ('valor', 'valor', 'NOUN'), ('no', 'no', 'ADV'), ('podria', 'poder', 'AUX'), ('ser', 'ser', 'AUX'), ('un', 'uno', 'DET'), ('estado', 'estado', 'NOUN')]"
        ],
        [
         "1866",
         "Antofagasta",
         "Antofagasta",
         "Antofagasta",
         "79",
         "Colegio Don Bosco",
         "Huamachuco 9567, Antofagasta",
         "7",
         "¿Cuáles son los valores y principios más importantes que deben inspirar y dar sustento a la Constitución?",
         "Democracia",
         null,
         "A",
         "Basada en un estado social de derecho y participativa",
         "53",
         "9",
         "basada en un estado social de derecho y participativa",
         "[('basada', 'basado', 'ADJ'), ('en', 'en', 'ADP'), ('un', 'uno', 'DET'), ('estado', 'estado', 'NOUN'), ('social', 'social', 'ADJ'), ('de', 'de', 'ADP'), ('derecho', 'derecho', 'NOUN'), ('y', 'y', 'CCONJ'), ('participativa', 'participativo', 'ADJ')]"
        ],
        [
         "1917",
         "Antofagasta",
         "Antofagasta",
         "Antofagasta",
         "79",
         "Colegio Don Bosco",
         "Huamachuco 9567, Antofagasta",
         "8",
         "¿Cuáles son los valores y principios más importantes que deben inspirar y dar sustento a la Constitución?",
         "Democracia",
         null,
         "A",
         "Piedra angular de la nueva constitución\nun Estado que respete a sus ciudadanos y garantice sus derechos",
         "103",
         "17",
         "piedra angular de la nueva constitucion un estado que respete a sus ciudadanos y garantice sus derechos",
         "[('piedra', 'piedra', 'NOUN'), ('angular', 'angular', 'ADJ'), ('de', 'de', 'ADP'), ('la', 'el', 'DET'), ('nueva', 'nuevo', 'ADJ'), ('constitucion', 'constitución', 'NOUN'), ('un', 'uno', 'DET'), ('estado', 'estado', 'NOUN'), ('que', 'que', 'PRON'), ('respete', 'respetar', 'VERB'), ('a', 'a', 'ADP'), ('sus', 'su', 'DET'), ('ciudadanos', 'ciudadano', 'NOUN'), ('y', 'y', 'CCONJ'), ('garantice', 'garantizar', 'VERB'), ('sus', 'su', 'DET'), ('derechos', 'derecho', 'NOUN')]"
        ],
        [
         "1945",
         "Antofagasta",
         "Antofagasta",
         "Antofagasta",
         "79",
         "Colegio Don Bosco",
         "Huamachuco 9567, Antofagasta",
         "9",
         "¿Cuáles son los valores y principios más importantes que deben inspirar y dar sustento a la Constitución?",
         "Democracia",
         null,
         "A",
         "DEBE ESTAR PERO CON MATICES. REPRESENTATIVA Y CON REPRESENTACION DE RESPONSABILIDAD DE AUTORIDADES ELECTAS, NO SE DEBE SOMETER A LOS PROCESOS ELECCIONARIOS PARTICIPACION Y COMPETENCIA COMO PILARES. CONSULTAS CIUDADANAS. DEMOCRACIA PARTICIPATIVA Y VINCULANTE. CALIDAD DE AUTORIDADES.",
         "282",
         "36",
         "debe estar pero con matices  representativa y con representacion de responsabilidad de autoridades electas  no se debe someter a los procesos eleccionarios participacion y competencia como pilares  consultas ciudadanas  democracia participativa y vinculante  calidad de autoridades",
         "[('debe', 'deber', 'AUX'), ('estar', 'estar', 'AUX'), ('pero', 'pero', 'CCONJ'), ('con', 'con', 'ADP'), ('matices', 'matiz', 'NOUN'), ('representativa', 'representativo', 'ADJ'), ('y', 'y', 'CCONJ'), ('con', 'con', 'ADP'), ('representacion', 'representación', 'NOUN'), ('de', 'de', 'ADP'), ('responsabilidad', 'responsabilidad', 'NOUN'), ('de', 'de', 'ADP'), ('autoridades', 'autoridad', 'NOUN'), ('electas', 'electo', 'ADJ'), ('no', 'no', 'ADV'), ('se', 'él', 'PRON'), ('debe', 'deber', 'AUX'), ('someter', 'someter', 'VERB'), ('a', 'a', 'ADP'), ('los', 'el', 'DET'), ('procesos', 'proceso', 'NOUN'), ('eleccionarios', 'eleccionario', 'ADJ'), ('participacion', 'participación', 'NOUN'), ('y', 'y', 'CCONJ'), ('competencia', 'competencia', 'NOUN'), ('como', 'como', 'SCONJ'), ('pilares', 'pilar', 'NOUN'), ('consultas', 'consulta', 'NOUN'), ('ciudadanas', 'ciudadana', 'ADJ'), ('democracia', 'democracia', 'NOUN'), ('participativa', 'participativo', 'ADJ'), ('y', 'y', 'CCONJ'), ('vinculante', 'vinculante', 'ADJ'), ('calidad', 'calidad', 'NOUN'), ('de', 'de', 'ADP'), ('autoridades', 'autoridad', 'NOUN')]"
        ],
        [
         "2001",
         "Antofagasta",
         "Antofagasta",
         "Antofagasta",
         "79",
         "Colegio Don Bosco",
         "Huamachuco 9567, Antofagasta",
         "10",
         "¿Cuáles son los valores y principios más importantes que deben inspirar y dar sustento a la Constitución?",
         "Democracia",
         null,
         "A",
         "Sin descripción en fundamentos",
         "30",
         "4",
         "sin descripcion en fundamentos",
         "[('sin', 'sin', 'ADP'), ('descripcion', 'descripción', 'NOUN'), ('en', 'en', 'ADP'), ('fundamentos', 'fundamento', 'NOUN')]"
        ],
        [
         "2051",
         "Antofagasta",
         "Antofagasta",
         "Antofagasta",
         "79",
         "Colegio Don Bosco",
         "Huamachuco 9567, Antofagasta",
         "11",
         "¿Cuáles son los valores y principios más importantes que deben inspirar y dar sustento a la Constitución?",
         "Democracia",
         null,
         "A",
         "FUNDAMENTAL\nTIENE QUE RECONOCER LOS TERRITOIROS\nDIFERENCIAS ETNICAS.",
         "68",
         "8",
         "fundamental tiene que reconocer los territoiros diferencias etnicas",
         "[('fundamental', 'fundamental', 'ADJ'), ('tiene', 'tener', 'VERB'), ('que', 'que', 'SCONJ'), ('reconocer', 'reconocer', 'VERB'), ('los', 'el', 'DET'), ('territoiros', 'territoiro', 'NOUN'), ('diferencias', 'diferencia', 'NOUN'), ('etnicas', 'etnico', 'ADJ')]"
        ],
        [
         "2137",
         "Antofagasta",
         "El Loa",
         "Calama",
         "102",
         "Liceo Jorge Alessandri Rodriguez",
         "Granaderos 3464, Calama",
         "17",
         "¿Cuáles son los valores y principios más importantes que deben inspirar y dar sustento a la Constitución?",
         "Democracia",
         null,
         "P",
         "LAS VOTACIONES FUERON\nACUERDO:47,4%\nACUERDO PARCIAL: 52,6%",
         "58",
         "7",
         "las votaciones fueron acuerdo 47 4  acuerdo parcial  52 6",
         "[('las', 'el', 'DET'), ('votaciones', 'votación', 'NOUN'), ('fueron', 'ser', 'AUX'), ('acuerdo', 'acuerdo', 'NOUN'), ('47', '47', 'NUM'), ('4', '4', 'NUM'), ('acuerdo', 'acuerdo', 'NOUN'), ('parcial', 'parcial', 'ADJ'), ('52', '52', 'NUM'), ('6', '6', 'NUM')]"
        ],
        [
         "2191",
         "Antofagasta",
         "El Loa",
         "Calama",
         "102",
         "Liceo Jorge Alessandri Rodriguez",
         "Granaderos 3464, Calama",
         "18",
         "¿Cuáles son los valores y principios más importantes que deben inspirar y dar sustento a la Constitución?",
         "Democracia",
         null,
         "A",
         "1) COMO BASE PARA EL DIALOGO Y PARTICIPACIÓN DE TODOS COMO CIUDADANOS PARA CONSTRUIR, UNA SOCIEDAD MÁS JUSTA; CON CIUDADANOS MÁS COMPROMETIDOS; CON NUESTRO QUEHACER EN LA CONSTRUCCIÓN DESDE LA JUNTA DE VECINOS, LA COMUNA Y LA PROVINCIA PARA CONSTRUIR UNA DEMOCRACIA DESDE LA BASE SOCIAL.",
         "287",
         "46",
         "1  como base para el dialogo y participacion de todos como ciudadanos para construir  una sociedad mas justa  con ciudadanos mas comprometidos  con nuestro quehacer en la construccion desde la junta de vecinos  la comuna y la provincia para construir una democracia desde la base social",
         "[('1', '1', 'NUM'), ('como', 'como', 'SCONJ'), ('base', 'base', 'NOUN'), ('para', 'para', 'ADP'), ('el', 'el', 'DET'), ('dialogo', 'dialogo', 'NOUN'), ('y', 'y', 'CCONJ'), ('participacion', 'participación', 'NOUN'), ('de', 'de', 'ADP'), ('todos', 'todo', 'PRON'), ('como', 'como', 'SCONJ'), ('ciudadanos', 'ciudadano', 'NOUN'), ('para', 'para', 'ADP'), ('construir', 'construir', 'VERB'), ('una', 'uno', 'DET'), ('sociedad', 'sociedad', 'NOUN'), ('mas', 'más', 'ADV'), ('justa', 'justo', 'ADJ'), ('con', 'con', 'ADP'), ('ciudadanos', 'ciudadano', 'NOUN'), ('mas', 'más', 'ADV'), ('comprometidos', 'comprometido', 'ADJ'), ('con', 'con', 'ADP'), ('nuestro', 'nuestro', 'DET'), ('quehacer', 'quehacer', 'NOUN'), ('en', 'en', 'ADP'), ('la', 'el', 'DET'), ('construccion', 'construcción', 'NOUN'), ('desde', 'desde', 'ADP'), ('la', 'el', 'DET'), ('junta', 'junta', 'NOUN'), ('de', 'de', 'ADP'), ('vecinos', 'vecino', 'NOUN'), ('la', 'el', 'DET'), ('comuna', 'comuna', 'NOUN'), ('y', 'y', 'CCONJ'), ('la', 'el', 'DET'), ('provincia', 'provincia', 'NOUN'), ('para', 'para', 'ADP'), ('construir', 'construir', 'VERB'), ('una', 'uno', 'DET'), ('democracia', 'democracia', 'NOUN'), ('desde', 'desde', 'ADP'), ('la', 'el', 'DET'), ('base', 'base', 'NOUN'), ('social', 'social', 'ADJ')]"
        ],
        [
         "2283",
         "Antofagasta",
         "El Loa",
         "Calama",
         "102",
         "Liceo Jorge Alessandri Rodriguez",
         "Granaderos 3464, Calama",
         "21",
         "¿Cuáles son los valores y principios más importantes que deben inspirar y dar sustento a la Constitución?",
         "Democracia",
         null,
         "A",
         "No hay democracia en Chile. Para llegar a una verdadera democracia se exige Asamblea Constituyente Vinculante. Esencial y fundamental apara cada pueblo para cambiar la actual Constitución dejada por la dictadura",
         "211",
         "31",
         "no hay democracia en chile  para llegar a una verdadera democracia se exige asamblea constituyente vinculante  esencial y fundamental apara cada pueblo para cambiar la actual constitucion dejada por la dictadura",
         "[('no', 'no', 'ADV'), ('hay', 'haber', 'VERB'), ('democracia', 'democracia', 'NOUN'), ('en', 'en', 'ADP'), ('chile', 'chile', 'NOUN'), ('para', 'para', 'ADP'), ('llegar', 'llegar', 'VERB'), ('a', 'a', 'ADP'), ('una', 'uno', 'DET'), ('verdadera', 'verdadero', 'ADJ'), ('democracia', 'democracia', 'NOUN'), ('se', 'él', 'PRON'), ('exige', 'exigir', 'VERB'), ('asamblea', 'asamblea', 'NOUN'), ('constituyente', 'constituyente', 'ADJ'), ('vinculante', 'vinculante', 'ADJ'), ('esencial', 'esencial', 'ADJ'), ('y', 'y', 'CCONJ'), ('fundamental', 'fundamental', 'ADJ'), ('apara', 'apara', 'ADP'), ('cada', 'cada', 'DET'), ('pueblo', 'pueblo', 'NOUN'), ('para', 'para', 'ADP'), ('cambiar', 'cambiar', 'VERB'), ('la', 'el', 'DET'), ('actual', 'actual', 'ADJ'), ('constitucion', 'constitución', 'NOUN'), ('dejada', 'dejado', 'ADJ'), ('por', 'por', 'ADP'), ('la', 'el', 'DET'), ('dictadura', 'dictadura', 'NOUN')]"
        ],
        [
         "2311",
         "Antofagasta",
         "El Loa",
         "Calama",
         "102",
         "Liceo Jorge Alessandri Rodriguez",
         "Granaderos 3464, Calama",
         "22",
         "¿Cuáles son los valores y principios más importantes que deben inspirar y dar sustento a la Constitución?",
         "Democracia",
         null,
         "A",
         "LA DEMOCRACIA ES LA AUNICA FORMA DE GOBERNAR EL PAIS Y SE DEBE ASEGURAR QUE SEA VERDADERAMENTE EFECTIVA Y QUE NO GOBIERNE SOLO UNOS POCOS",
         "137",
         "25",
         "la democracia es la aunica forma de gobernar el pais y se debe asegurar que sea verdaderamente efectiva y que no gobierne solo unos pocos",
         "[('la', 'el', 'DET'), ('democracia', 'democracia', 'NOUN'), ('es', 'ser', 'AUX'), ('la', 'el', 'DET'), ('aunica', 'aunico', 'ADJ'), ('forma', 'forma', 'NOUN'), ('de', 'de', 'ADP'), ('gobernar', 'gobernar', 'VERB'), ('el', 'el', 'DET'), ('pais', 'país', 'NOUN'), ('y', 'y', 'CCONJ'), ('se', 'él', 'PRON'), ('debe', 'deber', 'AUX'), ('asegurar', 'asegurar', 'VERB'), ('que', 'que', 'SCONJ'), ('sea', 'ser', 'AUX'), ('verdaderamente', 'verdaderamente', 'ADV'), ('efectiva', 'efectivo', 'ADJ'), ('y', 'y', 'CCONJ'), ('que', 'que', 'PRON'), ('no', 'no', 'ADV'), ('gobierne', 'gobernar', 'VERB'), ('solo', 'sólo', 'ADV'), ('unos', 'uno', 'DET'), ('pocos', 'poco', 'PRON')]"
        ],
        [
         "2345",
         "Antofagasta",
         "Tocopilla",
         "Tocopilla",
         "143",
         "Liceo Domingo Latrille",
         "Av. 18 de Septiembre s/n, Tocopilla",
         "1",
         "¿Cuáles son los valores y principios más importantes que deben inspirar y dar sustento a la Constitución?",
         "Democracia",
         null,
         "A",
         "preferencia geopolítica al ejercicio municipal prinvincial y regional",
         "69",
         "8",
         "preferencia geopolitica al ejercicio municipal prinvincial y regional",
         "[('preferencia', 'preferencia', 'NOUN'), ('geopolitica', 'geopolítico', 'ADJ'), ('a', 'a', 'ADP'), ('el', 'el', 'DET'), ('ejercicio', 'ejercicio', 'NOUN'), ('municipal', 'municipal', 'ADJ'), ('prinvincial', 'prinvincial', 'ADJ'), ('y', 'y', 'CCONJ'), ('regional', 'regional', 'ADJ')]"
        ],
        [
         "2388",
         "Antofagasta",
         "Tocopilla",
         "Tocopilla",
         "143",
         "Liceo Domingo Latrille",
         "Av. 18 de Septiembre s/n, Tocopilla",
         "2",
         "¿Cuáles son los valores y principios más importantes que deben inspirar y dar sustento a la Constitución?",
         "Democracia",
         null,
         "A",
         "SI LAS NORMAS Y VALORES REGULA LA PAZ Y JUSTICIA Y EXISTA UN MAYOR DESARROLLO CONSTITUCIONAL",
         "92",
         "16",
         "si las normas y valores regula la paz y justicia y exista un mayor desarrollo constitucional",
         "[('si', 'si', 'SCONJ'), ('las', 'el', 'DET'), ('normas', 'norma', 'NOUN'), ('y', 'y', 'CCONJ'), ('valores', 'valor', 'NOUN'), ('regula', 'regular', 'VERB'), ('la', 'el', 'DET'), ('paz', 'paz', 'NOUN'), ('y', 'y', 'CCONJ'), ('justicia', 'justicia', 'NOUN'), ('y', 'y', 'CCONJ'), ('exista', 'existir', 'VERB'), ('un', 'uno', 'DET'), ('mayor', 'mayor', 'ADJ'), ('desarrollo', 'desarrollo', 'NOUN'), ('constitucional', 'constitucional', 'ADJ')]"
        ],
        [
         "2418",
         "Antofagasta",
         "Tocopilla",
         "Tocopilla",
         "143",
         "Liceo Domingo Latrille",
         "Av. 18 de Septiembre s/n, Tocopilla",
         "3",
         "¿Cuáles son los valores y principios más importantes que deben inspirar y dar sustento a la Constitución?",
         "Democracia",
         null,
         "A",
         "Permite la participación de las personas. Permite el debate de ideas.",
         "69",
         "11",
         "permite la participacion de las personas  permite el debate de ideas",
         "[('permite', 'permitir', 'VERB'), ('la', 'el', 'DET'), ('participacion', 'participación', 'NOUN'), ('de', 'de', 'ADP'), ('las', 'el', 'DET'), ('personas', 'persona', 'NOUN'), ('permite', 'permitir', 'VERB'), ('el', 'el', 'DET'), ('debate', 'debate', 'NOUN'), ('de', 'de', 'ADP'), ('ideas', 'idea', 'NOUN')]"
        ],
        [
         "2463",
         "Atacama",
         "Chañaral",
         "Chañaral",
         "92",
         "Liceo Federico Varela",
         "Zuleta 221, Chañaral",
         "1",
         "¿Cuáles son los valores y principios más importantes que deben inspirar y dar sustento a la Constitución?",
         "Democracia",
         null,
         "A",
         "COMO FUNDAMENTO DE NUESTRA LIBERTAD\nDEMOCRACIA MAS DIRECTA: MAS CONSULTAS CIUDADANAS\nDEMOCRACIA PLENA: A CADA CIUDADANO SE RESPETE SUS PLANTEAMIENTOS. PARA Y CON EL PUEBLO",
         "171",
         "25",
         "como fundamento de nuestra libertad democracia mas directa  mas consultas ciudadanas democracia plena  a cada ciudadano se respete sus planteamientos  para y con el pueblo",
         "[('como', 'como', 'SCONJ'), ('fundamento', 'fundamento', 'NOUN'), ('de', 'de', 'ADP'), ('nuestra', 'nuestro', 'DET'), ('libertad', 'libertad', 'NOUN'), ('democracia', 'democracia', 'NOUN'), ('mas', 'más', 'ADV'), ('directa', 'directo', 'ADJ'), ('mas', 'más', 'ADV'), ('consultas', 'consulta', 'NOUN'), ('ciudadanas', 'ciudadana', 'ADJ'), ('democracia', 'democracia', 'NOUN'), ('plena', 'pleno', 'ADJ'), ('a', 'a', 'ADP'), ('cada', 'cada', 'DET'), ('ciudadano', 'ciudadano', 'NOUN'), ('se', 'él', 'PRON'), ('respete', 'respetar', 'VERB'), ('sus', 'su', 'DET'), ('planteamientos', 'planteamiento', 'NOUN'), ('para', 'para', 'ADP'), ('y', 'y', 'CCONJ'), ('con', 'con', 'ADP'), ('el', 'el', 'DET'), ('pueblo', 'pueblo', 'NOUN')]"
        ],
        [
         "2600",
         "Atacama",
         "Copiapó",
         "Copiapó",
         "98",
         "Liceo Música",
         "Andrés Bello 170, Copiapó",
         "2",
         "¿Cuáles son los valores y principios más importantes que deben inspirar y dar sustento a la Constitución?",
         "Democracia",
         null,
         "P",
         "EXISTE UN VOTO EN CONTRA CON LA CUAL PLANTEA QUE EL CONCEPTO DE DEMOCRACIA NO DEBERIA ESTAR DENTRO DE LOS 7 VALORES Y PRINCIPIOS MÁS VOTADOS",
         "140",
         "26",
         "existe un voto en contra con la cual plantea que el concepto de democracia no deberia estar dentro de los 7 valores y principios mas votados",
         "[('existe', 'existir', 'VERB'), ('un', 'uno', 'DET'), ('voto', 'voto', 'NOUN'), ('en', 'en', 'ADP'), ('contra', 'contra', 'NOUN'), ('con', 'con', 'ADP'), ('la', 'el', 'DET'), ('cual', 'cual', 'PRON'), ('plantea', 'plantear', 'VERB'), ('que', 'que', 'SCONJ'), ('el', 'el', 'DET'), ('concepto', 'concepto', 'NOUN'), ('de', 'de', 'ADP'), ('democracia', 'democracia', 'NOUN'), ('no', 'no', 'ADV'), ('deberia', 'deber', 'VERB'), ('estar', 'estar', 'AUX'), ('dentro', 'dentro', 'ADV'), ('de', 'de', 'ADP'), ('los', 'el', 'DET'), ('7', '7', 'NUM'), ('valores', 'valor', 'NOUN'), ('y', 'y', 'CCONJ'), ('principios', 'principio', 'NOUN'), ('mas', 'más', 'ADV'), ('votados', 'votado', 'ADJ')]"
        ],
        [
         "2649",
         "Atacama",
         "Copiapó",
         "Copiapó",
         "98",
         "Liceo Música",
         "Andrés Bello 170, Copiapó",
         "3",
         "¿Cuáles son los valores y principios más importantes que deben inspirar y dar sustento a la Constitución?",
         "Democracia",
         null,
         "A",
         "Valor supremo de la sociedad. La democracia actual está tergiversada, debe ser real, plena, participativa y responsable.  Se debe cambiar la constitución para obtener una real democracia.",
         "187",
         "27",
         "valor supremo de la sociedad  la democracia actual esta tergiversada  debe ser real  plena  participativa y responsable   se debe cambiar la constitucion para obtener una real democracia",
         "[('valor', 'valor', 'NOUN'), ('supremo', 'supremo', 'ADJ'), ('de', 'de', 'ADP'), ('la', 'el', 'DET'), ('sociedad', 'sociedad', 'NOUN'), ('la', 'el', 'DET'), ('democracia', 'democracia', 'NOUN'), ('actual', 'actual', 'ADJ'), ('esta', 'estar', 'AUX'), ('tergiversada', 'tergiversado', 'ADJ'), ('debe', 'deber', 'AUX'), ('ser', 'ser', 'AUX'), ('real', 'real', 'ADJ'), ('plena', 'pleno', 'ADJ'), ('participativa', 'participativo', 'ADJ'), ('y', 'y', 'CCONJ'), ('responsable', 'responsable', 'ADJ'), ('se', 'él', 'PRON'), ('debe', 'deber', 'AUX'), ('cambiar', 'cambiar', 'VERB'), ('la', 'el', 'DET'), ('constitucion', 'constitución', 'NOUN'), ('para', 'para', 'ADP'), ('obtener', 'obtener', 'VERB'), ('una', 'uno', 'DET'), ('real', 'real', 'ADJ'), ('democracia', 'democracia', 'NOUN')]"
        ],
        [
         "2681",
         "Atacama",
         "Copiapó",
         "Copiapó",
         "98",
         "Liceo Música",
         "Andrés Bello 170, Copiapó",
         "4",
         "¿Cuáles son los valores y principios más importantes que deben inspirar y dar sustento a la Constitución?",
         "Democracia",
         null,
         "A",
         "Se entiende como un concepto que necesariamente debe estar incluido en la constitución. Pero la estructura que se desea sigue siendo un tema de debate.",
         "151",
         "25",
         "se entiende como un concepto que necesariamente debe estar incluido en la constitucion  pero la estructura que se desea sigue siendo un tema de debate",
         "[('se', 'él', 'PRON'), ('entiende', 'entender', 'VERB'), ('como', 'como', 'SCONJ'), ('un', 'uno', 'DET'), ('concepto', 'concepto', 'NOUN'), ('que', 'que', 'PRON'), ('necesariamente', 'necesariamente', 'ADV'), ('debe', 'deber', 'AUX'), ('estar', 'estar', 'AUX'), ('incluido', 'incluido', 'ADJ'), ('en', 'en', 'ADP'), ('la', 'el', 'DET'), ('constitucion', 'constitución', 'NOUN'), ('pero', 'pero', 'CCONJ'), ('la', 'el', 'DET'), ('estructura', 'estructura', 'NOUN'), ('que', 'que', 'PRON'), ('se', 'él', 'PRON'), ('desea', 'desear', 'VERB'), ('sigue', 'seguir', 'VERB'), ('siendo', 'ser', 'AUX'), ('un', 'uno', 'DET'), ('tema', 'tema', 'NOUN'), ('de', 'de', 'ADP'), ('debate', 'debate', 'NOUN')]"
        ],
        [
         "2730",
         "Atacama",
         "Copiapó",
         "Copiapó",
         "98",
         "Liceo Música",
         "Andrés Bello 170, Copiapó",
         "5",
         "¿Cuáles son los valores y principios más importantes que deben inspirar y dar sustento a la Constitución?",
         "Democracia",
         null,
         "A",
         "Base fundamental de nuestra sociedad",
         "36",
         "5",
         "base fundamental de nuestra sociedad",
         "[('base', 'base', 'NOUN'), ('fundamental', 'fundamental', 'ADJ'), ('de', 'de', 'ADP'), ('nuestra', 'nuestro', 'DET'), ('sociedad', 'sociedad', 'NOUN')]"
        ],
        [
         "2804",
         "Atacama",
         "Copiapó",
         "Copiapó",
         "98",
         "Liceo Música",
         "Andrés Bello 170, Copiapó",
         "7",
         "¿Cuáles son los valores y principios más importantes que deben inspirar y dar sustento a la Constitución?",
         "Democracia",
         null,
         "A",
         "Que sea más participativa a través de asambleas y otros",
         "55",
         "10",
         "que sea mas participativa a traves de asambleas y otros",
         "[('que', 'que', 'SCONJ'), ('sea', 'ser', 'AUX'), ('mas', 'más', 'ADV'), ('participativa', 'participativo', 'ADJ'), ('a', 'a', 'ADP'), ('traves', 'través', 'NOUN'), ('de', 'de', 'ADP'), ('asambleas', 'asamblea', 'NOUN'), ('y', 'y', 'CCONJ'), ('otros', 'otro', 'PRON')]"
        ],
        [
         "2909",
         "Atacama",
         "Copiapó",
         "Copiapó",
         "98",
         "Liceo Música",
         "Andrés Bello 170, Copiapó",
         "10",
         "¿Cuáles son los valores y principios más importantes que deben inspirar y dar sustento a la Constitución?",
         "Democracia",
         null,
         "A",
         "Es la base de todo. Loque se necesita es democracia real, efectiva, eficiente y eficaz.",
         "87",
         "15",
         "es la base de todo  loque se necesita es democracia real  efectiva  eficiente y eficaz",
         "[('es', 'ser', 'AUX'), ('la', 'el', 'DET'), ('base', 'base', 'NOUN'), ('de', 'de', 'ADP'), ('todo', 'todo', 'DET'), ('loque', 'loque', 'NOUN'), ('se', 'él', 'PRON'), ('necesita', 'necesitar', 'VERB'), ('es', 'ser', 'AUX'), ('democracia', 'democracia', 'NOUN'), ('real', 'real', 'ADJ'), ('efectiva', 'efectivo', 'ADJ'), ('eficiente', 'eficiente', 'ADJ'), ('y', 'y', 'CCONJ'), ('eficaz', 'eficaz', 'ADJ')]"
        ],
        [
         "2953",
         "Atacama",
         "Copiapó",
         "Copiapó",
         "98",
         "Liceo Música",
         "Andrés Bello 170, Copiapó",
         "11",
         "¿Cuáles son los valores y principios más importantes que deben inspirar y dar sustento a la Constitución?",
         "Democracia",
         null,
         "P",
         "Avanzar a una directa y participativa",
         "37",
         "6",
         "avanzar a una directa y participativa",
         "[('avanzar', 'avanzar', 'VERB'), ('a', 'a', 'ADP'), ('una', 'uno', 'DET'), ('directa', 'directo', 'ADJ'), ('y', 'y', 'CCONJ'), ('participativa', 'participativo', 'ADJ')]"
        ],
        [
         "3028",
         "Atacama",
         "Huasco",
         "Vallenar",
         "105",
         "Escuela N°5 Ignacio Carrera Pinto",
         "Merced 960, Vallenar",
         "1",
         "¿Cuáles son los valores y principios más importantes que deben inspirar y dar sustento a la Constitución?",
         "Democracia",
         null,
         "A",
         "ejercicio democrático, revocación democrática",
         "45",
         "4",
         "ejercicio democratico  revocacion democratica",
         "[('ejercicio', 'ejercicio', 'NOUN'), ('democratico', 'democratico', 'ADJ'), ('revocacion', 'revocación', 'NOUN'), ('democratica', 'democratico', 'ADJ')]"
        ],
        [
         "3078",
         "Atacama",
         "Huasco",
         "Vallenar",
         "105",
         "Escuela N°5 Ignacio Carrera Pinto",
         "Merced 960, Vallenar",
         "2",
         "¿Cuáles son los valores y principios más importantes que deben inspirar y dar sustento a la Constitución?",
         "Democracia",
         null,
         "A",
         "real y participativa con mayor participación ciudadana",
         "54",
         "7",
         "real y participativa con mayor participacion ciudadana",
         "[('real', 'real', 'ADJ'), ('y', 'y', 'CCONJ'), ('participativa', 'participativo', 'ADJ'), ('con', 'con', 'ADP'), ('mayor', 'mayor', 'ADJ'), ('participacion', 'participación', 'NOUN'), ('ciudadana', 'ciudadano', 'ADJ')]"
        ]
       ],
       "shape": {
        "columns": 16,
        "rows": 507
       }
      },
      "text/html": [
       "<div>\n",
       "<style scoped>\n",
       "    .dataframe tbody tr th:only-of-type {\n",
       "        vertical-align: middle;\n",
       "    }\n",
       "\n",
       "    .dataframe tbody tr th {\n",
       "        vertical-align: top;\n",
       "    }\n",
       "\n",
       "    .dataframe thead th {\n",
       "        text-align: right;\n",
       "    }\n",
       "</style>\n",
       "<table border=\"1\" class=\"dataframe\">\n",
       "  <thead>\n",
       "    <tr style=\"text-align: right;\">\n",
       "      <th></th>\n",
       "      <th>region_nombre</th>\n",
       "      <th>provincia_nombre</th>\n",
       "      <th>comuna_nombre</th>\n",
       "      <th>cabildo_id</th>\n",
       "      <th>cabildo_nombre</th>\n",
       "      <th>cabildo_direccion</th>\n",
       "      <th>num_mesa</th>\n",
       "      <th>pregunta_glosa</th>\n",
       "      <th>concepto_nombre</th>\n",
       "      <th>concepto_otro</th>\n",
       "      <th>tipo-eleccion</th>\n",
       "      <th>fundamento</th>\n",
       "      <th>len_chars</th>\n",
       "      <th>len_tokens_raw</th>\n",
       "      <th>texto_norm</th>\n",
       "      <th>doc</th>\n",
       "    </tr>\n",
       "  </thead>\n",
       "  <tbody>\n",
       "    <tr>\n",
       "      <th>1</th>\n",
       "      <td>Arica y Parinacota</td>\n",
       "      <td>Arica</td>\n",
       "      <td>Arica</td>\n",
       "      <td>81</td>\n",
       "      <td>Colegio San Marcos</td>\n",
       "      <td>Santa María 2140, Arica</td>\n",
       "      <td>1</td>\n",
       "      <td>¿Cuáles son los valores y principios más impor...</td>\n",
       "      <td>Democracia</td>\n",
       "      <td>NaN</td>\n",
       "      <td>A</td>\n",
       "      <td>Sin fundamento</td>\n",
       "      <td>14</td>\n",
       "      <td>2</td>\n",
       "      <td>sin fundamento</td>\n",
       "      <td>[(sin, sin, ADP), (fundamento, fundamento, NOUN)]</td>\n",
       "    </tr>\n",
       "    <tr>\n",
       "      <th>142</th>\n",
       "      <td>Arica y Parinacota</td>\n",
       "      <td>Arica</td>\n",
       "      <td>Arica</td>\n",
       "      <td>81</td>\n",
       "      <td>Colegio San Marcos</td>\n",
       "      <td>Santa María 2140, Arica</td>\n",
       "      <td>5</td>\n",
       "      <td>¿Cuáles son los valores y principios más impor...</td>\n",
       "      <td>Democracia</td>\n",
       "      <td>NaN</td>\n",
       "      <td>A</td>\n",
       "      <td>Que el ciudadano pueda participar en la toma d...</td>\n",
       "      <td>141</td>\n",
       "      <td>22</td>\n",
       "      <td>que el ciudadano pueda participar en la toma d...</td>\n",
       "      <td>[(que, que, SCONJ), (el, el, DET), (ciudadano,...</td>\n",
       "    </tr>\n",
       "    <tr>\n",
       "      <th>169</th>\n",
       "      <td>Arica y Parinacota</td>\n",
       "      <td>Arica</td>\n",
       "      <td>Arica</td>\n",
       "      <td>81</td>\n",
       "      <td>Colegio San Marcos</td>\n",
       "      <td>Santa María 2140, Arica</td>\n",
       "      <td>6</td>\n",
       "      <td>¿Cuáles son los valores y principios más impor...</td>\n",
       "      <td>Democracia</td>\n",
       "      <td>NaN</td>\n",
       "      <td>P</td>\n",
       "      <td>Las condiciones actuales no constituyen democr...</td>\n",
       "      <td>118</td>\n",
       "      <td>17</td>\n",
       "      <td>las condiciones actuales no constituyen democr...</td>\n",
       "      <td>[(las, el, DET), (condiciones, condición, NOUN...</td>\n",
       "    </tr>\n",
       "    <tr>\n",
       "      <th>283</th>\n",
       "      <td>Arica y Parinacota</td>\n",
       "      <td>Arica</td>\n",
       "      <td>Arica</td>\n",
       "      <td>81</td>\n",
       "      <td>Colegio San Marcos</td>\n",
       "      <td>Santa María 2140, Arica</td>\n",
       "      <td>9</td>\n",
       "      <td>¿Cuáles son los valores y principios más impor...</td>\n",
       "      <td>Democracia</td>\n",
       "      <td>NaN</td>\n",
       "      <td>P</td>\n",
       "      <td>por la estructura establecida en el dialogo an...</td>\n",
       "      <td>52</td>\n",
       "      <td>8</td>\n",
       "      <td>por la estructura establecida en el dialogo an...</td>\n",
       "      <td>[(por, por, ADP), (la, el, DET), (estructura, ...</td>\n",
       "    </tr>\n",
       "    <tr>\n",
       "      <th>316</th>\n",
       "      <td>Arica y Parinacota</td>\n",
       "      <td>Arica</td>\n",
       "      <td>Arica</td>\n",
       "      <td>81</td>\n",
       "      <td>Colegio San Marcos</td>\n",
       "      <td>Santa María 2140, Arica</td>\n",
       "      <td>10</td>\n",
       "      <td>¿Cuáles son los valores y principios más impor...</td>\n",
       "      <td>Democracia</td>\n",
       "      <td>NaN</td>\n",
       "      <td>A</td>\n",
       "      <td>debemos pasar de una democracia representativa...</td>\n",
       "      <td>66</td>\n",
       "      <td>9</td>\n",
       "      <td>debemos pasar de una democracia representativa...</td>\n",
       "      <td>[(debemos, deber, AUX), (pasar, pasar, VERB), ...</td>\n",
       "    </tr>\n",
       "    <tr>\n",
       "      <th>...</th>\n",
       "      <td>...</td>\n",
       "      <td>...</td>\n",
       "      <td>...</td>\n",
       "      <td>...</td>\n",
       "      <td>...</td>\n",
       "      <td>...</td>\n",
       "      <td>...</td>\n",
       "      <td>...</td>\n",
       "      <td>...</td>\n",
       "      <td>...</td>\n",
       "      <td>...</td>\n",
       "      <td>...</td>\n",
       "      <td>...</td>\n",
       "      <td>...</td>\n",
       "      <td>...</td>\n",
       "      <td>...</td>\n",
       "    </tr>\n",
       "    <tr>\n",
       "      <th>30184</th>\n",
       "      <td>Magallanes y de la Antártica Chilena</td>\n",
       "      <td>Última Esperanza</td>\n",
       "      <td>Natales</td>\n",
       "      <td>144</td>\n",
       "      <td>Liceo Bernardo O'Higgins</td>\n",
       "      <td>Eleuterio Ramirez 748, Natales</td>\n",
       "      <td>2</td>\n",
       "      <td>¿Cuáles son los valores y principios más impor...</td>\n",
       "      <td>Democracia</td>\n",
       "      <td>NaN</td>\n",
       "      <td>A</td>\n",
       "      <td>Incorporarle nuevos elementos de acuerdo a los...</td>\n",
       "      <td>105</td>\n",
       "      <td>13</td>\n",
       "      <td>incorporarle nuevos elementos de acuerdo a los...</td>\n",
       "      <td>[(incorporar, incorporar, VERB), (le, él, PRON...</td>\n",
       "    </tr>\n",
       "    <tr>\n",
       "      <th>30212</th>\n",
       "      <td>Magallanes y de la Antártica Chilena</td>\n",
       "      <td>Última Esperanza</td>\n",
       "      <td>Natales</td>\n",
       "      <td>144</td>\n",
       "      <td>Liceo Bernardo O'Higgins</td>\n",
       "      <td>Eleuterio Ramirez 748, Natales</td>\n",
       "      <td>3</td>\n",
       "      <td>¿Cuáles son los valores y principios más impor...</td>\n",
       "      <td>Democracia</td>\n",
       "      <td>NaN</td>\n",
       "      <td>A</td>\n",
       "      <td>La democracia debe ser la base de la sociedad ...</td>\n",
       "      <td>299</td>\n",
       "      <td>46</td>\n",
       "      <td>la democracia debe ser la base de la sociedad ...</td>\n",
       "      <td>[(la, el, DET), (democracia, democracia, NOUN)...</td>\n",
       "    </tr>\n",
       "    <tr>\n",
       "      <th>30251</th>\n",
       "      <td>Magallanes y de la Antártica Chilena</td>\n",
       "      <td>Última Esperanza</td>\n",
       "      <td>Natales</td>\n",
       "      <td>144</td>\n",
       "      <td>Liceo Bernardo O'Higgins</td>\n",
       "      <td>Eleuterio Ramirez 748, Natales</td>\n",
       "      <td>4</td>\n",
       "      <td>¿Cuáles son los valores y principios más impor...</td>\n",
       "      <td>Democracia</td>\n",
       "      <td>NaN</td>\n",
       "      <td>A</td>\n",
       "      <td>Descentralización, con justicia e igualdad, co...</td>\n",
       "      <td>106</td>\n",
       "      <td>15</td>\n",
       "      <td>descentralizacion  con justicia e igualdad  co...</td>\n",
       "      <td>[(descentralizacion, descentralización, NOUN),...</td>\n",
       "    </tr>\n",
       "    <tr>\n",
       "      <th>30290</th>\n",
       "      <td>Magallanes y de la Antártica Chilena</td>\n",
       "      <td>Última Esperanza</td>\n",
       "      <td>Natales</td>\n",
       "      <td>144</td>\n",
       "      <td>Liceo Bernardo O'Higgins</td>\n",
       "      <td>Eleuterio Ramirez 748, Natales</td>\n",
       "      <td>6</td>\n",
       "      <td>¿Cuáles son los valores y principios más impor...</td>\n",
       "      <td>Democracia</td>\n",
       "      <td>NaN</td>\n",
       "      <td>A</td>\n",
       "      <td>Se relaciona con el concepto igualitario</td>\n",
       "      <td>40</td>\n",
       "      <td>6</td>\n",
       "      <td>se relaciona con el concepto igualitario</td>\n",
       "      <td>[(se, él, PRON), (relaciona, relacionar, VERB)...</td>\n",
       "    </tr>\n",
       "    <tr>\n",
       "      <th>30372</th>\n",
       "      <td>Magallanes y de la Antártica Chilena</td>\n",
       "      <td>Última Esperanza</td>\n",
       "      <td>Natales</td>\n",
       "      <td>144</td>\n",
       "      <td>Liceo Bernardo O'Higgins</td>\n",
       "      <td>Eleuterio Ramirez 748, Natales</td>\n",
       "      <td>9</td>\n",
       "      <td>¿Cuáles son los valores y principios más impor...</td>\n",
       "      <td>Democracia</td>\n",
       "      <td>NaN</td>\n",
       "      <td>A</td>\n",
       "      <td>Un valor necesario en un sistema político, que...</td>\n",
       "      <td>184</td>\n",
       "      <td>27</td>\n",
       "      <td>un valor necesario en un sistema politico  que...</td>\n",
       "      <td>[(un, uno, DET), (valor, valor, NOUN), (necesa...</td>\n",
       "    </tr>\n",
       "  </tbody>\n",
       "</table>\n",
       "<p>507 rows × 16 columns</p>\n",
       "</div>"
      ],
      "text/plain": [
       "                              region_nombre  provincia_nombre comuna_nombre  \\\n",
       "1                        Arica y Parinacota             Arica         Arica   \n",
       "142                      Arica y Parinacota             Arica         Arica   \n",
       "169                      Arica y Parinacota             Arica         Arica   \n",
       "283                      Arica y Parinacota             Arica         Arica   \n",
       "316                      Arica y Parinacota             Arica         Arica   \n",
       "...                                     ...               ...           ...   \n",
       "30184  Magallanes y de la Antártica Chilena  Última Esperanza       Natales   \n",
       "30212  Magallanes y de la Antártica Chilena  Última Esperanza       Natales   \n",
       "30251  Magallanes y de la Antártica Chilena  Última Esperanza       Natales   \n",
       "30290  Magallanes y de la Antártica Chilena  Última Esperanza       Natales   \n",
       "30372  Magallanes y de la Antártica Chilena  Última Esperanza       Natales   \n",
       "\n",
       "       cabildo_id            cabildo_nombre               cabildo_direccion  \\\n",
       "1              81        Colegio San Marcos         Santa María 2140, Arica   \n",
       "142            81        Colegio San Marcos         Santa María 2140, Arica   \n",
       "169            81        Colegio San Marcos         Santa María 2140, Arica   \n",
       "283            81        Colegio San Marcos         Santa María 2140, Arica   \n",
       "316            81        Colegio San Marcos         Santa María 2140, Arica   \n",
       "...           ...                       ...                             ...   \n",
       "30184         144  Liceo Bernardo O'Higgins  Eleuterio Ramirez 748, Natales   \n",
       "30212         144  Liceo Bernardo O'Higgins  Eleuterio Ramirez 748, Natales   \n",
       "30251         144  Liceo Bernardo O'Higgins  Eleuterio Ramirez 748, Natales   \n",
       "30290         144  Liceo Bernardo O'Higgins  Eleuterio Ramirez 748, Natales   \n",
       "30372         144  Liceo Bernardo O'Higgins  Eleuterio Ramirez 748, Natales   \n",
       "\n",
       "       num_mesa                                     pregunta_glosa  \\\n",
       "1             1  ¿Cuáles son los valores y principios más impor...   \n",
       "142           5  ¿Cuáles son los valores y principios más impor...   \n",
       "169           6  ¿Cuáles son los valores y principios más impor...   \n",
       "283           9  ¿Cuáles son los valores y principios más impor...   \n",
       "316          10  ¿Cuáles son los valores y principios más impor...   \n",
       "...         ...                                                ...   \n",
       "30184         2  ¿Cuáles son los valores y principios más impor...   \n",
       "30212         3  ¿Cuáles son los valores y principios más impor...   \n",
       "30251         4  ¿Cuáles son los valores y principios más impor...   \n",
       "30290         6  ¿Cuáles son los valores y principios más impor...   \n",
       "30372         9  ¿Cuáles son los valores y principios más impor...   \n",
       "\n",
       "      concepto_nombre concepto_otro tipo-eleccion  \\\n",
       "1          Democracia           NaN             A   \n",
       "142        Democracia           NaN             A   \n",
       "169        Democracia           NaN             P   \n",
       "283        Democracia           NaN             P   \n",
       "316        Democracia           NaN             A   \n",
       "...               ...           ...           ...   \n",
       "30184      Democracia           NaN             A   \n",
       "30212      Democracia           NaN             A   \n",
       "30251      Democracia           NaN             A   \n",
       "30290      Democracia           NaN             A   \n",
       "30372      Democracia           NaN             A   \n",
       "\n",
       "                                              fundamento  len_chars  \\\n",
       "1                                         Sin fundamento         14   \n",
       "142    Que el ciudadano pueda participar en la toma d...        141   \n",
       "169    Las condiciones actuales no constituyen democr...        118   \n",
       "283    por la estructura establecida en el dialogo an...         52   \n",
       "316    debemos pasar de una democracia representativa...         66   \n",
       "...                                                  ...        ...   \n",
       "30184  Incorporarle nuevos elementos de acuerdo a los...        105   \n",
       "30212  La democracia debe ser la base de la sociedad ...        299   \n",
       "30251  Descentralización, con justicia e igualdad, co...        106   \n",
       "30290           Se relaciona con el concepto igualitario         40   \n",
       "30372  Un valor necesario en un sistema político, que...        184   \n",
       "\n",
       "       len_tokens_raw                                         texto_norm  \\\n",
       "1                   2                                     sin fundamento   \n",
       "142                22  que el ciudadano pueda participar en la toma d...   \n",
       "169                17  las condiciones actuales no constituyen democr...   \n",
       "283                 8  por la estructura establecida en el dialogo an...   \n",
       "316                 9  debemos pasar de una democracia representativa...   \n",
       "...               ...                                                ...   \n",
       "30184              13  incorporarle nuevos elementos de acuerdo a los...   \n",
       "30212              46  la democracia debe ser la base de la sociedad ...   \n",
       "30251              15  descentralizacion  con justicia e igualdad  co...   \n",
       "30290               6           se relaciona con el concepto igualitario   \n",
       "30372              27  un valor necesario en un sistema politico  que...   \n",
       "\n",
       "                                                     doc  \n",
       "1      [(sin, sin, ADP), (fundamento, fundamento, NOUN)]  \n",
       "142    [(que, que, SCONJ), (el, el, DET), (ciudadano,...  \n",
       "169    [(las, el, DET), (condiciones, condición, NOUN...  \n",
       "283    [(por, por, ADP), (la, el, DET), (estructura, ...  \n",
       "316    [(debemos, deber, AUX), (pasar, pasar, VERB), ...  \n",
       "...                                                  ...  \n",
       "30184  [(incorporar, incorporar, VERB), (le, él, PRON...  \n",
       "30212  [(la, el, DET), (democracia, democracia, NOUN)...  \n",
       "30251  [(descentralizacion, descentralización, NOUN),...  \n",
       "30290  [(se, él, PRON), (relaciona, relacionar, VERB)...  \n",
       "30372  [(un, uno, DET), (valor, valor, NOUN), (necesa...  \n",
       "\n",
       "[507 rows x 16 columns]"
      ]
     },
     "execution_count": 32,
     "metadata": {},
     "output_type": "execute_result"
    }
   ],
   "source": [
    "subset"
   ]
  },
  {
   "cell_type": "markdown",
   "id": "1aba205e",
   "metadata": {},
   "source": [
    "#### Tokenización + POS + Lematización"
   ]
  },
  {
   "cell_type": "code",
   "execution_count": 27,
   "id": "73388519",
   "metadata": {},
   "outputs": [
    {
     "name": "stderr",
     "output_type": "stream",
     "text": [
      "100%|██████████| 507/507 [01:40<00:00,  5.05it/s]\n"
     ]
    }
   ],
   "source": [
    "def stanza_process(doc_str: str):\n",
    "    doc = nlp(doc_str)\n",
    "    rows = []  # (token, lemma, upos)\n",
    "    for sent in doc.sentences:\n",
    "        for w in sent.words:\n",
    "            rows.append((w.text, w.lemma.lower(), w.upos))\n",
    "    return rows\n",
    "\n",
    "subset['doc'] = subset['texto_norm'].progress_apply(stanza_process)"
   ]
  },
  {
   "cell_type": "code",
   "execution_count": 38,
   "id": "7cd7a552",
   "metadata": {},
   "outputs": [
    {
     "data": {
      "application/vnd.microsoft.datawrangler.viewer.v0+json": {
       "columns": [
        {
         "name": "index",
         "rawType": "int64",
         "type": "integer"
        },
        {
         "name": "doc",
         "rawType": "object",
         "type": "unknown"
        }
       ],
       "ref": "87496234-59ca-46bc-a6f6-8eca2c79654c",
       "rows": [
        [
         "1",
         "[('sin', 'sin', 'ADP'), ('fundamento', 'fundamento', 'NOUN')]"
        ],
        [
         "142",
         "[('que', 'que', 'SCONJ'), ('el', 'el', 'DET'), ('ciudadano', 'ciudadano', 'NOUN'), ('pueda', 'poder', 'AUX'), ('participar', 'participar', 'VERB'), ('en', 'en', 'ADP'), ('la', 'el', 'DET'), ('toma', 'toma', 'NOUN'), ('de', 'de', 'ADP'), ('decisiones', 'decisión', 'NOUN'), ('con', 'con', 'ADP'), ('igualdad', 'igualdad', 'NOUN'), ('aceptacion', 'aceptación', 'NOUN'), ('y', 'y', 'CCONJ'), ('respeto', 'respeto', 'NOUN'), ('por', 'por', 'ADP'), ('el', 'el', 'DET'), ('otro', 'otro', 'PRON'), ('considerando', 'considerar', 'VERB'), ('todas', 'todo', 'DET'), ('las', 'el', 'DET'), ('realidades', 'realidad', 'NOUN')]"
        ],
        [
         "169",
         "[('las', 'el', 'DET'), ('condiciones', 'condición', 'NOUN'), ('actuales', 'actual', 'ADJ'), ('no', 'no', 'ADV'), ('constituyen', 'constituir', 'VERB'), ('democracia', 'democracia', 'NOUN'), ('no', 'no', 'PART'), ('obstante', 'obstante', 'NOUN'), ('debe', 'deber', 'AUX'), ('ser', 'ser', 'AUX'), ('un', 'uno', 'DET'), ('valor', 'valor', 'NOUN'), ('fundamental', 'fundamental', 'ADJ'), ('en', 'en', 'ADP'), ('la', 'el', 'DET'), ('nueva', 'nuevo', 'ADJ'), ('constitucion', 'constitución', 'NOUN')]"
        ],
        [
         "283",
         "[('por', 'por', 'ADP'), ('la', 'el', 'DET'), ('estructura', 'estructura', 'NOUN'), ('establecida', 'establecido', 'ADJ'), ('en', 'en', 'ADP'), ('el', 'el', 'DET'), ('dialogo', 'dialogo', 'NOUN'), ('anterior', 'anterior', 'ADJ')]"
        ],
        [
         "316",
         "[('debemos', 'deber', 'AUX'), ('pasar', 'pasar', 'VERB'), ('de', 'de', 'ADP'), ('una', 'uno', 'DET'), ('democracia', 'democracia', 'NOUN'), ('representativa', 'representativo', 'ADJ'), ('a', 'a', 'ADP'), ('una', 'uno', 'DET'), ('participativa', 'participativo', 'ADJ')]"
        ],
        [
         "363",
         "[('por', 'por', 'ADP'), ('eso', 'ese', 'PRON'), ('estamos', 'estar', 'AUX'), ('aqui', 'aquí', 'ADV')]"
        ],
        [
         "491",
         "[('se', 'él', 'PRON'), ('garantice', 'garantizar', 'VERB'), ('una', 'uno', 'DET'), ('democracia', 'democracia', 'NOUN'), ('vinculante', 'vinculante', 'ADJ'), ('que', 'que', 'PRON'), ('se', 'él', 'PRON'), ('apliquen', 'aplicar', 'VERB'), ('topes', 'tope', 'NOUN'), ('a', 'a', 'ADP'), ('la', 'el', 'DET'), ('acumulacion', 'acumulación', 'NOUN'), ('de', 'de', 'ADP'), ('riquezas', 'riqueza', 'NOUN')]"
        ],
        [
         "526",
         "[('la', 'el', 'DET'), ('base', 'base', 'NOUN'), ('y', 'y', 'CCONJ'), ('el', 'el', 'DET'), ('principio', 'principio', 'NOUN'), ('de', 'de', 'ADP'), ('todos', 'todo', 'PRON')]"
        ],
        [
         "746",
         "[('mejorar', 'mejorar', 'VERB'), ('en', 'en', 'ADP'), ('todos', 'todo', 'DET'), ('los', 'el', 'DET'), ('aspectos', 'aspecto', 'NOUN'), ('los', 'el', 'DET'), ('sistemas', 'sistema', 'NOUN'), ('democraticos', 'democratico', 'ADJ'), ('de', 'de', 'ADP'), ('participacion', 'participación', 'NOUN'), ('no', 'no', 'ADV'), ('es', 'ser', 'AUX'), ('posible', 'posible', 'ADJ'), ('que', 'que', 'SCONJ'), ('aun', 'aun', 'ADV'), ('en', 'en', 'ADP'), ('algunas', 'alguno', 'DET'), ('instancias', 'instancia', 'NOUN'), ('de', 'de', 'ADP'), ('votacion', 'votacion', 'NOUN'), ('las', 'el', 'DET'), ('postulaciones', 'postulación', 'NOUN'), ('mas', 'más', 'ADV'), ('votadas', 'votado', 'ADJ'), ('finalmente', 'finalmente', 'ADV'), ('no', 'no', 'ADV'), ('sean', 'ser', 'AUX'), ('las', 'el', 'DET'), ('elegidas', 'elegir', 'ADJ'), ('por', 'por', 'ADP'), ('ende', 'ende', 'NOUN'), ('ahi', 'ahí', 'ADV'), ('se', 'él', 'PRON'), ('pasa', 'pasar', 'VERB'), ('por', 'por', 'ADP'), ('encima', 'encima', 'ADV'), ('de', 'de', 'ADP'), ('las', 'el', 'DET'), ('decisiones', 'decisión', 'NOUN'), ('populares', 'popular', 'ADJ')]"
        ],
        [
         "945",
         "[('elemento', 'elemento', 'NOUN'), ('fundamental', 'fundamental', 'ADJ'), ('en', 'en', 'ADP'), ('la', 'el', 'DET'), ('nueva', 'nuevo', 'ADJ'), ('constitucion', 'constitución', 'NOUN'), ('en', 'en', 'ADP'), ('chile', 'chile', 'NOUN')]"
        ],
        [
         "946",
         "[('participacion', 'participación', 'NOUN'), ('de', 'de', 'ADP'), ('el', 'el', 'DET'), ('pueblo', 'pueblo', 'NOUN'), ('en', 'en', 'ADP'), ('todas', 'todo', 'DET'), ('las', 'el', 'DET'), ('decisiones', 'decisión', 'NOUN')]"
        ],
        [
         "1045",
         "[('democracia', 'democracia', 'NOUN'), ('participativa', 'participativo', 'ADJ'), ('y', 'y', 'CCONJ'), ('resolutiva', 'resolutivo', 'ADJ'), ('incluir', 'incluir', 'VERB'), ('pueblos', 'pueblo', 'NOUN'), ('originarios', 'originario', 'ADJ')]"
        ],
        [
         "1046",
         "[('la', 'el', 'DET'), ('decision', 'decisión', 'NOUN'), ('soberana', 'soberano', 'ADJ'), ('debe', 'deber', 'AUX'), ('ser', 'ser', 'AUX'), ('de', 'de', 'ADP'), ('el', 'el', 'DET'), ('pueblo', 'pueblo', 'NOUN'), ('posibilidad', 'posibilidad', 'NOUN'), ('de', 'de', 'ADP'), ('elegir', 'elegir', 'VERB'), ('a', 'a', 'ADP'), ('nuestros', 'nuestro', 'DET'), ('representantes', 'representante', 'NOUN')]"
        ],
        [
         "1134",
         "[('es', 'ser', 'AUX'), ('fundamental', 'fundamental', 'ADJ'), ('este', 'este', 'DET'), ('principio', 'principio', 'NOUN'), ('para', 'para', 'ADP'), ('la', 'el', 'DET'), ('sociedad', 'sociedad', 'NOUN'), ('actual', 'actual', 'ADJ'), ('y', 'y', 'CCONJ'), ('establecer', 'establecer', 'VERB'), ('mecanismos', 'mecanismo', 'NOUN'), ('que', 'que', 'PRON'), ('la', 'él', 'PRON'), ('protejan', 'proteger', 'VERB'), ('para', 'para', 'ADP'), ('que', 'que', 'SCONJ'), ('la', 'el', 'DET'), ('ciudadania', 'ciudadanía', 'NOUN'), ('decida', 'decidir', 'VERB'), ('lo', 'él', 'PRON'), ('que', 'que', 'PRON'), ('les', 'él', 'PRON'), ('parezca', 'parecer', 'VERB'), ('mejor', 'mejor', 'ADJ'), ('a', 'a', 'ADP'), ('su', 'su', 'DET'), ('desarrollo', 'desarrollo', 'NOUN')]"
        ],
        [
         "1169",
         "[('este', 'este', 'DET'), ('concepto', 'concepto', 'NOUN'), ('no', 'no', 'ADV'), ('es', 'ser', 'AUX'), ('considerado', 'considerar', 'VERB'), ('por', 'por', 'ADP'), ('el', 'el', 'DET'), ('grupo', 'grupo', 'NOUN'), ('como', 'como', 'SCONJ'), ('un', 'uno', 'DET'), ('valor', 'valor', 'NOUN'), ('o', 'o', 'CCONJ'), ('principio', 'principio', 'NOUN'), ('sino', 'sino', 'CCONJ'), ('una', 'uno', 'DET'), ('forma', 'forma', 'NOUN'), ('de', 'de', 'ADP'), ('regimen', 'regimen', 'NOUN'), ('politico', 'politico', 'ADJ')]"
        ],
        [
         "1218",
         "[('la', 'el', 'DET'), ('democracia', 'democracia', 'NOUN'), ('es', 'ser', 'AUX'), ('importante', 'importante', 'ADJ'), ('ya', 'ya', 'ADV'), ('que', 'que', 'SCONJ'), ('es', 'ser', 'AUX'), ('la', 'el', 'DET'), ('garantia', 'garantia', 'NOUN'), ('que', 'que', 'PRON'), ('el', 'el', 'DET'), ('estado', 'estado', 'NOUN'), ('propenda', 'propender', 'VERB'), ('a', 'a', 'ADP'), ('tomar', 'tomar', 'VERB'), ('las', 'el', 'DET'), ('decisiones', 'decisión', 'NOUN'), ('que', 'que', 'PRON'), ('la', 'el', 'DET'), ('mayoria', 'mayoria', 'NOUN'), ('desea', 'desear', 'VERB')]"
        ],
        [
         "1250",
         "[('que', 'que', 'SCONJ'), ('se', 'él', 'PRON'), ('amplien', 'ampliar', 'VERB'), ('y', 'y', 'CCONJ'), ('se', 'él', 'PRON'), ('garanticen', 'garantizar', 'VERB'), ('los', 'el', 'DET'), ('mecanismos', 'mecanismo', 'NOUN'), ('de', 'de', 'ADP'), ('participacion', 'participación', 'NOUN'), ('ciudadana', 'ciudadano', 'ADJ'), ('asamblea', 'asamblea', 'NOUN'), ('constituyente', 'constituyente', 'ADJ'), ('y', 'y', 'CCONJ'), ('que', 'que', 'PRON'), ('esta', 'este', 'PRON'), ('sea', 'ser', 'AUX'), ('vinculante', 'vinculante', 'ADJ')]"
        ],
        [
         "1284",
         "[('mas', 'más', 'ADV'), ('participacion', 'participación', 'NOUN'), ('de', 'de', 'ADP'), ('los', 'el', 'DET'), ('ciudadanos', 'ciudadano', 'NOUN'), ('en', 'en', 'ADP'), ('la', 'el', 'DET'), ('toma', 'toma', 'NOUN'), ('de', 'de', 'ADP'), ('decisiones', 'decisión', 'NOUN')]"
        ],
        [
         "1331",
         "[('que', 'que', 'PRON'), ('se', 'él', 'PRON'), ('define', 'definir', 'VERB'), ('como', 'como', 'SCONJ'), ('el', 'el', 'DET'), ('poder', 'poder', 'NOUN'), ('de', 'de', 'ADP'), ('el', 'el', 'DET'), ('pueblo', 'pueblo', 'NOUN'), ('donde', 'donde', 'ADV'), ('el', 'el', 'DET'), ('gobierno', 'gobierno', 'NOUN'), ('de', 'de', 'ADP'), ('el', 'el', 'DET'), ('pueblo', 'pueblo', 'NOUN'), ('por', 'por', 'ADP'), ('y', 'y', 'CCONJ'), ('para', 'para', 'ADP'), ('el', 'el', 'DET'), ('pueblo', 'pueblo', 'NOUN'), ('entonces', 'entonces', 'ADV'), ('para', 'para', 'ADP'), ('nosotros', 'yo', 'PRON'), ('segun', 'seguir', 'VERB'), ('esto', 'este', 'PRON'), ('la', 'el', 'DET'), ('democracia', 'democracia', 'NOUN'), ('no', 'no', 'ADV'), ('se', 'él', 'PRON'), ('aplica', 'aplicar', 'VERB'), ('como', 'como', 'SCONJ'), ('deberia', 'deber', 'VERB'), ('ser', 'ser', 'AUX')]"
        ],
        [
         "1380",
         "[('sin', 'sin', 'ADP'), ('argumentar', 'argumentar', 'VERB')]"
        ],
        [
         "1421",
         "[('estamos', 'estar', 'AUX'), ('de', 'de', 'ADP'), ('acuerdo', 'acuerdo', 'NOUN'), ('que', 'que', 'SCONJ'), ('se', 'él', 'PRON'), ('consagre', 'consagrar', 'VERB'), ('en', 'en', 'ADP'), ('la', 'el', 'DET'), ('constitucion', 'constitución', 'NOUN')]"
        ],
        [
         "1506",
         "[('estamos', 'estar', 'AUX'), ('de', 'de', 'ADP'), ('acuerdo', 'acuerdo', 'NOUN'), ('que', 'que', 'SCONJ'), ('la', 'el', 'DET'), ('democracia', 'democracia', 'NOUN'), ('sea', 'ser', 'AUX'), ('una', 'uno', 'DET'), ('prioridad', 'prioridad', 'NOUN'), ('en', 'en', 'ADP'), ('la', 'el', 'DET'), ('reforma', 'reforma', 'NOUN'), ('constituyente', 'constituyente', 'ADJ')]"
        ],
        [
         "1551",
         "[('se', 'él', 'PRON'), ('acepta', 'aceptar', 'VERB'), ('la', 'el', 'DET'), ('propuesta', 'propuesta', 'NOUN'), ('oficial', 'oficial', 'ADJ'), ('pero', 'pero', 'CCONJ'), ('el', 'el', 'DET'), ('grupo', 'grupo', 'NOUN'), ('definio', 'definir', 'VERB'), ('la', 'el', 'DET'), ('democracia', 'democracia', 'NOUN'), ('como', 'como', 'SCONJ'), ('la', 'el', 'DET'), ('centralidad', 'centralidad', 'NOUN'), ('por', 'por', 'ADP'), ('ejemplo', 'ejemplo', 'NOUN'), ('descentralizacion', 'descentralización', 'NOUN'), ('debe', 'deber', 'AUX'), ('ser', 'ser', 'AUX'), ('en', 'en', 'ADP'), ('marco', 'marco', 'NOUN'), ('democratico', 'democratico', 'ADJ'), ('todos', 'todo', 'DET'), ('los', 'el', 'DET'), ('principios', 'principio', 'NOUN'), ('en', 'en', 'ADP'), ('un', 'uno', 'DET'), ('marco', 'marco', 'NOUN'), ('democratico', 'democratico', 'ADJ')]"
        ],
        [
         "1587",
         "[('participativa', 'participativo', 'ADJ')]"
        ],
        [
         "1628",
         "[('todos', 'todo', 'PRON'), ('estan', 'estar', 'VERB'), ('de', 'de', 'ADP'), ('acuerdo', 'acuerdo', 'NOUN'), ('que', 'que', 'SCONJ'), ('la', 'el', 'DET'), ('democracia', 'democracia', 'NOUN')]"
        ],
        [
         "1682",
         "[('debe', 'deber', 'AUX'), ('ser', 'ser', 'AUX'), ('participativa', 'participativo', 'ADJ'), ('con', 'con', 'ADP'), ('mecanismos', 'mecanismo', 'NOUN'), ('que', 'que', 'PRON'), ('la', 'él', 'PRON'), ('garanticen', 'garantizar', 'VERB'), ('principio', 'principio', 'NOUN'), ('rector', 'rector', 'ADJ'), ('de', 'de', 'ADP'), ('ella', 'él', 'PRON'), ('la', 'el', 'DET'), ('participacion', 'participación', 'NOUN'), ('ciudadana', 'ciudadano', 'ADJ'), ('mecanismos', 'mecanismo', 'NOUN'), ('de', 'de', 'ADP'), ('consulta', 'consulta', 'NOUN'), ('ciudadana', 'ciudadano', 'ADJ'), ('vinculante', 'vinculante', 'ADJ')]"
        ],
        [
         "1722",
         "[('porque', 'porque', 'SCONJ'), ('se', 'él', 'PRON'), ('entiende', 'entender', 'VERB'), ('como', 'como', 'SCONJ'), ('el', 'el', 'DET'), ('sistema', 'sistema', 'NOUN'), ('de', 'de', 'ADP'), ('gobierno', 'gobierno', 'NOUN'), ('de', 'de', 'ADP'), ('el', 'el', 'DET'), ('pueblo', 'pueblo', 'NOUN'), ('que', 'que', 'PRON'), ('garantiza', 'garantizar', 'VERB'), ('la', 'el', 'DET'), ('participacion', 'participación', 'NOUN'), ('ciudadana', 'ciudadano', 'ADJ'), ('en', 'en', 'ADP'), ('todos', 'todo', 'DET'), ('los', 'el', 'DET'), ('ambitos', 'ambito', 'NOUN')]"
        ],
        [
         "1767",
         "[('sin', 'sin', 'ADP'), ('este', 'este', 'DET'), ('valor', 'valor', 'NOUN'), ('no', 'no', 'ADV'), ('podria', 'poder', 'AUX'), ('ser', 'ser', 'AUX'), ('un', 'uno', 'DET'), ('estado', 'estado', 'NOUN')]"
        ],
        [
         "1866",
         "[('basada', 'basado', 'ADJ'), ('en', 'en', 'ADP'), ('un', 'uno', 'DET'), ('estado', 'estado', 'NOUN'), ('social', 'social', 'ADJ'), ('de', 'de', 'ADP'), ('derecho', 'derecho', 'NOUN'), ('y', 'y', 'CCONJ'), ('participativa', 'participativo', 'ADJ')]"
        ],
        [
         "1917",
         "[('piedra', 'piedra', 'NOUN'), ('angular', 'angular', 'ADJ'), ('de', 'de', 'ADP'), ('la', 'el', 'DET'), ('nueva', 'nuevo', 'ADJ'), ('constitucion', 'constitución', 'NOUN'), ('un', 'uno', 'DET'), ('estado', 'estado', 'NOUN'), ('que', 'que', 'PRON'), ('respete', 'respetar', 'VERB'), ('a', 'a', 'ADP'), ('sus', 'su', 'DET'), ('ciudadanos', 'ciudadano', 'NOUN'), ('y', 'y', 'CCONJ'), ('garantice', 'garantizar', 'VERB'), ('sus', 'su', 'DET'), ('derechos', 'derecho', 'NOUN')]"
        ],
        [
         "1945",
         "[('debe', 'deber', 'AUX'), ('estar', 'estar', 'AUX'), ('pero', 'pero', 'CCONJ'), ('con', 'con', 'ADP'), ('matices', 'matiz', 'NOUN'), ('representativa', 'representativo', 'ADJ'), ('y', 'y', 'CCONJ'), ('con', 'con', 'ADP'), ('representacion', 'representación', 'NOUN'), ('de', 'de', 'ADP'), ('responsabilidad', 'responsabilidad', 'NOUN'), ('de', 'de', 'ADP'), ('autoridades', 'autoridad', 'NOUN'), ('electas', 'electo', 'ADJ'), ('no', 'no', 'ADV'), ('se', 'él', 'PRON'), ('debe', 'deber', 'AUX'), ('someter', 'someter', 'VERB'), ('a', 'a', 'ADP'), ('los', 'el', 'DET'), ('procesos', 'proceso', 'NOUN'), ('eleccionarios', 'eleccionario', 'ADJ'), ('participacion', 'participación', 'NOUN'), ('y', 'y', 'CCONJ'), ('competencia', 'competencia', 'NOUN'), ('como', 'como', 'SCONJ'), ('pilares', 'pilar', 'NOUN'), ('consultas', 'consulta', 'NOUN'), ('ciudadanas', 'ciudadana', 'ADJ'), ('democracia', 'democracia', 'NOUN'), ('participativa', 'participativo', 'ADJ'), ('y', 'y', 'CCONJ'), ('vinculante', 'vinculante', 'ADJ'), ('calidad', 'calidad', 'NOUN'), ('de', 'de', 'ADP'), ('autoridades', 'autoridad', 'NOUN')]"
        ],
        [
         "2001",
         "[('sin', 'sin', 'ADP'), ('descripcion', 'descripción', 'NOUN'), ('en', 'en', 'ADP'), ('fundamentos', 'fundamento', 'NOUN')]"
        ],
        [
         "2051",
         "[('fundamental', 'fundamental', 'ADJ'), ('tiene', 'tener', 'VERB'), ('que', 'que', 'SCONJ'), ('reconocer', 'reconocer', 'VERB'), ('los', 'el', 'DET'), ('territoiros', 'territoiro', 'NOUN'), ('diferencias', 'diferencia', 'NOUN'), ('etnicas', 'etnico', 'ADJ')]"
        ],
        [
         "2137",
         "[('las', 'el', 'DET'), ('votaciones', 'votación', 'NOUN'), ('fueron', 'ser', 'AUX'), ('acuerdo', 'acuerdo', 'NOUN'), ('47', '47', 'NUM'), ('4', '4', 'NUM'), ('acuerdo', 'acuerdo', 'NOUN'), ('parcial', 'parcial', 'ADJ'), ('52', '52', 'NUM'), ('6', '6', 'NUM')]"
        ],
        [
         "2191",
         "[('1', '1', 'NUM'), ('como', 'como', 'SCONJ'), ('base', 'base', 'NOUN'), ('para', 'para', 'ADP'), ('el', 'el', 'DET'), ('dialogo', 'dialogo', 'NOUN'), ('y', 'y', 'CCONJ'), ('participacion', 'participación', 'NOUN'), ('de', 'de', 'ADP'), ('todos', 'todo', 'PRON'), ('como', 'como', 'SCONJ'), ('ciudadanos', 'ciudadano', 'NOUN'), ('para', 'para', 'ADP'), ('construir', 'construir', 'VERB'), ('una', 'uno', 'DET'), ('sociedad', 'sociedad', 'NOUN'), ('mas', 'más', 'ADV'), ('justa', 'justo', 'ADJ'), ('con', 'con', 'ADP'), ('ciudadanos', 'ciudadano', 'NOUN'), ('mas', 'más', 'ADV'), ('comprometidos', 'comprometido', 'ADJ'), ('con', 'con', 'ADP'), ('nuestro', 'nuestro', 'DET'), ('quehacer', 'quehacer', 'NOUN'), ('en', 'en', 'ADP'), ('la', 'el', 'DET'), ('construccion', 'construcción', 'NOUN'), ('desde', 'desde', 'ADP'), ('la', 'el', 'DET'), ('junta', 'junta', 'NOUN'), ('de', 'de', 'ADP'), ('vecinos', 'vecino', 'NOUN'), ('la', 'el', 'DET'), ('comuna', 'comuna', 'NOUN'), ('y', 'y', 'CCONJ'), ('la', 'el', 'DET'), ('provincia', 'provincia', 'NOUN'), ('para', 'para', 'ADP'), ('construir', 'construir', 'VERB'), ('una', 'uno', 'DET'), ('democracia', 'democracia', 'NOUN'), ('desde', 'desde', 'ADP'), ('la', 'el', 'DET'), ('base', 'base', 'NOUN'), ('social', 'social', 'ADJ')]"
        ],
        [
         "2283",
         "[('no', 'no', 'ADV'), ('hay', 'haber', 'VERB'), ('democracia', 'democracia', 'NOUN'), ('en', 'en', 'ADP'), ('chile', 'chile', 'NOUN'), ('para', 'para', 'ADP'), ('llegar', 'llegar', 'VERB'), ('a', 'a', 'ADP'), ('una', 'uno', 'DET'), ('verdadera', 'verdadero', 'ADJ'), ('democracia', 'democracia', 'NOUN'), ('se', 'él', 'PRON'), ('exige', 'exigir', 'VERB'), ('asamblea', 'asamblea', 'NOUN'), ('constituyente', 'constituyente', 'ADJ'), ('vinculante', 'vinculante', 'ADJ'), ('esencial', 'esencial', 'ADJ'), ('y', 'y', 'CCONJ'), ('fundamental', 'fundamental', 'ADJ'), ('apara', 'apara', 'ADP'), ('cada', 'cada', 'DET'), ('pueblo', 'pueblo', 'NOUN'), ('para', 'para', 'ADP'), ('cambiar', 'cambiar', 'VERB'), ('la', 'el', 'DET'), ('actual', 'actual', 'ADJ'), ('constitucion', 'constitución', 'NOUN'), ('dejada', 'dejado', 'ADJ'), ('por', 'por', 'ADP'), ('la', 'el', 'DET'), ('dictadura', 'dictadura', 'NOUN')]"
        ],
        [
         "2311",
         "[('la', 'el', 'DET'), ('democracia', 'democracia', 'NOUN'), ('es', 'ser', 'AUX'), ('la', 'el', 'DET'), ('aunica', 'aunico', 'ADJ'), ('forma', 'forma', 'NOUN'), ('de', 'de', 'ADP'), ('gobernar', 'gobernar', 'VERB'), ('el', 'el', 'DET'), ('pais', 'país', 'NOUN'), ('y', 'y', 'CCONJ'), ('se', 'él', 'PRON'), ('debe', 'deber', 'AUX'), ('asegurar', 'asegurar', 'VERB'), ('que', 'que', 'SCONJ'), ('sea', 'ser', 'AUX'), ('verdaderamente', 'verdaderamente', 'ADV'), ('efectiva', 'efectivo', 'ADJ'), ('y', 'y', 'CCONJ'), ('que', 'que', 'PRON'), ('no', 'no', 'ADV'), ('gobierne', 'gobernar', 'VERB'), ('solo', 'sólo', 'ADV'), ('unos', 'uno', 'DET'), ('pocos', 'poco', 'PRON')]"
        ],
        [
         "2345",
         "[('preferencia', 'preferencia', 'NOUN'), ('geopolitica', 'geopolítico', 'ADJ'), ('a', 'a', 'ADP'), ('el', 'el', 'DET'), ('ejercicio', 'ejercicio', 'NOUN'), ('municipal', 'municipal', 'ADJ'), ('prinvincial', 'prinvincial', 'ADJ'), ('y', 'y', 'CCONJ'), ('regional', 'regional', 'ADJ')]"
        ],
        [
         "2388",
         "[('si', 'si', 'SCONJ'), ('las', 'el', 'DET'), ('normas', 'norma', 'NOUN'), ('y', 'y', 'CCONJ'), ('valores', 'valor', 'NOUN'), ('regula', 'regular', 'VERB'), ('la', 'el', 'DET'), ('paz', 'paz', 'NOUN'), ('y', 'y', 'CCONJ'), ('justicia', 'justicia', 'NOUN'), ('y', 'y', 'CCONJ'), ('exista', 'existir', 'VERB'), ('un', 'uno', 'DET'), ('mayor', 'mayor', 'ADJ'), ('desarrollo', 'desarrollo', 'NOUN'), ('constitucional', 'constitucional', 'ADJ')]"
        ],
        [
         "2418",
         "[('permite', 'permitir', 'VERB'), ('la', 'el', 'DET'), ('participacion', 'participación', 'NOUN'), ('de', 'de', 'ADP'), ('las', 'el', 'DET'), ('personas', 'persona', 'NOUN'), ('permite', 'permitir', 'VERB'), ('el', 'el', 'DET'), ('debate', 'debate', 'NOUN'), ('de', 'de', 'ADP'), ('ideas', 'idea', 'NOUN')]"
        ],
        [
         "2463",
         "[('como', 'como', 'SCONJ'), ('fundamento', 'fundamento', 'NOUN'), ('de', 'de', 'ADP'), ('nuestra', 'nuestro', 'DET'), ('libertad', 'libertad', 'NOUN'), ('democracia', 'democracia', 'NOUN'), ('mas', 'más', 'ADV'), ('directa', 'directo', 'ADJ'), ('mas', 'más', 'ADV'), ('consultas', 'consulta', 'NOUN'), ('ciudadanas', 'ciudadana', 'ADJ'), ('democracia', 'democracia', 'NOUN'), ('plena', 'pleno', 'ADJ'), ('a', 'a', 'ADP'), ('cada', 'cada', 'DET'), ('ciudadano', 'ciudadano', 'NOUN'), ('se', 'él', 'PRON'), ('respete', 'respetar', 'VERB'), ('sus', 'su', 'DET'), ('planteamientos', 'planteamiento', 'NOUN'), ('para', 'para', 'ADP'), ('y', 'y', 'CCONJ'), ('con', 'con', 'ADP'), ('el', 'el', 'DET'), ('pueblo', 'pueblo', 'NOUN')]"
        ],
        [
         "2600",
         "[('existe', 'existir', 'VERB'), ('un', 'uno', 'DET'), ('voto', 'voto', 'NOUN'), ('en', 'en', 'ADP'), ('contra', 'contra', 'NOUN'), ('con', 'con', 'ADP'), ('la', 'el', 'DET'), ('cual', 'cual', 'PRON'), ('plantea', 'plantear', 'VERB'), ('que', 'que', 'SCONJ'), ('el', 'el', 'DET'), ('concepto', 'concepto', 'NOUN'), ('de', 'de', 'ADP'), ('democracia', 'democracia', 'NOUN'), ('no', 'no', 'ADV'), ('deberia', 'deber', 'VERB'), ('estar', 'estar', 'AUX'), ('dentro', 'dentro', 'ADV'), ('de', 'de', 'ADP'), ('los', 'el', 'DET'), ('7', '7', 'NUM'), ('valores', 'valor', 'NOUN'), ('y', 'y', 'CCONJ'), ('principios', 'principio', 'NOUN'), ('mas', 'más', 'ADV'), ('votados', 'votado', 'ADJ')]"
        ],
        [
         "2649",
         "[('valor', 'valor', 'NOUN'), ('supremo', 'supremo', 'ADJ'), ('de', 'de', 'ADP'), ('la', 'el', 'DET'), ('sociedad', 'sociedad', 'NOUN'), ('la', 'el', 'DET'), ('democracia', 'democracia', 'NOUN'), ('actual', 'actual', 'ADJ'), ('esta', 'estar', 'AUX'), ('tergiversada', 'tergiversado', 'ADJ'), ('debe', 'deber', 'AUX'), ('ser', 'ser', 'AUX'), ('real', 'real', 'ADJ'), ('plena', 'pleno', 'ADJ'), ('participativa', 'participativo', 'ADJ'), ('y', 'y', 'CCONJ'), ('responsable', 'responsable', 'ADJ'), ('se', 'él', 'PRON'), ('debe', 'deber', 'AUX'), ('cambiar', 'cambiar', 'VERB'), ('la', 'el', 'DET'), ('constitucion', 'constitución', 'NOUN'), ('para', 'para', 'ADP'), ('obtener', 'obtener', 'VERB'), ('una', 'uno', 'DET'), ('real', 'real', 'ADJ'), ('democracia', 'democracia', 'NOUN')]"
        ],
        [
         "2681",
         "[('se', 'él', 'PRON'), ('entiende', 'entender', 'VERB'), ('como', 'como', 'SCONJ'), ('un', 'uno', 'DET'), ('concepto', 'concepto', 'NOUN'), ('que', 'que', 'PRON'), ('necesariamente', 'necesariamente', 'ADV'), ('debe', 'deber', 'AUX'), ('estar', 'estar', 'AUX'), ('incluido', 'incluido', 'ADJ'), ('en', 'en', 'ADP'), ('la', 'el', 'DET'), ('constitucion', 'constitución', 'NOUN'), ('pero', 'pero', 'CCONJ'), ('la', 'el', 'DET'), ('estructura', 'estructura', 'NOUN'), ('que', 'que', 'PRON'), ('se', 'él', 'PRON'), ('desea', 'desear', 'VERB'), ('sigue', 'seguir', 'VERB'), ('siendo', 'ser', 'AUX'), ('un', 'uno', 'DET'), ('tema', 'tema', 'NOUN'), ('de', 'de', 'ADP'), ('debate', 'debate', 'NOUN')]"
        ],
        [
         "2730",
         "[('base', 'base', 'NOUN'), ('fundamental', 'fundamental', 'ADJ'), ('de', 'de', 'ADP'), ('nuestra', 'nuestro', 'DET'), ('sociedad', 'sociedad', 'NOUN')]"
        ],
        [
         "2804",
         "[('que', 'que', 'SCONJ'), ('sea', 'ser', 'AUX'), ('mas', 'más', 'ADV'), ('participativa', 'participativo', 'ADJ'), ('a', 'a', 'ADP'), ('traves', 'través', 'NOUN'), ('de', 'de', 'ADP'), ('asambleas', 'asamblea', 'NOUN'), ('y', 'y', 'CCONJ'), ('otros', 'otro', 'PRON')]"
        ],
        [
         "2909",
         "[('es', 'ser', 'AUX'), ('la', 'el', 'DET'), ('base', 'base', 'NOUN'), ('de', 'de', 'ADP'), ('todo', 'todo', 'DET'), ('loque', 'loque', 'NOUN'), ('se', 'él', 'PRON'), ('necesita', 'necesitar', 'VERB'), ('es', 'ser', 'AUX'), ('democracia', 'democracia', 'NOUN'), ('real', 'real', 'ADJ'), ('efectiva', 'efectivo', 'ADJ'), ('eficiente', 'eficiente', 'ADJ'), ('y', 'y', 'CCONJ'), ('eficaz', 'eficaz', 'ADJ')]"
        ],
        [
         "2953",
         "[('avanzar', 'avanzar', 'VERB'), ('a', 'a', 'ADP'), ('una', 'uno', 'DET'), ('directa', 'directo', 'ADJ'), ('y', 'y', 'CCONJ'), ('participativa', 'participativo', 'ADJ')]"
        ],
        [
         "3028",
         "[('ejercicio', 'ejercicio', 'NOUN'), ('democratico', 'democratico', 'ADJ'), ('revocacion', 'revocación', 'NOUN'), ('democratica', 'democratico', 'ADJ')]"
        ],
        [
         "3078",
         "[('real', 'real', 'ADJ'), ('y', 'y', 'CCONJ'), ('participativa', 'participativo', 'ADJ'), ('con', 'con', 'ADP'), ('mayor', 'mayor', 'ADJ'), ('participacion', 'participación', 'NOUN'), ('ciudadana', 'ciudadano', 'ADJ')]"
        ]
       ],
       "shape": {
        "columns": 1,
        "rows": 507
       }
      },
      "text/plain": [
       "1        [(sin, sin, ADP), (fundamento, fundamento, NOUN)]\n",
       "142      [(que, que, SCONJ), (el, el, DET), (ciudadano,...\n",
       "169      [(las, el, DET), (condiciones, condición, NOUN...\n",
       "283      [(por, por, ADP), (la, el, DET), (estructura, ...\n",
       "316      [(debemos, deber, AUX), (pasar, pasar, VERB), ...\n",
       "                               ...                        \n",
       "30184    [(incorporar, incorporar, VERB), (le, él, PRON...\n",
       "30212    [(la, el, DET), (democracia, democracia, NOUN)...\n",
       "30251    [(descentralizacion, descentralización, NOUN),...\n",
       "30290    [(se, él, PRON), (relaciona, relacionar, VERB)...\n",
       "30372    [(un, uno, DET), (valor, valor, NOUN), (necesa...\n",
       "Name: doc, Length: 507, dtype: object"
      ]
     },
     "execution_count": 38,
     "metadata": {},
     "output_type": "execute_result"
    }
   ],
   "source": [
    "subset['doc']"
   ]
  },
  {
   "cell_type": "markdown",
   "id": "a51c65c3",
   "metadata": {},
   "source": [
    "#### Stopwords"
   ]
  },
  {
   "cell_type": "code",
   "execution_count": null,
   "id": "8d8f0c14",
   "metadata": {},
   "outputs": [
    {
     "data": {
      "text/plain": [
       "{'a',\n",
       " 'al',\n",
       " 'algo',\n",
       " 'algunas',\n",
       " 'algunos',\n",
       " 'ante',\n",
       " 'antes',\n",
       " 'como',\n",
       " 'con',\n",
       " 'contra',\n",
       " 'cual',\n",
       " 'cuando',\n",
       " 'de',\n",
       " 'del',\n",
       " 'desde',\n",
       " 'donde',\n",
       " 'durante',\n",
       " 'e',\n",
       " 'el',\n",
       " 'ella',\n",
       " 'ellas',\n",
       " 'ellos',\n",
       " 'en',\n",
       " 'entre',\n",
       " 'era',\n",
       " 'erais',\n",
       " 'eran',\n",
       " 'eras',\n",
       " 'eres',\n",
       " 'es',\n",
       " 'esa',\n",
       " 'esas',\n",
       " 'ese',\n",
       " 'eso',\n",
       " 'esos',\n",
       " 'esta',\n",
       " 'estaba',\n",
       " 'estabais',\n",
       " 'estaban',\n",
       " 'estabas',\n",
       " 'estad',\n",
       " 'estada',\n",
       " 'estadas',\n",
       " 'estado',\n",
       " 'estados',\n",
       " 'estamos',\n",
       " 'estando',\n",
       " 'estar',\n",
       " 'estaremos',\n",
       " 'estará',\n",
       " 'estarán',\n",
       " 'estarás',\n",
       " 'estaré',\n",
       " 'estaréis',\n",
       " 'estaría',\n",
       " 'estaríais',\n",
       " 'estaríamos',\n",
       " 'estarían',\n",
       " 'estarías',\n",
       " 'estas',\n",
       " 'este',\n",
       " 'estemos',\n",
       " 'esto',\n",
       " 'estos',\n",
       " 'estoy',\n",
       " 'estuve',\n",
       " 'estuviera',\n",
       " 'estuvierais',\n",
       " 'estuvieran',\n",
       " 'estuvieras',\n",
       " 'estuvieron',\n",
       " 'estuviese',\n",
       " 'estuvieseis',\n",
       " 'estuviesen',\n",
       " 'estuvieses',\n",
       " 'estuvimos',\n",
       " 'estuviste',\n",
       " 'estuvisteis',\n",
       " 'estuviéramos',\n",
       " 'estuviésemos',\n",
       " 'estuvo',\n",
       " 'está',\n",
       " 'estábamos',\n",
       " 'estáis',\n",
       " 'están',\n",
       " 'estás',\n",
       " 'esté',\n",
       " 'estéis',\n",
       " 'estén',\n",
       " 'estés',\n",
       " 'fue',\n",
       " 'fuera',\n",
       " 'fuerais',\n",
       " 'fueran',\n",
       " 'fueras',\n",
       " 'fueron',\n",
       " 'fuese',\n",
       " 'fueseis',\n",
       " 'fuesen',\n",
       " 'fueses',\n",
       " 'fui',\n",
       " 'fuimos',\n",
       " 'fuiste',\n",
       " 'fuisteis',\n",
       " 'fuéramos',\n",
       " 'fuésemos',\n",
       " 'ha',\n",
       " 'habida',\n",
       " 'habidas',\n",
       " 'habido',\n",
       " 'habidos',\n",
       " 'habiendo',\n",
       " 'habremos',\n",
       " 'habrá',\n",
       " 'habrán',\n",
       " 'habrás',\n",
       " 'habré',\n",
       " 'habréis',\n",
       " 'habría',\n",
       " 'habríais',\n",
       " 'habríamos',\n",
       " 'habrían',\n",
       " 'habrías',\n",
       " 'habéis',\n",
       " 'había',\n",
       " 'habíais',\n",
       " 'habíamos',\n",
       " 'habían',\n",
       " 'habías',\n",
       " 'han',\n",
       " 'has',\n",
       " 'hasta',\n",
       " 'hay',\n",
       " 'haya',\n",
       " 'hayamos',\n",
       " 'hayan',\n",
       " 'hayas',\n",
       " 'hayáis',\n",
       " 'he',\n",
       " 'hemos',\n",
       " 'hube',\n",
       " 'hubiera',\n",
       " 'hubierais',\n",
       " 'hubieran',\n",
       " 'hubieras',\n",
       " 'hubieron',\n",
       " 'hubiese',\n",
       " 'hubieseis',\n",
       " 'hubiesen',\n",
       " 'hubieses',\n",
       " 'hubimos',\n",
       " 'hubiste',\n",
       " 'hubisteis',\n",
       " 'hubiéramos',\n",
       " 'hubiésemos',\n",
       " 'hubo',\n",
       " 'la',\n",
       " 'las',\n",
       " 'le',\n",
       " 'les',\n",
       " 'lo',\n",
       " 'los',\n",
       " 'me',\n",
       " 'mi',\n",
       " 'mis',\n",
       " 'mucho',\n",
       " 'muchos',\n",
       " 'muy',\n",
       " 'más',\n",
       " 'mí',\n",
       " 'mía',\n",
       " 'mías',\n",
       " 'mío',\n",
       " 'míos',\n",
       " 'nada',\n",
       " 'ni',\n",
       " 'no',\n",
       " 'nos',\n",
       " 'nosotras',\n",
       " 'nosotros',\n",
       " 'nuestra',\n",
       " 'nuestras',\n",
       " 'nuestro',\n",
       " 'nuestros',\n",
       " 'o',\n",
       " 'os',\n",
       " 'otra',\n",
       " 'otras',\n",
       " 'otro',\n",
       " 'otros',\n",
       " 'para',\n",
       " 'pero',\n",
       " 'poco',\n",
       " 'por',\n",
       " 'porque',\n",
       " 'que',\n",
       " 'quien',\n",
       " 'quienes',\n",
       " 'qué',\n",
       " 'se',\n",
       " 'sea',\n",
       " 'seamos',\n",
       " 'sean',\n",
       " 'seas',\n",
       " 'sentid',\n",
       " 'sentida',\n",
       " 'sentidas',\n",
       " 'sentido',\n",
       " 'sentidos',\n",
       " 'seremos',\n",
       " 'será',\n",
       " 'serán',\n",
       " 'serás',\n",
       " 'seré',\n",
       " 'seréis',\n",
       " 'sería',\n",
       " 'seríais',\n",
       " 'seríamos',\n",
       " 'serían',\n",
       " 'serías',\n",
       " 'seáis',\n",
       " 'siente',\n",
       " 'sin',\n",
       " 'sintiendo',\n",
       " 'sobre',\n",
       " 'sois',\n",
       " 'somos',\n",
       " 'son',\n",
       " 'soy',\n",
       " 'su',\n",
       " 'sus',\n",
       " 'suya',\n",
       " 'suyas',\n",
       " 'suyo',\n",
       " 'suyos',\n",
       " 'sí',\n",
       " 'también',\n",
       " 'tanto',\n",
       " 'te',\n",
       " 'tendremos',\n",
       " 'tendrá',\n",
       " 'tendrán',\n",
       " 'tendrás',\n",
       " 'tendré',\n",
       " 'tendréis',\n",
       " 'tendría',\n",
       " 'tendríais',\n",
       " 'tendríamos',\n",
       " 'tendrían',\n",
       " 'tendrías',\n",
       " 'tened',\n",
       " 'tenemos',\n",
       " 'tenga',\n",
       " 'tengamos',\n",
       " 'tengan',\n",
       " 'tengas',\n",
       " 'tengo',\n",
       " 'tengáis',\n",
       " 'tenida',\n",
       " 'tenidas',\n",
       " 'tenido',\n",
       " 'tenidos',\n",
       " 'teniendo',\n",
       " 'tenéis',\n",
       " 'tenía',\n",
       " 'teníais',\n",
       " 'teníamos',\n",
       " 'tenían',\n",
       " 'tenías',\n",
       " 'ti',\n",
       " 'tiene',\n",
       " 'tienen',\n",
       " 'tienes',\n",
       " 'todo',\n",
       " 'todos',\n",
       " 'tu',\n",
       " 'tus',\n",
       " 'tuve',\n",
       " 'tuviera',\n",
       " 'tuvierais',\n",
       " 'tuvieran',\n",
       " 'tuvieras',\n",
       " 'tuvieron',\n",
       " 'tuviese',\n",
       " 'tuvieseis',\n",
       " 'tuviesen',\n",
       " 'tuvieses',\n",
       " 'tuvimos',\n",
       " 'tuviste',\n",
       " 'tuvisteis',\n",
       " 'tuviéramos',\n",
       " 'tuviésemos',\n",
       " 'tuvo',\n",
       " 'tuya',\n",
       " 'tuyas',\n",
       " 'tuyo',\n",
       " 'tuyos',\n",
       " 'tú',\n",
       " 'un',\n",
       " 'una',\n",
       " 'uno',\n",
       " 'unos',\n",
       " 'vosotras',\n",
       " 'vosotros',\n",
       " 'vuestra',\n",
       " 'vuestras',\n",
       " 'vuestro',\n",
       " 'vuestros',\n",
       " 'y',\n",
       " 'ya',\n",
       " 'yo',\n",
       " 'él',\n",
       " 'éramos'}"
      ]
     },
     "execution_count": 29,
     "metadata": {},
     "output_type": "execute_result"
    }
   ],
   "source": [
    "spanish_sw = set(stopwords.words('spanish'))\n",
    "#extra_stop = {'chile','pais','region','cabildo','provincia'}\n",
    "#stopwords_total = spanish_sw.union(extra_stop)\n",
    "spanish_sw"
   ]
  },
  {
   "cell_type": "markdown",
   "id": "7d882327",
   "metadata": {},
   "source": [
    "#### Filtrar Sustantivos"
   ]
  },
  {
   "cell_type": "code",
   "execution_count": null,
   "id": "4487217a",
   "metadata": {},
   "outputs": [],
   "source": [
    "subset['nouns'] = subset['doc'].apply(\n",
    "    lambda toks: [lemma for _, lemma, pos in toks\n",
    "                  if pos in {\"NOUN\",\"PROPN\"} and lemma not in spanish_sw and len(lemma) > 2]\n",
    ")"
   ]
  },
  {
   "cell_type": "code",
   "execution_count": 37,
   "id": "3175ed0e",
   "metadata": {},
   "outputs": [
    {
     "data": {
      "application/vnd.microsoft.datawrangler.viewer.v0+json": {
       "columns": [
        {
         "name": "index",
         "rawType": "int64",
         "type": "integer"
        },
        {
         "name": "nouns",
         "rawType": "object",
         "type": "unknown"
        }
       ],
       "ref": "a46b5cd1-1a9c-4da7-bd26-d9670cceefa8",
       "rows": [
        [
         "1",
         "['fundamento']"
        ],
        [
         "142",
         "['ciudadano', 'toma', 'decisión', 'igualdad', 'aceptación', 'respeto', 'realidad']"
        ],
        [
         "169",
         "['condición', 'democracia', 'obstante', 'valor', 'constitución']"
        ],
        [
         "283",
         "['estructura', 'dialogo']"
        ],
        [
         "316",
         "['democracia']"
        ],
        [
         "363",
         "[]"
        ],
        [
         "491",
         "['democracia', 'tope', 'acumulación', 'riqueza']"
        ],
        [
         "526",
         "['base', 'principio']"
        ],
        [
         "746",
         "['aspecto', 'sistema', 'participación', 'instancia', 'votacion', 'postulación', 'ende', 'decisión']"
        ],
        [
         "945",
         "['elemento', 'constitución', 'chile']"
        ],
        [
         "946",
         "['participación', 'pueblo', 'decisión']"
        ],
        [
         "1045",
         "['democracia', 'pueblo']"
        ],
        [
         "1046",
         "['decisión', 'pueblo', 'posibilidad', 'representante']"
        ],
        [
         "1134",
         "['principio', 'sociedad', 'mecanismo', 'ciudadanía', 'desarrollo']"
        ],
        [
         "1169",
         "['concepto', 'grupo', 'valor', 'principio', 'forma', 'regimen']"
        ],
        [
         "1218",
         "['democracia', 'garantia', 'decisión', 'mayoria']"
        ],
        [
         "1250",
         "['mecanismo', 'participación', 'asamblea']"
        ],
        [
         "1284",
         "['participación', 'ciudadano', 'toma', 'decisión']"
        ],
        [
         "1331",
         "['poder', 'pueblo', 'gobierno', 'pueblo', 'pueblo', 'democracia']"
        ],
        [
         "1380",
         "[]"
        ],
        [
         "1421",
         "['acuerdo', 'constitución']"
        ],
        [
         "1506",
         "['acuerdo', 'democracia', 'prioridad', 'reforma']"
        ],
        [
         "1551",
         "['propuesta', 'grupo', 'democracia', 'centralidad', 'ejemplo', 'descentralización', 'marco', 'principio', 'marco']"
        ],
        [
         "1587",
         "[]"
        ],
        [
         "1628",
         "['acuerdo', 'democracia']"
        ],
        [
         "1682",
         "['mecanismo', 'principio', 'participación', 'mecanismo', 'consulta']"
        ],
        [
         "1722",
         "['sistema', 'gobierno', 'pueblo', 'participación', 'ambito']"
        ],
        [
         "1767",
         "['valor']"
        ],
        [
         "1866",
         "['derecho']"
        ],
        [
         "1917",
         "['piedra', 'constitución', 'ciudadano', 'derecho']"
        ],
        [
         "1945",
         "['matiz', 'representación', 'responsabilidad', 'autoridad', 'proceso', 'participación', 'competencia', 'pilar', 'consulta', 'democracia', 'calidad', 'autoridad']"
        ],
        [
         "2001",
         "['descripción', 'fundamento']"
        ],
        [
         "2051",
         "['territoiro', 'diferencia']"
        ],
        [
         "2137",
         "['votación', 'acuerdo', 'acuerdo']"
        ],
        [
         "2191",
         "['base', 'dialogo', 'participación', 'ciudadano', 'sociedad', 'ciudadano', 'quehacer', 'construcción', 'junta', 'vecino', 'comuna', 'provincia', 'democracia', 'base']"
        ],
        [
         "2283",
         "['democracia', 'chile', 'democracia', 'asamblea', 'pueblo', 'constitución', 'dictadura']"
        ],
        [
         "2311",
         "['democracia', 'forma', 'país']"
        ],
        [
         "2345",
         "['preferencia', 'ejercicio']"
        ],
        [
         "2388",
         "['norma', 'valor', 'paz', 'justicia', 'desarrollo']"
        ],
        [
         "2418",
         "['participación', 'persona', 'debate', 'idea']"
        ],
        [
         "2463",
         "['fundamento', 'libertad', 'democracia', 'consulta', 'democracia', 'ciudadano', 'planteamiento', 'pueblo']"
        ],
        [
         "2600",
         "['voto', 'concepto', 'democracia', 'valor', 'principio']"
        ],
        [
         "2649",
         "['valor', 'sociedad', 'democracia', 'constitución', 'democracia']"
        ],
        [
         "2681",
         "['concepto', 'constitución', 'estructura', 'tema', 'debate']"
        ],
        [
         "2730",
         "['base', 'sociedad']"
        ],
        [
         "2804",
         "['través', 'asamblea']"
        ],
        [
         "2909",
         "['base', 'loque', 'democracia']"
        ],
        [
         "2953",
         "[]"
        ],
        [
         "3028",
         "['ejercicio', 'revocación']"
        ],
        [
         "3078",
         "['participación']"
        ]
       ],
       "shape": {
        "columns": 1,
        "rows": 507
       }
      },
      "text/plain": [
       "1                                             [fundamento]\n",
       "142      [ciudadano, toma, decisión, igualdad, aceptaci...\n",
       "169      [condición, democracia, obstante, valor, const...\n",
       "283                                  [estructura, dialogo]\n",
       "316                                           [democracia]\n",
       "                               ...                        \n",
       "30184                          [elemento, acuerdo, tiempo]\n",
       "30212    [democracia, base, sociedad, modalidad, gobier...\n",
       "30251    [descentralización, justicia, igualdad, opinió...\n",
       "30290                                           [concepto]\n",
       "30372    [valor, sistema, ciudadanía, aumento, priorida...\n",
       "Name: nouns, Length: 507, dtype: object"
      ]
     },
     "execution_count": 37,
     "metadata": {},
     "output_type": "execute_result"
    }
   ],
   "source": [
    "subset['nouns']"
   ]
  },
  {
   "cell_type": "code",
   "execution_count": 30,
   "id": "5baa6688",
   "metadata": {},
   "outputs": [
    {
     "data": {
      "text/plain": [
       "['sin fundamento',\n",
       " 'Sin fundamento',\n",
       " 'La descentralizacion de ser autonoma por ser zona extrema del pais',\n",
       " 'Sin furdamento',\n",
       " 'Sin fundamentos',\n",
       " 'Toda persona tiene derecho a hacer lo que se le de la gana',\n",
       " 'Chile sin recursos naturales no será capaz de conseguir el desarrollo. Actualmente Chile parece un pais explotado, ya no tenemos fuentes primarias, no presentamos industrias',\n",
       " 'Ser honestos con nosotros mismos. Tenemos una cultura e identidad que no nos representa. Ser uno mismo.',\n",
       " 'Se aplica de distintos maneras para priorizar a la clase alta. Justicia para todos y con igualdad. La justicia de nuestra nación no tiene transparencia. Queremos igualdad y una justicia.',\n",
       " 'tenemos que empezar a avanzar de tal modo de producir un cambio en la democracia. Incluye libertad, integracion, justiciA, etc., para poder elegir hay que tener su propia autonomía. Satisfacer necesidades básicas. Tener conciencia y tomar decisiones sin pedir ayuda a otras naciones. Cambiar la con',\n",
       " 'Beneficios para todos. Recursos y programas debe ser para todos los que necesitan. No hay una justicia para todos por igual. No existe un nivel medio de equidad en Chile. Las clases sociales no deberían existir',\n",
       " 'No se da el valor y respeto a nuestros patrimonios culturales. El patrimonio cultural está muy olvidado. Se necesita cambiar el sistema, enseñar educar más y dar a conocer sobre nuestros patrimonios.',\n",
       " 'El estado no tiene políticas públicas adecuadas. El estado está en deuda con los niños y adolescentes. Al niño se le quitó el derecho de la jornada normal. Debe establecerse una impunidad en los adolescentes.',\n",
       " 'libertad de expresion y desarrollo sin excusas o acciones oponientes',\n",
       " 'Incluir educacion civica. Más presente y no tan oculta. No tanta manipulación por parte de la tv.',\n",
       " 'Esperan a que las personas enfermen para recibir ayuda. Necesitamos salud preventiva. Desaparición de la Isapre.',\n",
       " 'Todos tenemos derecho a construir nuestra historia. Se abre un espacio para construir y seguir agrandando la población a través de las nuevas tribus urbanas.',\n",
       " 'Desigualdad, engaño. La riqueza de los pueblos indigenas también aportan en Chile.',\n",
       " 'Tener un salario digno con inflación del mismo nivel. La mujer debe tener el mismo salario de un hombre. Madurez económica.',\n",
       " 'Desdev pequeño nos deben enseñar y no privar esta información ya que es esencial para todos',\n",
       " 'Las leyes y normas siempre deben ser cumplidos y respetados pero sin embargo hay que modificar o crear nuevos porque existe mucha corrupción.',\n",
       " 'Respeto hacia los demás y ser responsable en lo que prometen.',\n",
       " 'Es muy malo ya que no dejan escuchar al pueblo actualmente.',\n",
       " 'Los deberes están muy dejados de la realidad de hoy en día, existe mucha delincuencia y explotación a las personas, la calidad de seguridad debe aumentar para mejorar nuestra protección ciudadana.',\n",
       " 'los deberes de protección de la naturaleza también deben aumentar ya que nos encontramos con antisociales como el rayado de las cuevas de anzota. Con esto se debe aumentar la seguridad y protección para la población',\n",
       " 'Para concretar la descentralización que se votó en valores y Principios',\n",
       " 'Votamos por regimen semipresidencial y el poder del presidente se comparte con la ciudadania la manera de hacerlo es que la ciudadania valide cada ley propuesta',\n",
       " 'Mantenemos un sistema bicameral, una camara de diputados y una de senadores, porque copiamos el modelo norteamericano quienes lo adaptaron del sistema británico, el cual tiene una camara de los comunes, elegida democráticamente y una de lores, escaños que se heredan. Ahora tenemos la oportunidad de',\n",
       " 'Somos herederos del derecho romano, ello ha sido fuente de numerosas injusticias, debido a que cada juez puede interpretar la ley escrita de diferentes formas, sin tomar en cuenta casos anteriores. Si obligamos a que se reconozcan las jurisprudencias, los jueces deberán seguir los lineamientos que o',\n",
       " 'El poder se comparte con la ciudadanía',\n",
       " 'nuevo concepto',\n",
       " '18 integrantes estuvieron de acuerdo, 1 en desacuerdo porque su encuentro local no lo consideró',\n",
       " '18 integrantes estuvieron de acuerdo, 1 en desacuerdo porque no lo consideraron en su encuentro local',\n",
       " '18 integrantes estuvieron de acuerdo, 1 en desacuerdo porque su encuentro local no lo consideraron',\n",
       " '18 integrantes estuvieron de acuerdo, 1 en desacuerdo porque en su encuentro local no fue priorizado',\n",
       " 'se solicita que se agregue al concepto libertad de expresión al alcance de todos',\n",
       " '01 persona no lo consideró en su encuentro local',\n",
       " 'se le agrega el concepto salud digna',\n",
       " 'se le agrega al concepto educación digna',\n",
       " 'se le agrega al concepto igualdad ante la ley al alcance de todos',\n",
       " 'los integrantes acuerdan que es fundamental que se considere',\n",
       " '01 persona no está de acuerdo',\n",
       " '01 persona no esta de acuerdo',\n",
       " 'Todos de acuerdo pero debe ser unicameral',\n",
       " 'Todos de acuerdo',\n",
       " 'Servel con mayores contribuciones',\n",
       " 'Consenso',\n",
       " 'Unanimidad',\n",
       " 'Bien común por sobre los intereses particulares',\n",
       " 'Que el ciudadano pueda participar en la toma de decisiones con igualdad, aceptación y respeto por el otro, considerando todas las realidades.',\n",
       " 'Autonomia en la toma de decisiones a nivel comunal, provincial y regional, de acuerdo a la realidad local.\\nQue considere los requerimientos específicos y particulares de la región, provincia, comuna, ciudad y localidad.',\n",
       " 'Promoción e implementación de energías renovables.\\nPolíticas medio ambientales regionales con diagnóstico local.\\nNacionalización de los recursos hídricos.',\n",
       " 'Ante un delito, que penas y castigos sean aplicados a todos por igual.\\nActualizar y reformular el codigo penal.\\nEducación cívica en leyes.\\nSistema actualizado de justicia.\\nCambio de solución a la aplicación a la aplicación de penas y castigos por otras alternativas.',\n",
       " 'Combate a la corrupción\\nTransparencia en aumento\\nPenas legales de acuerdo al daño causado',\n",
       " 'De todos y ante todo\\nQue no se discrimine a la mujer en su rol de madre\\nIgualdad de género real y legal',\n",
       " 'A nacer y vivir dignamente',\n",
       " 'Recibir el mismo trato',\n",
       " 'Acorde al grupo familiar \\nCon espacios adecuados\\nAcorde al lugar donde se construye\\nPrivilegiar la vida de barrio\\nMayor fiscalización en la construcción\\nLejos de vertederos',\n",
       " 'Garantizar el derecho y acceso a una salud universal\\nPotenciar la salud estatal\\nOptimización de los recursos y tecnologías \\nMejorar la prevención en salud',\n",
       " 'Sin fines de lucro\\nDe calidad\\nLaica\\nPública y universal',\n",
       " 'Reformular el sistema de pensiones\\nAsegurar pensiones dignas\\nToda persona esté protegida ante eventualidades',\n",
       " 'Medio ambiente grato\\nAire puro/agua pura\\nResguardo para las generaciones futuras',\n",
       " 'Sanción a quienes no lo hagan',\n",
       " 'Unicameral\\nProporcional a la población regional',\n",
       " 'Optimización del sistema\\nA nivel regional, provincial, comunalñ',\n",
       " 'Leyes menos interpretativas\\nFiscalización de jueces',\n",
       " 'Auitonomia 100%\\nToma decisiones en recursos y programas\\nCargos electos popularmente',\n",
       " 'En plazos y tiempos mas cortos que permita actualizarlo de acuerdo al momento',\n",
       " 'Fiscalizar con más atribuciones y sanciones',\n",
       " 'Vinculante\\nEn decisiones relevantes',\n",
       " 'Las condiciones actuales no constituyen democracia. No obstante debe ser un valor fundamental en la nueva Constitucion',\n",
       " 'Es donde mayor deuda tenemos como sociedad.\\nEs necesario promover ley de cuotas para poner en práctica la equidad de género\\nExiste una relación desigual en la relación de poder mantenida por los hombres. Hay una lucha pendiente por conquistar espacios, incluso dentro de los partidos políticos.\\nLe',\n",
       " 'Hay que velar por el bien común, la contraparte del bien común es el interés privado',\n",
       " 'Entender que las normas son para todos los ciudadanos, por lo tanto debemos cumplirlas todos',\n",
       " 'Hoy la justicia pareciera no ser pareja para todos. Juasticia se relaciona con el concepto de Igualdad. Si hoy la justicia no funciona es por los legisladores y su forma de hacer las leyes. La justicia social debe incorporarse en este concepto amplio de justicia La delincuencia se construye en',\n",
       " 'El cambio debiera ser paulatino.\\nEl Estado debe ser garante y protagonista en protección de derechos básicos como salud, educación, vivienda, seguridad social, etc.',\n",
       " 'Efectivamente debe haber igualdad ante la ley, tanto ley penal como otro tipo de leyes',\n",
       " 'Con esto se garantiza y se soluciona el problema de acceso a la justicia o la desigualdad conque se trata a las personas según su condición económica',\n",
       " 'el estado debe ser garante de la educación.\\nDebe incluir una formación integral del ciudadano',\n",
       " 'Especialmente en nuestra zona, en la cual convivimos pueblos indígenas, migrantes y otras tantas identidades y culturas',\n",
       " 'En nuestro contexto geográfico no es posible que el agua sea de unos pocos. Hay que cambiar el régimen jurídico del recurso hídrico.',\n",
       " 'Es necesario entenderse en sentido amplio. Hoy existe una tremenda precarización del trabajo. Por un lado en el servicio público se precariza el trabajo con los trabajadores a honorarios y con los cambios que se producen con los cambios de gobierno. Por otro lado, en el sector privado, se precariza',\n",
       " 'Elegimos inclusión por ser un concepto más amplio que integración, ya que se trata de dotar a las personas con situación de discapacidad de las herramientas que les permitan participar de la sociedad',\n",
       " 'Equiparar pensiones entre FF.AA. y trabajadores. El sistema de AFPs debe acabarse ya que no garantiza pensiones dignas, generando pobreza entre los pensionados',\n",
       " 'Fiscalización de los representantes de la sociedad. Mayor fiscalización de parte de instituciones y ciudadanos.',\n",
       " 'Debiera ser una sola cámara. Con cargos que puedan ser revocables para que exista meyor responsabilidad en los parlamentarios. Establecer inhabilidades en los parlamentarios. Establecer inhabilidades para congresistas condenados. Disminuir tiempos de duración de senadores con límite a la reelección',\n",
       " 'Hay que buscar un término medio entre federalismo y estado unitario, con el fin de lograr mayor distribución de riquezas según condiciones de cada región',\n",
       " 'Con control de la gestión a través del defensor del pueblo',\n",
       " 'Como mecanismo democrático para superar diferencias.',\n",
       " 'Es la única forma democrática de cambiar la norma fundamental',\n",
       " 'Deben ser elegidos por la gente y no como hoy son nombrados',\n",
       " 'Que no sea solo el presidente o los parlamentarios quienes tengan iniciativa de ley',\n",
       " 'no tiene fundamentos',\n",
       " 'reencantarnos con la educación cívica. formación ciudadana dentro de la convivencia social',\n",
       " 'posibilidad que cualquier persona natural pueda participar en cualquier instancia independiente de las diferencias que pueda haber entre ellas',\n",
       " 'respeto a la convivencia de los diferentes culturas',\n",
       " 'que todas las personas tengan una conducta honesta y transparente',\n",
       " 'el respeto a la diversidad en todos sus ambitos',\n",
       " 'la capacidad de conservar en beneficio de la comunidad en forma conjunta',\n",
       " 'que el gobierno establezca politicas que vayan en auxilio del entorno social, por ejemplo enfermedades catastroficas']"
      ]
     },
     "execution_count": 30,
     "metadata": {},
     "output_type": "execute_result"
    }
   ],
   "source": [
    "df.fundamento[0:100].tolist()"
   ]
  }
 ],
 "metadata": {
  "kernelspec": {
   "display_name": "nlp",
   "language": "python",
   "name": "python3"
  },
  "language_info": {
   "codemirror_mode": {
    "name": "ipython",
    "version": 3
   },
   "file_extension": ".py",
   "mimetype": "text/x-python",
   "name": "python",
   "nbconvert_exporter": "python",
   "pygments_lexer": "ipython3",
   "version": "3.12.11"
  }
 },
 "nbformat": 4,
 "nbformat_minor": 5
}

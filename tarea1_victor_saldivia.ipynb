{
 "cells": [
  {
   "cell_type": "markdown",
   "id": "cf5f8f78",
   "metadata": {},
   "source": [
    "<div>\n",
    "<img src=\"https://i.ibb.co/v3CvVz9/udd-short.png\" width=\"150\"/>\n",
    "    <br>\n",
    "    <strong>Universidad del Desarrollo</strong><br>\n",
    "    <em>Magíster en Data Science</em><br>\n",
    "    <em>Profesora: Maria Paz Raveau</em><br>\n",
    "    <em>Asignatura: Procesamiento de Lenguaje Natural</em><br>\n",
    "\n",
    "</div>\n",
    "\n",
    "# **Tarea 1**\n",
    "\n",
    "*Fecha de Entrega: Domingo 20, Julio 2025.*\n",
    "\n",
    "**Nombre Estudiante**: Victor Saldivia Vera"
   ]
  },
  {
   "cell_type": "markdown",
   "id": "6018466a",
   "metadata": {},
   "source": [
    "### **01. Intrucciones y Enunciado**\n",
    "\n",
    "Suponga que ud. es contactado por alguna agencia gubernamental que quiere saber qué dijeron los participantes de los cabildos de 2016. Ud. debe entonces, basándose en los textos de fundamento, responder a este requerimiento.  Use para ello la base de datos que vimos en clases, de los cabildos provinciales. \n",
    "\n",
    "- Escoja alguna de los conceptos que vienen en la base de datos (evite las que no tengan muchas entradas). Hemos visto cómo generar WordClouds con tokens y con bigramas. *¿Es posible valerse de las etiquetas gramaticales para mejorar el resultado?* \n",
    "- Pruebe haciendo un WordCloud con tokens/sustantivos,  y otro con  bigramas/sustantivo-adjetivo. Recuerde pre-procesar correctamente.\n",
    "- Con estos mismo bigramas/sustantivo-adjetivo, haga una red de bigramas.\n",
    "- Ayúdese con frases de ejemplo, y de los WordClouds, para escribir una descripción del concepto.\n"
   ]
  },
  {
   "cell_type": "markdown",
   "id": "72b064a5",
   "metadata": {},
   "source": [
    "### **02. Descripción de la Data**\n",
    "\n",
    "Carga y primeras exploraciones del DataFrame original.  \n",
    "- Columnas disponibles: 12  \n",
    "- Tamaño del dataset: 30414 registros  \n",
    "- Conteo de nulos en las columnas de texto: 0"
   ]
  },
  {
   "cell_type": "code",
   "execution_count": 105,
   "id": "3ce18d31",
   "metadata": {},
   "outputs": [
    {
     "name": "stdout",
     "output_type": "stream",
     "text": [
      "Dimensión: (30414, 12)\n",
      "Nombre de Columnas: Index(['region_nombre', 'provincia_nombre', 'comuna_nombre', 'cabildo_id',\n",
      "       'cabildo_nombre', 'cabildo_direccion', 'num_mesa', 'pregunta_glosa',\n",
      "       'concepto_nombre', 'concepto_otro', 'tipo-eleccion', 'fundamento'],\n",
      "      dtype='object')\n"
     ]
    }
   ],
   "source": [
    "import pandas as pd\n",
    "df = pd.read_excel('data/resultadocabildoprovincial.xlsx')\n",
    "print(f'Dimensión: {df.shape}'), \n",
    "print(f'Nombre de Columnas: {df.columns}')"
   ]
  },
  {
   "cell_type": "markdown",
   "id": "984ad9d6",
   "metadata": {},
   "source": [
    "### **03. Librerías a Utilizar**\n",
    "Importación de librerías necesarias:\n",
    "\n",
    "- **Pandas**, **NumPy** y expresiones regulares para limpieza  \n",
    "- **Stanza** para NLP (tokenización, POS, lematización)  \n",
    "- **NLTK** para stopwords y collocations  \n",
    "- **WordCloud**, **NetworkX** y **Matplotlib** para visualización  \n",
    "- **tqdm** para barras de progreso."
   ]
  },
  {
   "cell_type": "code",
   "execution_count": 106,
   "id": "d8989cf8",
   "metadata": {},
   "outputs": [],
   "source": [
    "import numpy as np\n",
    "import re\n",
    "import os\n",
    "import unicodedata\n",
    "from collections import Counter\n",
    "\n",
    "# Librerías de Procesamiento de Texto\n",
    "import nltk\n",
    "from nltk.corpus import stopwords\n",
    "from nltk.collocations import BigramCollocationFinder, BigramAssocMeasures\n",
    "import stanza\n",
    "\n",
    "# Visualización\n",
    "import matplotlib.pyplot as plt\n",
    "from matplotlib.patches import Patch\n",
    "from wordcloud import WordCloud\n",
    "import networkx as nx\n",
    "\n",
    "# La librería de warnings se utiliza para manejar las advertencias\n",
    "import warnings\n",
    "warnings.filterwarnings('ignore')\n",
    "\n",
    "# Paquete muestra Barra de Progreso\n",
    "from tqdm import tqdm\n",
    "tqdm.pandas()"
   ]
  },
  {
   "cell_type": "markdown",
   "id": "f109a7ab",
   "metadata": {},
   "source": [
    "Se estableció `KMP_DUPLICATE_LIB_OK=TRUE` para evitar conflicto de múltiples runtimes OpenMP en Windows. Es un workaround temporal *(solución temporal)*."
   ]
  },
  {
   "cell_type": "code",
   "execution_count": 107,
   "id": "691eb869",
   "metadata": {},
   "outputs": [],
   "source": [
    "os.environ[\"KMP_DUPLICATE_LIB_OK\"] = \"TRUE\""
   ]
  },
  {
   "cell_type": "code",
   "execution_count": null,
   "id": "baf0d31f",
   "metadata": {},
   "outputs": [],
   "source": [
    "# Descargas (Nota: Ejecutar una sola vez en entorno local)\n",
    "# nltk.download('punkt')\n",
    "# nltk.download('stopwords')\n",
    "# stanza.download('es')"
   ]
  },
  {
   "cell_type": "markdown",
   "id": "b5a81d65",
   "metadata": {},
   "source": [
    "#### Configuración de Stanza para el NLP"
   ]
  },
  {
   "cell_type": "code",
   "execution_count": 108,
   "id": "33f79e82",
   "metadata": {},
   "outputs": [
    {
     "name": "stderr",
     "output_type": "stream",
     "text": [
      "2025-07-20 18:43:36 INFO: Checking for updates to resources.json in case models have been updated.  Note: this behavior can be turned off with download_method=None or download_method=DownloadMethod.REUSE_RESOURCES\n",
      "Downloading https://raw.githubusercontent.com/stanfordnlp/stanza-resources/main/resources_1.10.0.json: 433kB [00:00, 18.1MB/s]                    \n",
      "2025-07-20 18:43:36 INFO: Downloaded file to C:\\Users\\Victo\\stanza_resources\\resources.json\n",
      "2025-07-20 18:43:36 WARNING: Language es package default expects mwt, which has been added\n",
      "2025-07-20 18:43:37 INFO: Loading these models for language: es (Spanish):\n",
      "=================================\n",
      "| Processor | Package           |\n",
      "---------------------------------\n",
      "| tokenize  | combined          |\n",
      "| mwt       | combined          |\n",
      "| pos       | combined_charlm   |\n",
      "| lemma     | combined_nocharlm |\n",
      "=================================\n",
      "\n",
      "2025-07-20 18:43:37 INFO: Using device: cpu\n",
      "2025-07-20 18:43:37 INFO: Loading: tokenize\n",
      "2025-07-20 18:43:37 INFO: Loading: mwt\n",
      "2025-07-20 18:43:37 INFO: Loading: pos\n",
      "2025-07-20 18:43:39 INFO: Loading: lemma\n",
      "2025-07-20 18:43:40 INFO: Done loading processors!\n"
     ]
    }
   ],
   "source": [
    "nlp = stanza.Pipeline('es', processors='tokenize,pos,lemma', use_gpu=False)  # Cambiar a True si hay GPU\n"
   ]
  },
  {
   "cell_type": "markdown",
   "id": "8fdc2837",
   "metadata": {},
   "source": [
    "### **04. Carga y Exploración Inicial**\n"
   ]
  },
  {
   "cell_type": "code",
   "execution_count": 109,
   "id": "af4cbe4a",
   "metadata": {},
   "outputs": [
    {
     "data": {
      "application/vnd.microsoft.datawrangler.viewer.v0+json": {
       "columns": [
        {
         "name": "index",
         "rawType": "int64",
         "type": "integer"
        },
        {
         "name": "region_nombre",
         "rawType": "object",
         "type": "string"
        },
        {
         "name": "provincia_nombre",
         "rawType": "object",
         "type": "string"
        },
        {
         "name": "comuna_nombre",
         "rawType": "object",
         "type": "string"
        },
        {
         "name": "cabildo_id",
         "rawType": "int64",
         "type": "integer"
        },
        {
         "name": "cabildo_nombre",
         "rawType": "object",
         "type": "string"
        },
        {
         "name": "cabildo_direccion",
         "rawType": "object",
         "type": "string"
        },
        {
         "name": "num_mesa",
         "rawType": "int64",
         "type": "integer"
        },
        {
         "name": "pregunta_glosa",
         "rawType": "object",
         "type": "string"
        },
        {
         "name": "concepto_nombre",
         "rawType": "object",
         "type": "string"
        },
        {
         "name": "concepto_otro",
         "rawType": "object",
         "type": "unknown"
        },
        {
         "name": "tipo-eleccion",
         "rawType": "object",
         "type": "string"
        },
        {
         "name": "fundamento",
         "rawType": "object",
         "type": "string"
        }
       ],
       "ref": "fa2c80a9-769f-4f4e-b59f-5230bad54005",
       "rows": [
        [
         "0",
         "Arica y Parinacota",
         "Arica",
         "Arica",
         "81",
         "Colegio San Marcos",
         "Santa María 2140, Arica",
         "1",
         "¿Cuáles son los valores y principios más importantes que deben inspirar y dar sustento a la Constitución?",
         "Autonomía/libertad",
         null,
         "A",
         "sin fundamento"
        ],
        [
         "1",
         "Arica y Parinacota",
         "Arica",
         "Arica",
         "81",
         "Colegio San Marcos",
         "Santa María 2140, Arica",
         "1",
         "¿Cuáles son los valores y principios más importantes que deben inspirar y dar sustento a la Constitución?",
         "Democracia",
         null,
         "A",
         "Sin fundamento"
        ],
        [
         "2",
         "Arica y Parinacota",
         "Arica",
         "Arica",
         "81",
         "Colegio San Marcos",
         "Santa María 2140, Arica",
         "1",
         "¿Cuáles son los valores y principios más importantes que deben inspirar y dar sustento a la Constitución?",
         "Descentralización",
         null,
         "A",
         "La descentralizacion de ser autonoma por ser zona extrema del pais"
        ],
        [
         "3",
         "Arica y Parinacota",
         "Arica",
         "Arica",
         "81",
         "Colegio San Marcos",
         "Santa María 2140, Arica",
         "1",
         "¿Cuáles son los valores y principios más importantes que deben inspirar y dar sustento a la Constitución?",
         "Equidad de género",
         null,
         "A",
         "Sin fundamento"
        ],
        [
         "4",
         "Arica y Parinacota",
         "Arica",
         "Arica",
         "81",
         "Colegio San Marcos",
         "Santa María 2140, Arica",
         "1",
         "¿Cuáles son los valores y principios más importantes que deben inspirar y dar sustento a la Constitución?",
         "Respeto/conservación de la naturaleza o medio ambiente",
         null,
         "A",
         "Sin fundamento"
        ]
       ],
       "shape": {
        "columns": 12,
        "rows": 5
       }
      },
      "text/html": [
       "<div>\n",
       "<style scoped>\n",
       "    .dataframe tbody tr th:only-of-type {\n",
       "        vertical-align: middle;\n",
       "    }\n",
       "\n",
       "    .dataframe tbody tr th {\n",
       "        vertical-align: top;\n",
       "    }\n",
       "\n",
       "    .dataframe thead th {\n",
       "        text-align: right;\n",
       "    }\n",
       "</style>\n",
       "<table border=\"1\" class=\"dataframe\">\n",
       "  <thead>\n",
       "    <tr style=\"text-align: right;\">\n",
       "      <th></th>\n",
       "      <th>region_nombre</th>\n",
       "      <th>provincia_nombre</th>\n",
       "      <th>comuna_nombre</th>\n",
       "      <th>cabildo_id</th>\n",
       "      <th>cabildo_nombre</th>\n",
       "      <th>cabildo_direccion</th>\n",
       "      <th>num_mesa</th>\n",
       "      <th>pregunta_glosa</th>\n",
       "      <th>concepto_nombre</th>\n",
       "      <th>concepto_otro</th>\n",
       "      <th>tipo-eleccion</th>\n",
       "      <th>fundamento</th>\n",
       "    </tr>\n",
       "  </thead>\n",
       "  <tbody>\n",
       "    <tr>\n",
       "      <th>0</th>\n",
       "      <td>Arica y Parinacota</td>\n",
       "      <td>Arica</td>\n",
       "      <td>Arica</td>\n",
       "      <td>81</td>\n",
       "      <td>Colegio San Marcos</td>\n",
       "      <td>Santa María 2140, Arica</td>\n",
       "      <td>1</td>\n",
       "      <td>¿Cuáles son los valores y principios más impor...</td>\n",
       "      <td>Autonomía/libertad</td>\n",
       "      <td>NaN</td>\n",
       "      <td>A</td>\n",
       "      <td>sin fundamento</td>\n",
       "    </tr>\n",
       "    <tr>\n",
       "      <th>1</th>\n",
       "      <td>Arica y Parinacota</td>\n",
       "      <td>Arica</td>\n",
       "      <td>Arica</td>\n",
       "      <td>81</td>\n",
       "      <td>Colegio San Marcos</td>\n",
       "      <td>Santa María 2140, Arica</td>\n",
       "      <td>1</td>\n",
       "      <td>¿Cuáles son los valores y principios más impor...</td>\n",
       "      <td>Democracia</td>\n",
       "      <td>NaN</td>\n",
       "      <td>A</td>\n",
       "      <td>Sin fundamento</td>\n",
       "    </tr>\n",
       "    <tr>\n",
       "      <th>2</th>\n",
       "      <td>Arica y Parinacota</td>\n",
       "      <td>Arica</td>\n",
       "      <td>Arica</td>\n",
       "      <td>81</td>\n",
       "      <td>Colegio San Marcos</td>\n",
       "      <td>Santa María 2140, Arica</td>\n",
       "      <td>1</td>\n",
       "      <td>¿Cuáles son los valores y principios más impor...</td>\n",
       "      <td>Descentralización</td>\n",
       "      <td>NaN</td>\n",
       "      <td>A</td>\n",
       "      <td>La descentralizacion de ser autonoma por ser z...</td>\n",
       "    </tr>\n",
       "    <tr>\n",
       "      <th>3</th>\n",
       "      <td>Arica y Parinacota</td>\n",
       "      <td>Arica</td>\n",
       "      <td>Arica</td>\n",
       "      <td>81</td>\n",
       "      <td>Colegio San Marcos</td>\n",
       "      <td>Santa María 2140, Arica</td>\n",
       "      <td>1</td>\n",
       "      <td>¿Cuáles son los valores y principios más impor...</td>\n",
       "      <td>Equidad de género</td>\n",
       "      <td>NaN</td>\n",
       "      <td>A</td>\n",
       "      <td>Sin fundamento</td>\n",
       "    </tr>\n",
       "    <tr>\n",
       "      <th>4</th>\n",
       "      <td>Arica y Parinacota</td>\n",
       "      <td>Arica</td>\n",
       "      <td>Arica</td>\n",
       "      <td>81</td>\n",
       "      <td>Colegio San Marcos</td>\n",
       "      <td>Santa María 2140, Arica</td>\n",
       "      <td>1</td>\n",
       "      <td>¿Cuáles son los valores y principios más impor...</td>\n",
       "      <td>Respeto/conservación de la naturaleza o medio ...</td>\n",
       "      <td>NaN</td>\n",
       "      <td>A</td>\n",
       "      <td>Sin fundamento</td>\n",
       "    </tr>\n",
       "  </tbody>\n",
       "</table>\n",
       "</div>"
      ],
      "text/plain": [
       "        region_nombre provincia_nombre comuna_nombre  cabildo_id  \\\n",
       "0  Arica y Parinacota            Arica         Arica          81   \n",
       "1  Arica y Parinacota            Arica         Arica          81   \n",
       "2  Arica y Parinacota            Arica         Arica          81   \n",
       "3  Arica y Parinacota            Arica         Arica          81   \n",
       "4  Arica y Parinacota            Arica         Arica          81   \n",
       "\n",
       "       cabildo_nombre        cabildo_direccion  num_mesa  \\\n",
       "0  Colegio San Marcos  Santa María 2140, Arica         1   \n",
       "1  Colegio San Marcos  Santa María 2140, Arica         1   \n",
       "2  Colegio San Marcos  Santa María 2140, Arica         1   \n",
       "3  Colegio San Marcos  Santa María 2140, Arica         1   \n",
       "4  Colegio San Marcos  Santa María 2140, Arica         1   \n",
       "\n",
       "                                      pregunta_glosa  \\\n",
       "0  ¿Cuáles son los valores y principios más impor...   \n",
       "1  ¿Cuáles son los valores y principios más impor...   \n",
       "2  ¿Cuáles son los valores y principios más impor...   \n",
       "3  ¿Cuáles son los valores y principios más impor...   \n",
       "4  ¿Cuáles son los valores y principios más impor...   \n",
       "\n",
       "                                     concepto_nombre concepto_otro  \\\n",
       "0                                 Autonomía/libertad           NaN   \n",
       "1                                         Democracia           NaN   \n",
       "2                                  Descentralización           NaN   \n",
       "3                                  Equidad de género           NaN   \n",
       "4  Respeto/conservación de la naturaleza o medio ...           NaN   \n",
       "\n",
       "  tipo-eleccion                                         fundamento  \n",
       "0             A                                     sin fundamento  \n",
       "1             A                                     Sin fundamento  \n",
       "2             A  La descentralizacion de ser autonoma por ser z...  \n",
       "3             A                                     Sin fundamento  \n",
       "4             A                                     Sin fundamento  "
      ]
     },
     "execution_count": 109,
     "metadata": {},
     "output_type": "execute_result"
    }
   ],
   "source": [
    "df.head()"
   ]
  },
  {
   "cell_type": "markdown",
   "id": "43e47afd",
   "metadata": {},
   "source": [
    "#### Conteo de nulos en columnas de texto\n"
   ]
  },
  {
   "cell_type": "code",
   "execution_count": 110,
   "id": "e8568cbe",
   "metadata": {},
   "outputs": [
    {
     "name": "stdout",
     "output_type": "stream",
     "text": [
      "0\n"
     ]
    }
   ],
   "source": [
    "texto_col = \"fundamento\"\n",
    "print(df[texto_col].isna().sum())"
   ]
  },
  {
   "cell_type": "markdown",
   "id": "737f928e",
   "metadata": {},
   "source": [
    "#### Estadísticas Descriptivas sobre el texto\n"
   ]
  },
  {
   "cell_type": "code",
   "execution_count": 111,
   "id": "67c1b00c",
   "metadata": {},
   "outputs": [
    {
     "data": {
      "application/vnd.microsoft.datawrangler.viewer.v0+json": {
       "columns": [
        {
         "name": "index",
         "rawType": "object",
         "type": "string"
        },
        {
         "name": "len_chars",
         "rawType": "float64",
         "type": "float"
        },
        {
         "name": "len_tokens_raw",
         "rawType": "float64",
         "type": "float"
        }
       ],
       "ref": "0da1c68f-a238-4450-9661-445327fe6bf5",
       "rows": [
        [
         "count",
         "30414.0",
         "30414.0"
        ],
        [
         "mean",
         "69.09012296968501",
         "10.828269875715131"
        ],
        [
         "std",
         "69.67039421710389",
         "10.993366645463677"
        ],
        [
         "min",
         "1.0",
         "1.0"
        ],
        [
         "25%",
         "15.0",
         "2.0"
        ],
        [
         "50%",
         "47.0",
         "7.0"
        ],
        [
         "75%",
         "102.0",
         "16.0"
        ],
        [
         "max",
         "300.0",
         "61.0"
        ]
       ],
       "shape": {
        "columns": 2,
        "rows": 8
       }
      },
      "text/html": [
       "<div>\n",
       "<style scoped>\n",
       "    .dataframe tbody tr th:only-of-type {\n",
       "        vertical-align: middle;\n",
       "    }\n",
       "\n",
       "    .dataframe tbody tr th {\n",
       "        vertical-align: top;\n",
       "    }\n",
       "\n",
       "    .dataframe thead th {\n",
       "        text-align: right;\n",
       "    }\n",
       "</style>\n",
       "<table border=\"1\" class=\"dataframe\">\n",
       "  <thead>\n",
       "    <tr style=\"text-align: right;\">\n",
       "      <th></th>\n",
       "      <th>len_chars</th>\n",
       "      <th>len_tokens_raw</th>\n",
       "    </tr>\n",
       "  </thead>\n",
       "  <tbody>\n",
       "    <tr>\n",
       "      <th>count</th>\n",
       "      <td>30414.000000</td>\n",
       "      <td>30414.000000</td>\n",
       "    </tr>\n",
       "    <tr>\n",
       "      <th>mean</th>\n",
       "      <td>69.090123</td>\n",
       "      <td>10.828270</td>\n",
       "    </tr>\n",
       "    <tr>\n",
       "      <th>std</th>\n",
       "      <td>69.670394</td>\n",
       "      <td>10.993367</td>\n",
       "    </tr>\n",
       "    <tr>\n",
       "      <th>min</th>\n",
       "      <td>1.000000</td>\n",
       "      <td>1.000000</td>\n",
       "    </tr>\n",
       "    <tr>\n",
       "      <th>25%</th>\n",
       "      <td>15.000000</td>\n",
       "      <td>2.000000</td>\n",
       "    </tr>\n",
       "    <tr>\n",
       "      <th>50%</th>\n",
       "      <td>47.000000</td>\n",
       "      <td>7.000000</td>\n",
       "    </tr>\n",
       "    <tr>\n",
       "      <th>75%</th>\n",
       "      <td>102.000000</td>\n",
       "      <td>16.000000</td>\n",
       "    </tr>\n",
       "    <tr>\n",
       "      <th>max</th>\n",
       "      <td>300.000000</td>\n",
       "      <td>61.000000</td>\n",
       "    </tr>\n",
       "  </tbody>\n",
       "</table>\n",
       "</div>"
      ],
      "text/plain": [
       "          len_chars  len_tokens_raw\n",
       "count  30414.000000    30414.000000\n",
       "mean      69.090123       10.828270\n",
       "std       69.670394       10.993367\n",
       "min        1.000000        1.000000\n",
       "25%       15.000000        2.000000\n",
       "50%       47.000000        7.000000\n",
       "75%      102.000000       16.000000\n",
       "max      300.000000       61.000000"
      ]
     },
     "execution_count": 111,
     "metadata": {},
     "output_type": "execute_result"
    }
   ],
   "source": [
    "df['len_chars'] = df[texto_col].str.len() # columna de longitud de caracteres\n",
    "df['len_tokens_raw'] = df[texto_col].str.split().str.len() # columna de tokens sin procesar\n",
    "df[['len_chars','len_tokens_raw']].describe()"
   ]
  },
  {
   "cell_type": "markdown",
   "id": "14a04f3f",
   "metadata": {},
   "source": [
    "#### Eliminación de nulos y duplicados\n"
   ]
  },
  {
   "cell_type": "code",
   "execution_count": 112,
   "id": "34d5c453",
   "metadata": {},
   "outputs": [
    {
     "name": "stdout",
     "output_type": "stream",
     "text": [
      "Filas eliminadas: 11088\n"
     ]
    }
   ],
   "source": [
    "before = len(df)\n",
    "df = df.dropna(subset=[texto_col])\n",
    "df = df.drop_duplicates(subset=[texto_col])\n",
    "print(f\"Filas eliminadas: {before - len(df)}\")"
   ]
  },
  {
   "cell_type": "markdown",
   "id": "7101cecc",
   "metadata": {},
   "source": [
    "### **05. Selección de Concepto**\n",
    "Se exploran las frecuencias de `concepto_nombre` y se elige el concepto.\n",
    "\n",
    "- Se elige el concepto `Democracia` ya que tienen una alta frecuencia (Top 3) \n",
    "- Se construye yb sub conjunto `subset` filtrado por el concepto elegido"
   ]
  },
  {
   "cell_type": "code",
   "execution_count": 113,
   "id": "7774fd01",
   "metadata": {},
   "outputs": [
    {
     "data": {
      "application/vnd.microsoft.datawrangler.viewer.v0+json": {
       "columns": [
        {
         "name": "concepto_nombre",
         "rawType": "object",
         "type": "string"
        },
        {
         "name": "count",
         "rawType": "int64",
         "type": "integer"
        }
       ],
       "ref": "57b1324d-dbfb-4bf0-bb8f-544d904cf138",
       "rows": [
        [
         "Otro",
         "3976"
        ],
        [
         "Igualdad",
         "519"
        ],
        [
         "Democracia",
         "507"
        ],
        [
         "Descentralización",
         "503"
        ],
        [
         "Justicia",
         "492"
        ],
        [
         "Respeto/conservación de la naturaleza o medio ambiente",
         "484"
        ],
        [
         "A la vida",
         "440"
        ],
        [
         "A la salud",
         "437"
        ],
        [
         "A la educación",
         "428"
        ],
        [
         "Respeto",
         "385"
        ],
        [
         "Fuerzas Armadas",
         "381"
        ],
        [
         "Bien Común/comunidad",
         "381"
        ],
        [
         "Congreso o parlamento (estructura y funciones)",
         "373"
        ],
        [
         "A la vivienda digna",
         "365"
        ],
        [
         "Plebiscitos, referendos y consultas",
         "361"
        ],
        [
         "Respeto por la constitución",
         "335"
        ],
        [
         "Igualdad ante la ley",
         "332"
        ],
        [
         "Defensor del Pueblo/Ciudadano",
         "312"
        ],
        [
         "Poder judicial (estructura y funciones)",
         "306"
        ],
        [
         "A la seguridad social",
         "300"
        ]
       ],
       "shape": {
        "columns": 1,
        "rows": 20
       }
      },
      "text/plain": [
       "concepto_nombre\n",
       "Otro                                                      3976\n",
       "Igualdad                                                   519\n",
       "Democracia                                                 507\n",
       "Descentralización                                          503\n",
       "Justicia                                                   492\n",
       "Respeto/conservación de la naturaleza o medio ambiente     484\n",
       "A la vida                                                  440\n",
       "A la salud                                                 437\n",
       "A la educación                                             428\n",
       "Respeto                                                    385\n",
       "Fuerzas Armadas                                            381\n",
       "Bien Común/comunidad                                       381\n",
       "Congreso o parlamento (estructura y funciones)             373\n",
       "A la vivienda digna                                        365\n",
       "Plebiscitos, referendos y consultas                        361\n",
       "Respeto por la constitución                                335\n",
       "Igualdad ante la ley                                       332\n",
       "Defensor del Pueblo/Ciudadano                              312\n",
       "Poder judicial (estructura y funciones)                    306\n",
       "A la seguridad social                                      300\n",
       "Name: count, dtype: int64"
      ]
     },
     "execution_count": 113,
     "metadata": {},
     "output_type": "execute_result"
    }
   ],
   "source": [
    "# Distribución de frecuencias para elegir uno con suficientes observaciones\n",
    "concepto_col = \"concepto_nombre\" \n",
    "concept_counts = df[concepto_col].value_counts()\n",
    "concept_counts.head(20)"
   ]
  },
  {
   "cell_type": "markdown",
   "id": "ba66ba73",
   "metadata": {},
   "source": [
    "#### Selección de Concepto"
   ]
  },
  {
   "cell_type": "code",
   "execution_count": null,
   "id": "77233baa",
   "metadata": {},
   "outputs": [],
   "source": [
    "concepto_elegido = \"Democracia\" "
   ]
  },
  {
   "cell_type": "markdown",
   "id": "5a00504d",
   "metadata": {},
   "source": [
    "#### Creación del Subconjunto filtrado\n",
    "Se elige el concepto 'Democracia' el cual tiene una frecuencia de (507 ocurrencias) para garantizar masa textual suficiente y diversidad léxica. Se descartaron conceptos con baja frecuencia para evitar resultados inestables en nubes de palabras y bigramas.”\n",
    "\n"
   ]
  },
  {
   "cell_type": "code",
   "execution_count": null,
   "id": "1e4dd563",
   "metadata": {},
   "outputs": [],
   "source": [
    "subset = df[df[concepto_col] == concepto_elegido].copy()\n",
    "print(\"Filas del concepto:\", len(subset))\n"
   ]
  },
  {
   "cell_type": "code",
   "execution_count": null,
   "id": "4b9b1a5d",
   "metadata": {},
   "outputs": [],
   "source": [
    "# Subconjunto de datos para el concepto elegido\n",
    "subset.head(10)"
   ]
  },
  {
   "cell_type": "markdown",
   "id": "7435734c",
   "metadata": {},
   "source": [
    "### **06. Pre-Procesamiento de Texto**\n"
   ]
  },
  {
   "cell_type": "markdown",
   "id": "b5496745",
   "metadata": {},
   "source": [
    "#### Normalización de Texto"
   ]
  },
  {
   "cell_type": "code",
   "execution_count": null,
   "id": "5fa531fd",
   "metadata": {},
   "outputs": [],
   "source": [
    "def normalize_text(text: str) -> str:\n",
    "    text = str(text).lower() #\n",
    "    text = unicodedata.normalize('NFKD', text).encode('ascii','ignore').decode('utf-8','ignore')  # eliminar tildes\n",
    "    text = re.sub(r'[^a-z0-9\\\\s]', ' ', text) # eliminar caracteres especiales\n",
    "    text = re.sub(r'\\\\s+', ' ', text).strip() # eliminar espacios extra\n",
    "    return text\n",
    "\n",
    "subset['texto_norm'] = subset[texto_col].apply(normalize_text)"
   ]
  },
  {
   "cell_type": "code",
   "execution_count": null,
   "id": "675838f9",
   "metadata": {},
   "outputs": [],
   "source": [
    "subset"
   ]
  },
  {
   "cell_type": "markdown",
   "id": "1aba205e",
   "metadata": {},
   "source": [
    "#### Tokenización + POS + Lematización"
   ]
  },
  {
   "cell_type": "code",
   "execution_count": null,
   "id": "73388519",
   "metadata": {},
   "outputs": [],
   "source": [
    "def stanza_process(doc_str: str):\n",
    "    doc = nlp(doc_str)\n",
    "    rows = []  # (token, lemma, upos)\n",
    "    for sent in doc.sentences:\n",
    "        for w in sent.words:\n",
    "            rows.append((w.text, w.lemma.lower(), w.upos))\n",
    "    return rows\n",
    "\n",
    "subset['doc'] = subset['texto_norm'].progress_apply(stanza_process)"
   ]
  },
  {
   "cell_type": "markdown",
   "id": "77847c11",
   "metadata": {},
   "source": [
    "#### Visualización de tokens crudos (antes de filtrar stopwords) del subconjunto"
   ]
  },
  {
   "cell_type": "code",
   "execution_count": null,
   "id": "3320255a",
   "metadata": {},
   "outputs": [],
   "source": [
    "subset['tokens_crudos'] = subset['doc'].apply(lambda toks: [lemma for _, lemma, pos in toks])\n",
    "\n",
    "freq_crudas = Counter([w for fila in subset['tokens_crudos'] for w in fila])\n",
    "top30 = freq_crudas.most_common(30)\n",
    "top30"
   ]
  },
  {
   "cell_type": "code",
   "execution_count": null,
   "id": "7cd7a552",
   "metadata": {},
   "outputs": [],
   "source": [
    "subset['doc']"
   ]
  },
  {
   "cell_type": "markdown",
   "id": "a51c65c3",
   "metadata": {},
   "source": [
    "#### Stopwords"
   ]
  },
  {
   "cell_type": "code",
   "execution_count": null,
   "id": "8d8f0c14",
   "metadata": {},
   "outputs": [],
   "source": [
    "spanish_sw = set(stopwords.words('spanish'))\n",
    "#extra_stop = {'chile','pais','region','cabildo','provincia'}\n",
    "#stopwords_total = spanish_sw.union(extra_stop)\n",
    "spanish_sw"
   ]
  },
  {
   "cell_type": "markdown",
   "id": "7d882327",
   "metadata": {},
   "source": [
    "#### Filtrar Sustantivos"
   ]
  },
  {
   "cell_type": "code",
   "execution_count": null,
   "id": "4487217a",
   "metadata": {},
   "outputs": [],
   "source": [
    "subset['nouns'] = subset['doc'].apply(\n",
    "    lambda toks: [lemma for _, lemma, pos in toks\n",
    "                  if pos in {\"NOUN\",\"PROPN\"} and lemma not in spanish_sw and len(lemma) > 2]\n",
    ")"
   ]
  },
  {
   "cell_type": "code",
   "execution_count": null,
   "id": "3175ed0e",
   "metadata": {},
   "outputs": [],
   "source": [
    "subset['nouns']"
   ]
  },
  {
   "cell_type": "markdown",
   "id": "8ad33b77",
   "metadata": {},
   "source": [
    "#### Filtrar Adjetivos"
   ]
  },
  {
   "cell_type": "code",
   "execution_count": null,
   "id": "440567b9",
   "metadata": {},
   "outputs": [],
   "source": [
    "\n",
    "subset['adjs'] = subset['doc'].apply(\n",
    "    lambda toks: [lemma for _, lemma, pos in toks\n",
    "                  if pos == 'ADJ' and len(lemma) > 2]\n",
    ")"
   ]
  },
  {
   "cell_type": "code",
   "execution_count": null,
   "id": "8dc5324f",
   "metadata": {},
   "outputs": [],
   "source": [
    "subset"
   ]
  },
  {
   "cell_type": "markdown",
   "id": "e103f522",
   "metadata": {},
   "source": [
    "#### Bigramas Sustantivo–Adjetivo contiguos\n"
   ]
  },
  {
   "cell_type": "code",
   "execution_count": null,
   "id": "a2ca1875",
   "metadata": {},
   "outputs": [],
   "source": [
    "def noun_adj_bigrams(tok_rows):\n",
    "    bigs = []\n",
    "    for i in range(len(tok_rows)-1):\n",
    "        (_, lemma1, pos1) = tok_rows[i]\n",
    "        (_, lemma2, pos2) = tok_rows[i+1]\n",
    "        if pos1 in {'NOUN','PROPN'} and pos2 == 'ADJ':\n",
    "            if lemma1 not in spanish_sw and lemma2 not in spanish_sw:\n",
    "                bigs.append(f'{lemma1}_{lemma2}')\n",
    "    return bigs\n",
    "\n",
    "subset['bigrams_noun_adj'] = subset['doc'].apply(noun_adj_bigrams)"
   ]
  },
  {
   "cell_type": "markdown",
   "id": "1593b135",
   "metadata": {},
   "source": [
    "#### Conteos Globales (Unigramas y Bigramas)"
   ]
  },
  {
   "cell_type": "code",
   "execution_count": null,
   "id": "09314dc6",
   "metadata": {},
   "outputs": [],
   "source": [
    "all_nouns = Counter([w for fila in subset['nouns'] for w in fila])\n",
    "all_bigrams = Counter([b for fila in subset['bigrams_noun_adj'] for b in fila])\n",
    "adj_counts = Counter([w for fila in subset['adjs'] for w in fila])\n",
    "print('Unigramas distintos:', len(all_nouns))\n",
    "print('Bigramas N-A distintos:', len(all_bigrams))\n",
    "print('Adjetivos distintos:', len(adj_counts))"
   ]
  },
  {
   "cell_type": "markdown",
   "id": "86073a1d",
   "metadata": {},
   "source": [
    "#### Remover claves vacías o sospechosas\n",
    "Se crea la función `clean_key(k)` para verificar que una palabra no esté vacía, y sea de tipo string. También verifica que no contenga espacios en blancos el string. Se crea un diccionario llamado `filtered_items`, donde se agregan las palabras que pasan el filtro de la función `clean_key(k)` y que aparecerán al menos dos veces en el conteo global de sustantivos."
   ]
  },
  {
   "cell_type": "code",
   "execution_count": null,
   "id": "7abcdc0c",
   "metadata": {},
   "outputs": [],
   "source": [
    "def clean_key(k):\n",
    "    return bool(k) and isinstance(k, str) and not k.isspace()\n",
    "\n",
    "filtered_items = {k:int(v) for k,v in all_nouns.items() if clean_key(k) and v>=2}\n",
    "\n",
    "print(\"Vocab filtrado:\", len(filtered_items), \"Total frecuencia:\", sum(filtered_items.values()))"
   ]
  },
  {
   "cell_type": "markdown",
   "id": "4bbd7a82",
   "metadata": {},
   "source": [
    "### **07. Visualizaciones**"
   ]
  },
  {
   "cell_type": "markdown",
   "id": "547b1275",
   "metadata": {},
   "source": [
    "#### WordCloud Sustantivos - Concepto Elegido"
   ]
  },
  {
   "cell_type": "code",
   "execution_count": null,
   "id": "25e4a6bc",
   "metadata": {},
   "outputs": [],
   "source": [
    "freq_unigrams = {w:c for w,c in all_nouns.items() if c>=2}\n",
    "wc = WordCloud(width=1500, height=800, background_color='white', colormap=\"magma\",  max_words=1000, collocations=False)\n",
    "wc.generate_from_frequencies(freq_unigrams)\n",
    "plt.figure(figsize=(12,8))\n",
    "plt.imshow(wc, interpolation='bilinear')\n",
    "plt.axis('off')\n",
    "plt.title(f'WordCloud Sustantivos – {concepto_elegido}')\n",
    "plt.show()"
   ]
  },
  {
   "cell_type": "markdown",
   "id": "716d6465",
   "metadata": {},
   "source": [
    "#### WordCloud Bigramas (Sustantivo-Adjetivo)"
   ]
  },
  {
   "cell_type": "code",
   "execution_count": null,
   "id": "653cb496",
   "metadata": {},
   "outputs": [],
   "source": [
    "freq_bigrams = {b:c for b,c in all_bigrams.items() if c>=2}\n",
    "freq_bigrams_space = {b.replace('_', ' '): c for b, c in freq_bigrams.items()} # Se crea un nuevo diccionario reemplazando '_' por ' '\n",
    "\n",
    "wc2 = WordCloud(\n",
    "    width=1500,\n",
    "    height=800,\n",
    "    background_color='white',\n",
    "    colormap=\"magma\",\n",
    "    max_words=400,\n",
    "    collocations=False\n",
    ").generate_from_frequencies(freq_bigrams_space)\n",
    "\n",
    "plt.figure(figsize=(12,8))\n",
    "plt.imshow(wc2, interpolation='bilinear')\n",
    "plt.axis('off')\n",
    "plt.title(f'WordCloud Bigramas Sustantivo - Adjetivo – {concepto_elegido}')\n",
    "plt.show()"
   ]
  },
  {
   "cell_type": "markdown",
   "id": "91c72269",
   "metadata": {},
   "source": [
    "#### Top 20 Adjetivos - Democracia"
   ]
  },
  {
   "cell_type": "code",
   "execution_count": null,
   "id": "533d99d8",
   "metadata": {},
   "outputs": [],
   "source": [
    "# Nuevo dataFrame de adjetivos\n",
    "adj_df = pd.DataFrame(adj_counts.most_common(20), columns=['adjetivo','frecuencia'])\n",
    "\n",
    "plt.figure(figsize=(10,6))\n",
    "bars = plt.barh(adj_df['adjetivo'], adj_df['frecuencia'], color=\"#ED7272\")\n",
    "\n",
    "# Etiquetas de datos\n",
    "for bar in bars:\n",
    "    width = bar.get_width()\n",
    "    plt.text(\n",
    "        width + max(adj_df['frecuencia']) * 0.01, \n",
    "        bar.get_y() + bar.get_height()/2,\n",
    "        f'{int(width)}',\n",
    "        va='center',\n",
    "        fontsize=9\n",
    "    )\n",
    "\n",
    "plt.xlabel('Frecuencia')\n",
    "plt.ylabel('Adjetivo')\n",
    "plt.title(f'Top 20 Adjetivos – {concepto_elegido}')\n",
    "plt.gca().invert_yaxis()\n",
    "plt.tight_layout()\n",
    "plt.show()"
   ]
  },
  {
   "cell_type": "markdown",
   "id": "f423d36e",
   "metadata": {},
   "source": [
    "#### Red de Bigramas"
   ]
  },
  {
   "cell_type": "code",
   "execution_count": null,
   "id": "575a717b",
   "metadata": {},
   "outputs": [],
   "source": [
    "G = nx.Graph()\n",
    "for big, freq in freq_bigrams.items():\n",
    "    noun, adj = big.split('_')\n",
    "    G.add_node(noun, tipo='NOUN')\n",
    "    G.add_node(adj,  tipo='ADJ')\n",
    "    G.add_edge(noun, adj, weight=freq)\n",
    "\n",
    "print('Nodos:', G.number_of_nodes(), '| Aristas:', G.number_of_edges())\n",
    "\n",
    "# Cálculo de métricas para tamaño y color\n",
    "degree_dict = dict(G.degree())\n",
    "\n",
    "# Se escala el tamaño de nodo según grado\n",
    "node_sizes  = [100 + degree_dict[n]*200 for n in G.nodes()]\n",
    "color_map = {'NOUN':\"#F88A8A\", 'ADJ':\"#FFC18B\"}\n",
    "node_colors = [color_map[G.nodes[n]['tipo']] for n in G.nodes()]\n",
    "\n",
    "# Se escala la anchura de arista según peso \n",
    "edge_widths = [G[u][v]['weight']*0.1 for u,v in G.edges()]\n",
    "\n",
    "plt.figure(figsize=(16,14))\n",
    "pos = nx.spring_layout(G, k=0.5, seed=42)\n",
    "\n",
    "nx.draw_networkx_edges(G, pos, width=edge_widths, alpha=0.6)\n",
    "nx.draw_networkx_nodes(G, pos, node_size=node_sizes, node_color=node_colors, alpha=0.9)\n",
    "nx.draw_networkx_labels(G, pos, font_size=9)\n",
    "\n",
    "legend_elems = [\n",
    "    Patch(facecolor=color_map['NOUN'], label='Sustantivo'),\n",
    "    Patch(facecolor=color_map['ADJ'],  label='Adjetivo')\n",
    "]\n",
    "plt.legend(handles=legend_elems, title='Tipo Nodo')\n",
    "\n",
    "plt.title(f'Red de Bigramas Sustantivo–Adjetivo – {concepto_elegido}')\n",
    "plt.axis('off')\n",
    "plt.tight_layout()\n",
    "plt.show()"
   ]
  }
 ],
 "metadata": {
  "kernelspec": {
   "display_name": "nlp",
   "language": "python",
   "name": "python3"
  },
  "language_info": {
   "codemirror_mode": {
    "name": "ipython",
    "version": 3
   },
   "file_extension": ".py",
   "mimetype": "text/x-python",
   "name": "python",
   "nbconvert_exporter": "python",
   "pygments_lexer": "ipython3",
   "version": "3.12.11"
  }
 },
 "nbformat": 4,
 "nbformat_minor": 5
}

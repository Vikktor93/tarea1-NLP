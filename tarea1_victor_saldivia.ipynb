{
 "cells": [
  {
   "cell_type": "markdown",
   "id": "cf5f8f78",
   "metadata": {},
   "source": [
    "<div>\n",
    "<img src=\"https://i.ibb.co/v3CvVz9/udd-short.png\" width=\"150\"/>\n",
    "    <br>\n",
    "    <strong>Universidad del Desarrollo</strong><br>\n",
    "    <em>Magíster en Data Science</em><br>\n",
    "    <em>Profesora: Maria Paz Raveau</em><br>\n",
    "    <em>Asignatura: Procesamiento de Lenguaje Natural</em><br>\n",
    "\n",
    "</div>\n",
    "\n",
    "# **Tarea 1**\n",
    "\n",
    "*Fecha de Entrega: Domingo 20, Julio 2025.*\n",
    "\n",
    "**Nombre Estudiante**: Victor Saldivia Vera"
   ]
  },
  {
   "cell_type": "markdown",
   "id": "6018466a",
   "metadata": {},
   "source": [
    "### **01. Intrucciones y Enunciado**\n",
    "\n",
    "Suponga que ud. es contactado por alguna agencia gubernamental que quiere saber qué dijeron los participantes de los cabildos de 2016. Ud. debe entonces, basándose en los textos de fundamento, responder a este requerimiento.  Use para ello la base de datos que vimos en clases, de los cabildos provinciales. \n",
    "\n",
    "- Escoja alguna de los conceptos que vienen en la base de datos (evite las que no tengan muchas entradas). Hemos visto cómo generar WordClouds con tokens y con bigramas. *¿Es posible valerse de las etiquetas gramaticales para mejorar el resultado?* \n",
    "- Pruebe haciendo un WordCloud con tokens/sustantivos,  y otro con  bigramas/sustantivo-adjetivo. Recuerde pre-procesar correctamente.\n",
    "- Con estos mismo bigramas/sustantivo-adjetivo, haga una red de bigramas.\n",
    "- Ayúdese con frases de ejemplo, y de los WordClouds, para escribir una descripción del concepto.\n"
   ]
  },
  {
   "cell_type": "markdown",
   "id": "72b064a5",
   "metadata": {},
   "source": [
    "### **02. Descripción de la Data**\n",
    "\n",
    "Carga y primeras exploraciones del DataFrame original.  \n",
    "- Columnas disponibles: 12  \n",
    "- Tamaño del dataset: 30414 registros  \n",
    "- Conteo de nulos en las columnas de texto: 0"
   ]
  },
  {
   "cell_type": "code",
   "execution_count": 105,
   "id": "3ce18d31",
   "metadata": {},
   "outputs": [
    {
     "name": "stdout",
     "output_type": "stream",
     "text": [
      "Dimensión: (30414, 12)\n",
      "Nombre de Columnas: Index(['region_nombre', 'provincia_nombre', 'comuna_nombre', 'cabildo_id',\n",
      "       'cabildo_nombre', 'cabildo_direccion', 'num_mesa', 'pregunta_glosa',\n",
      "       'concepto_nombre', 'concepto_otro', 'tipo-eleccion', 'fundamento'],\n",
      "      dtype='object')\n"
     ]
    }
   ],
   "source": [
    "import pandas as pd\n",
    "df = pd.read_excel('data/resultadocabildoprovincial.xlsx')\n",
    "print(f'Dimensión: {df.shape}'), \n",
    "print(f'Nombre de Columnas: {df.columns}')"
   ]
  },
  {
   "cell_type": "markdown",
   "id": "984ad9d6",
   "metadata": {},
   "source": [
    "### **03. Librerías a Utilizar**\n",
    "Importación de librerías necesarias:\n",
    "\n",
    "- **Pandas**, **NumPy** y expresiones regulares para limpieza  \n",
    "- **Stanza** para NLP (tokenización, POS, lematización)  \n",
    "- **NLTK** para stopwords y collocations  \n",
    "- **WordCloud**, **NetworkX** y **Matplotlib** para visualización  \n",
    "- **tqdm** para barras de progreso."
   ]
  },
  {
   "cell_type": "code",
   "execution_count": 106,
   "id": "d8989cf8",
   "metadata": {},
   "outputs": [],
   "source": [
    "import numpy as np\n",
    "import re\n",
    "import os\n",
    "import unicodedata\n",
    "from collections import Counter\n",
    "\n",
    "# Librerías de Procesamiento de Texto\n",
    "import nltk\n",
    "from nltk.corpus import stopwords\n",
    "from nltk.collocations import BigramCollocationFinder, BigramAssocMeasures\n",
    "import stanza\n",
    "\n",
    "# Visualización\n",
    "import matplotlib.pyplot as plt\n",
    "from matplotlib.patches import Patch\n",
    "from wordcloud import WordCloud\n",
    "import networkx as nx\n",
    "\n",
    "# La librería de warnings se utiliza para manejar las advertencias\n",
    "import warnings\n",
    "warnings.filterwarnings('ignore')\n",
    "\n",
    "# Paquete muestra Barra de Progreso\n",
    "from tqdm import tqdm\n",
    "tqdm.pandas()"
   ]
  },
  {
   "cell_type": "markdown",
   "id": "f109a7ab",
   "metadata": {},
   "source": [
    "Se estableció `KMP_DUPLICATE_LIB_OK=TRUE` para evitar conflicto de múltiples runtimes OpenMP en Windows. Es un workaround temporal *(solución temporal)*."
   ]
  },
  {
   "cell_type": "code",
   "execution_count": 107,
   "id": "691eb869",
   "metadata": {},
   "outputs": [],
   "source": [
    "os.environ[\"KMP_DUPLICATE_LIB_OK\"] = \"TRUE\""
   ]
  },
  {
   "cell_type": "code",
   "execution_count": null,
   "id": "baf0d31f",
   "metadata": {},
   "outputs": [],
   "source": [
    "# Descargas (Nota: Ejecutar una sola vez en entorno local)\n",
    "# nltk.download('punkt')\n",
    "# nltk.download('stopwords')\n",
    "# stanza.download('es')"
   ]
  },
  {
   "cell_type": "markdown",
   "id": "b5a81d65",
   "metadata": {},
   "source": [
    "#### Configuración de Stanza para el NLP"
   ]
  },
  {
   "cell_type": "code",
   "execution_count": 108,
   "id": "33f79e82",
   "metadata": {},
   "outputs": [
    {
     "name": "stderr",
     "output_type": "stream",
     "text": [
      "2025-07-20 18:43:36 INFO: Checking for updates to resources.json in case models have been updated.  Note: this behavior can be turned off with download_method=None or download_method=DownloadMethod.REUSE_RESOURCES\n",
      "Downloading https://raw.githubusercontent.com/stanfordnlp/stanza-resources/main/resources_1.10.0.json: 433kB [00:00, 18.1MB/s]                    \n",
      "2025-07-20 18:43:36 INFO: Downloaded file to C:\\Users\\Victo\\stanza_resources\\resources.json\n",
      "2025-07-20 18:43:36 WARNING: Language es package default expects mwt, which has been added\n",
      "2025-07-20 18:43:37 INFO: Loading these models for language: es (Spanish):\n",
      "=================================\n",
      "| Processor | Package           |\n",
      "---------------------------------\n",
      "| tokenize  | combined          |\n",
      "| mwt       | combined          |\n",
      "| pos       | combined_charlm   |\n",
      "| lemma     | combined_nocharlm |\n",
      "=================================\n",
      "\n",
      "2025-07-20 18:43:37 INFO: Using device: cpu\n",
      "2025-07-20 18:43:37 INFO: Loading: tokenize\n",
      "2025-07-20 18:43:37 INFO: Loading: mwt\n",
      "2025-07-20 18:43:37 INFO: Loading: pos\n",
      "2025-07-20 18:43:39 INFO: Loading: lemma\n",
      "2025-07-20 18:43:40 INFO: Done loading processors!\n"
     ]
    }
   ],
   "source": [
    "nlp = stanza.Pipeline('es', processors='tokenize,pos,lemma', use_gpu=False)  # Cambiar a True si hay GPU\n"
   ]
  },
  {
   "cell_type": "markdown",
   "id": "8fdc2837",
   "metadata": {},
   "source": [
    "### **04. Carga y Exploración Inicial**\n"
   ]
  },
  {
   "cell_type": "code",
   "execution_count": 109,
   "id": "af4cbe4a",
   "metadata": {},
   "outputs": [
    {
     "data": {
      "application/vnd.microsoft.datawrangler.viewer.v0+json": {
       "columns": [
        {
         "name": "index",
         "rawType": "int64",
         "type": "integer"
        },
        {
         "name": "region_nombre",
         "rawType": "object",
         "type": "string"
        },
        {
         "name": "provincia_nombre",
         "rawType": "object",
         "type": "string"
        },
        {
         "name": "comuna_nombre",
         "rawType": "object",
         "type": "string"
        },
        {
         "name": "cabildo_id",
         "rawType": "int64",
         "type": "integer"
        },
        {
         "name": "cabildo_nombre",
         "rawType": "object",
         "type": "string"
        },
        {
         "name": "cabildo_direccion",
         "rawType": "object",
         "type": "string"
        },
        {
         "name": "num_mesa",
         "rawType": "int64",
         "type": "integer"
        },
        {
         "name": "pregunta_glosa",
         "rawType": "object",
         "type": "string"
        },
        {
         "name": "concepto_nombre",
         "rawType": "object",
         "type": "string"
        },
        {
         "name": "concepto_otro",
         "rawType": "object",
         "type": "unknown"
        },
        {
         "name": "tipo-eleccion",
         "rawType": "object",
         "type": "string"
        },
        {
         "name": "fundamento",
         "rawType": "object",
         "type": "string"
        }
       ],
       "ref": "fa2c80a9-769f-4f4e-b59f-5230bad54005",
       "rows": [
        [
         "0",
         "Arica y Parinacota",
         "Arica",
         "Arica",
         "81",
         "Colegio San Marcos",
         "Santa María 2140, Arica",
         "1",
         "¿Cuáles son los valores y principios más importantes que deben inspirar y dar sustento a la Constitución?",
         "Autonomía/libertad",
         null,
         "A",
         "sin fundamento"
        ],
        [
         "1",
         "Arica y Parinacota",
         "Arica",
         "Arica",
         "81",
         "Colegio San Marcos",
         "Santa María 2140, Arica",
         "1",
         "¿Cuáles son los valores y principios más importantes que deben inspirar y dar sustento a la Constitución?",
         "Democracia",
         null,
         "A",
         "Sin fundamento"
        ],
        [
         "2",
         "Arica y Parinacota",
         "Arica",
         "Arica",
         "81",
         "Colegio San Marcos",
         "Santa María 2140, Arica",
         "1",
         "¿Cuáles son los valores y principios más importantes que deben inspirar y dar sustento a la Constitución?",
         "Descentralización",
         null,
         "A",
         "La descentralizacion de ser autonoma por ser zona extrema del pais"
        ],
        [
         "3",
         "Arica y Parinacota",
         "Arica",
         "Arica",
         "81",
         "Colegio San Marcos",
         "Santa María 2140, Arica",
         "1",
         "¿Cuáles son los valores y principios más importantes que deben inspirar y dar sustento a la Constitución?",
         "Equidad de género",
         null,
         "A",
         "Sin fundamento"
        ],
        [
         "4",
         "Arica y Parinacota",
         "Arica",
         "Arica",
         "81",
         "Colegio San Marcos",
         "Santa María 2140, Arica",
         "1",
         "¿Cuáles son los valores y principios más importantes que deben inspirar y dar sustento a la Constitución?",
         "Respeto/conservación de la naturaleza o medio ambiente",
         null,
         "A",
         "Sin fundamento"
        ]
       ],
       "shape": {
        "columns": 12,
        "rows": 5
       }
      },
      "text/html": [
       "<div>\n",
       "<style scoped>\n",
       "    .dataframe tbody tr th:only-of-type {\n",
       "        vertical-align: middle;\n",
       "    }\n",
       "\n",
       "    .dataframe tbody tr th {\n",
       "        vertical-align: top;\n",
       "    }\n",
       "\n",
       "    .dataframe thead th {\n",
       "        text-align: right;\n",
       "    }\n",
       "</style>\n",
       "<table border=\"1\" class=\"dataframe\">\n",
       "  <thead>\n",
       "    <tr style=\"text-align: right;\">\n",
       "      <th></th>\n",
       "      <th>region_nombre</th>\n",
       "      <th>provincia_nombre</th>\n",
       "      <th>comuna_nombre</th>\n",
       "      <th>cabildo_id</th>\n",
       "      <th>cabildo_nombre</th>\n",
       "      <th>cabildo_direccion</th>\n",
       "      <th>num_mesa</th>\n",
       "      <th>pregunta_glosa</th>\n",
       "      <th>concepto_nombre</th>\n",
       "      <th>concepto_otro</th>\n",
       "      <th>tipo-eleccion</th>\n",
       "      <th>fundamento</th>\n",
       "    </tr>\n",
       "  </thead>\n",
       "  <tbody>\n",
       "    <tr>\n",
       "      <th>0</th>\n",
       "      <td>Arica y Parinacota</td>\n",
       "      <td>Arica</td>\n",
       "      <td>Arica</td>\n",
       "      <td>81</td>\n",
       "      <td>Colegio San Marcos</td>\n",
       "      <td>Santa María 2140, Arica</td>\n",
       "      <td>1</td>\n",
       "      <td>¿Cuáles son los valores y principios más impor...</td>\n",
       "      <td>Autonomía/libertad</td>\n",
       "      <td>NaN</td>\n",
       "      <td>A</td>\n",
       "      <td>sin fundamento</td>\n",
       "    </tr>\n",
       "    <tr>\n",
       "      <th>1</th>\n",
       "      <td>Arica y Parinacota</td>\n",
       "      <td>Arica</td>\n",
       "      <td>Arica</td>\n",
       "      <td>81</td>\n",
       "      <td>Colegio San Marcos</td>\n",
       "      <td>Santa María 2140, Arica</td>\n",
       "      <td>1</td>\n",
       "      <td>¿Cuáles son los valores y principios más impor...</td>\n",
       "      <td>Democracia</td>\n",
       "      <td>NaN</td>\n",
       "      <td>A</td>\n",
       "      <td>Sin fundamento</td>\n",
       "    </tr>\n",
       "    <tr>\n",
       "      <th>2</th>\n",
       "      <td>Arica y Parinacota</td>\n",
       "      <td>Arica</td>\n",
       "      <td>Arica</td>\n",
       "      <td>81</td>\n",
       "      <td>Colegio San Marcos</td>\n",
       "      <td>Santa María 2140, Arica</td>\n",
       "      <td>1</td>\n",
       "      <td>¿Cuáles son los valores y principios más impor...</td>\n",
       "      <td>Descentralización</td>\n",
       "      <td>NaN</td>\n",
       "      <td>A</td>\n",
       "      <td>La descentralizacion de ser autonoma por ser z...</td>\n",
       "    </tr>\n",
       "    <tr>\n",
       "      <th>3</th>\n",
       "      <td>Arica y Parinacota</td>\n",
       "      <td>Arica</td>\n",
       "      <td>Arica</td>\n",
       "      <td>81</td>\n",
       "      <td>Colegio San Marcos</td>\n",
       "      <td>Santa María 2140, Arica</td>\n",
       "      <td>1</td>\n",
       "      <td>¿Cuáles son los valores y principios más impor...</td>\n",
       "      <td>Equidad de género</td>\n",
       "      <td>NaN</td>\n",
       "      <td>A</td>\n",
       "      <td>Sin fundamento</td>\n",
       "    </tr>\n",
       "    <tr>\n",
       "      <th>4</th>\n",
       "      <td>Arica y Parinacota</td>\n",
       "      <td>Arica</td>\n",
       "      <td>Arica</td>\n",
       "      <td>81</td>\n",
       "      <td>Colegio San Marcos</td>\n",
       "      <td>Santa María 2140, Arica</td>\n",
       "      <td>1</td>\n",
       "      <td>¿Cuáles son los valores y principios más impor...</td>\n",
       "      <td>Respeto/conservación de la naturaleza o medio ...</td>\n",
       "      <td>NaN</td>\n",
       "      <td>A</td>\n",
       "      <td>Sin fundamento</td>\n",
       "    </tr>\n",
       "  </tbody>\n",
       "</table>\n",
       "</div>"
      ],
      "text/plain": [
       "        region_nombre provincia_nombre comuna_nombre  cabildo_id  \\\n",
       "0  Arica y Parinacota            Arica         Arica          81   \n",
       "1  Arica y Parinacota            Arica         Arica          81   \n",
       "2  Arica y Parinacota            Arica         Arica          81   \n",
       "3  Arica y Parinacota            Arica         Arica          81   \n",
       "4  Arica y Parinacota            Arica         Arica          81   \n",
       "\n",
       "       cabildo_nombre        cabildo_direccion  num_mesa  \\\n",
       "0  Colegio San Marcos  Santa María 2140, Arica         1   \n",
       "1  Colegio San Marcos  Santa María 2140, Arica         1   \n",
       "2  Colegio San Marcos  Santa María 2140, Arica         1   \n",
       "3  Colegio San Marcos  Santa María 2140, Arica         1   \n",
       "4  Colegio San Marcos  Santa María 2140, Arica         1   \n",
       "\n",
       "                                      pregunta_glosa  \\\n",
       "0  ¿Cuáles son los valores y principios más impor...   \n",
       "1  ¿Cuáles son los valores y principios más impor...   \n",
       "2  ¿Cuáles son los valores y principios más impor...   \n",
       "3  ¿Cuáles son los valores y principios más impor...   \n",
       "4  ¿Cuáles son los valores y principios más impor...   \n",
       "\n",
       "                                     concepto_nombre concepto_otro  \\\n",
       "0                                 Autonomía/libertad           NaN   \n",
       "1                                         Democracia           NaN   \n",
       "2                                  Descentralización           NaN   \n",
       "3                                  Equidad de género           NaN   \n",
       "4  Respeto/conservación de la naturaleza o medio ...           NaN   \n",
       "\n",
       "  tipo-eleccion                                         fundamento  \n",
       "0             A                                     sin fundamento  \n",
       "1             A                                     Sin fundamento  \n",
       "2             A  La descentralizacion de ser autonoma por ser z...  \n",
       "3             A                                     Sin fundamento  \n",
       "4             A                                     Sin fundamento  "
      ]
     },
     "execution_count": 109,
     "metadata": {},
     "output_type": "execute_result"
    }
   ],
   "source": [
    "df.head()"
   ]
  },
  {
   "cell_type": "markdown",
   "id": "43e47afd",
   "metadata": {},
   "source": [
    "#### Conteo de nulos en columnas de texto\n"
   ]
  },
  {
   "cell_type": "code",
   "execution_count": 110,
   "id": "e8568cbe",
   "metadata": {},
   "outputs": [
    {
     "name": "stdout",
     "output_type": "stream",
     "text": [
      "0\n"
     ]
    }
   ],
   "source": [
    "texto_col = \"fundamento\"\n",
    "print(df[texto_col].isna().sum())"
   ]
  },
  {
   "cell_type": "markdown",
   "id": "737f928e",
   "metadata": {},
   "source": [
    "#### Estadísticas Descriptivas sobre el texto\n"
   ]
  },
  {
   "cell_type": "code",
   "execution_count": 111,
   "id": "67c1b00c",
   "metadata": {},
   "outputs": [
    {
     "data": {
      "application/vnd.microsoft.datawrangler.viewer.v0+json": {
       "columns": [
        {
         "name": "index",
         "rawType": "object",
         "type": "string"
        },
        {
         "name": "len_chars",
         "rawType": "float64",
         "type": "float"
        },
        {
         "name": "len_tokens_raw",
         "rawType": "float64",
         "type": "float"
        }
       ],
       "ref": "0da1c68f-a238-4450-9661-445327fe6bf5",
       "rows": [
        [
         "count",
         "30414.0",
         "30414.0"
        ],
        [
         "mean",
         "69.09012296968501",
         "10.828269875715131"
        ],
        [
         "std",
         "69.67039421710389",
         "10.993366645463677"
        ],
        [
         "min",
         "1.0",
         "1.0"
        ],
        [
         "25%",
         "15.0",
         "2.0"
        ],
        [
         "50%",
         "47.0",
         "7.0"
        ],
        [
         "75%",
         "102.0",
         "16.0"
        ],
        [
         "max",
         "300.0",
         "61.0"
        ]
       ],
       "shape": {
        "columns": 2,
        "rows": 8
       }
      },
      "text/html": [
       "<div>\n",
       "<style scoped>\n",
       "    .dataframe tbody tr th:only-of-type {\n",
       "        vertical-align: middle;\n",
       "    }\n",
       "\n",
       "    .dataframe tbody tr th {\n",
       "        vertical-align: top;\n",
       "    }\n",
       "\n",
       "    .dataframe thead th {\n",
       "        text-align: right;\n",
       "    }\n",
       "</style>\n",
       "<table border=\"1\" class=\"dataframe\">\n",
       "  <thead>\n",
       "    <tr style=\"text-align: right;\">\n",
       "      <th></th>\n",
       "      <th>len_chars</th>\n",
       "      <th>len_tokens_raw</th>\n",
       "    </tr>\n",
       "  </thead>\n",
       "  <tbody>\n",
       "    <tr>\n",
       "      <th>count</th>\n",
       "      <td>30414.000000</td>\n",
       "      <td>30414.000000</td>\n",
       "    </tr>\n",
       "    <tr>\n",
       "      <th>mean</th>\n",
       "      <td>69.090123</td>\n",
       "      <td>10.828270</td>\n",
       "    </tr>\n",
       "    <tr>\n",
       "      <th>std</th>\n",
       "      <td>69.670394</td>\n",
       "      <td>10.993367</td>\n",
       "    </tr>\n",
       "    <tr>\n",
       "      <th>min</th>\n",
       "      <td>1.000000</td>\n",
       "      <td>1.000000</td>\n",
       "    </tr>\n",
       "    <tr>\n",
       "      <th>25%</th>\n",
       "      <td>15.000000</td>\n",
       "      <td>2.000000</td>\n",
       "    </tr>\n",
       "    <tr>\n",
       "      <th>50%</th>\n",
       "      <td>47.000000</td>\n",
       "      <td>7.000000</td>\n",
       "    </tr>\n",
       "    <tr>\n",
       "      <th>75%</th>\n",
       "      <td>102.000000</td>\n",
       "      <td>16.000000</td>\n",
       "    </tr>\n",
       "    <tr>\n",
       "      <th>max</th>\n",
       "      <td>300.000000</td>\n",
       "      <td>61.000000</td>\n",
       "    </tr>\n",
       "  </tbody>\n",
       "</table>\n",
       "</div>"
      ],
      "text/plain": [
       "          len_chars  len_tokens_raw\n",
       "count  30414.000000    30414.000000\n",
       "mean      69.090123       10.828270\n",
       "std       69.670394       10.993367\n",
       "min        1.000000        1.000000\n",
       "25%       15.000000        2.000000\n",
       "50%       47.000000        7.000000\n",
       "75%      102.000000       16.000000\n",
       "max      300.000000       61.000000"
      ]
     },
     "execution_count": 111,
     "metadata": {},
     "output_type": "execute_result"
    }
   ],
   "source": [
    "df['len_chars'] = df[texto_col].str.len() # columna de longitud de caracteres\n",
    "df['len_tokens_raw'] = df[texto_col].str.split().str.len() # columna de tokens sin procesar\n",
    "df[['len_chars','len_tokens_raw']].describe()"
   ]
  },
  {
   "cell_type": "markdown",
   "id": "14a04f3f",
   "metadata": {},
   "source": [
    "#### Eliminación de nulos y duplicados\n"
   ]
  },
  {
   "cell_type": "code",
   "execution_count": 112,
   "id": "34d5c453",
   "metadata": {},
   "outputs": [
    {
     "name": "stdout",
     "output_type": "stream",
     "text": [
      "Filas eliminadas: 11088\n"
     ]
    }
   ],
   "source": [
    "before = len(df)\n",
    "df = df.dropna(subset=[texto_col])\n",
    "df = df.drop_duplicates(subset=[texto_col])\n",
    "print(f\"Filas eliminadas: {before - len(df)}\")"
   ]
  },
  {
   "cell_type": "markdown",
   "id": "7101cecc",
   "metadata": {},
   "source": [
    "### **05. Selección de Concepto**\n",
    "Se exploran las frecuencias de `concepto_nombre` y se elige el concepto.\n",
    "\n",
    "- Se elige el concepto `Democracia` ya que tienen una alta frecuencia (Top 3) \n",
    "- Se construye yb sub conjunto `subset` filtrado por el concepto elegido"
   ]
  },
  {
   "cell_type": "code",
   "execution_count": 113,
   "id": "7774fd01",
   "metadata": {},
   "outputs": [
    {
     "data": {
      "application/vnd.microsoft.datawrangler.viewer.v0+json": {
       "columns": [
        {
         "name": "concepto_nombre",
         "rawType": "object",
         "type": "string"
        },
        {
         "name": "count",
         "rawType": "int64",
         "type": "integer"
        }
       ],
       "ref": "57b1324d-dbfb-4bf0-bb8f-544d904cf138",
       "rows": [
        [
         "Otro",
         "3976"
        ],
        [
         "Igualdad",
         "519"
        ],
        [
         "Democracia",
         "507"
        ],
        [
         "Descentralización",
         "503"
        ],
        [
         "Justicia",
         "492"
        ],
        [
         "Respeto/conservación de la naturaleza o medio ambiente",
         "484"
        ],
        [
         "A la vida",
         "440"
        ],
        [
         "A la salud",
         "437"
        ],
        [
         "A la educación",
         "428"
        ],
        [
         "Respeto",
         "385"
        ],
        [
         "Fuerzas Armadas",
         "381"
        ],
        [
         "Bien Común/comunidad",
         "381"
        ],
        [
         "Congreso o parlamento (estructura y funciones)",
         "373"
        ],
        [
         "A la vivienda digna",
         "365"
        ],
        [
         "Plebiscitos, referendos y consultas",
         "361"
        ],
        [
         "Respeto por la constitución",
         "335"
        ],
        [
         "Igualdad ante la ley",
         "332"
        ],
        [
         "Defensor del Pueblo/Ciudadano",
         "312"
        ],
        [
         "Poder judicial (estructura y funciones)",
         "306"
        ],
        [
         "A la seguridad social",
         "300"
        ]
       ],
       "shape": {
        "columns": 1,
        "rows": 20
       }
      },
      "text/plain": [
       "concepto_nombre\n",
       "Otro                                                      3976\n",
       "Igualdad                                                   519\n",
       "Democracia                                                 507\n",
       "Descentralización                                          503\n",
       "Justicia                                                   492\n",
       "Respeto/conservación de la naturaleza o medio ambiente     484\n",
       "A la vida                                                  440\n",
       "A la salud                                                 437\n",
       "A la educación                                             428\n",
       "Respeto                                                    385\n",
       "Fuerzas Armadas                                            381\n",
       "Bien Común/comunidad                                       381\n",
       "Congreso o parlamento (estructura y funciones)             373\n",
       "A la vivienda digna                                        365\n",
       "Plebiscitos, referendos y consultas                        361\n",
       "Respeto por la constitución                                335\n",
       "Igualdad ante la ley                                       332\n",
       "Defensor del Pueblo/Ciudadano                              312\n",
       "Poder judicial (estructura y funciones)                    306\n",
       "A la seguridad social                                      300\n",
       "Name: count, dtype: int64"
      ]
     },
     "execution_count": 113,
     "metadata": {},
     "output_type": "execute_result"
    }
   ],
   "source": [
    "# Distribución de frecuencias para elegir uno con suficientes observaciones\n",
    "concepto_col = \"concepto_nombre\" \n",
    "concept_counts = df[concepto_col].value_counts()\n",
    "concept_counts.head(20)"
   ]
  },
  {
   "cell_type": "markdown",
   "id": "ba66ba73",
   "metadata": {},
   "source": [
    "#### Selección de Concepto"
   ]
  },
  {
   "cell_type": "code",
   "execution_count": 114,
   "id": "77233baa",
   "metadata": {},
   "outputs": [],
   "source": [
    "concepto_elegido = \"Democracia\" "
   ]
  },
  {
   "cell_type": "markdown",
   "id": "5a00504d",
   "metadata": {},
   "source": [
    "#### Creación del Subconjunto filtrado\n",
    "Se elige el concepto 'Democracia' el cual tiene una frecuencia de (507 ocurrencias) para garantizar masa textual suficiente y diversidad léxica. Se descartaron conceptos con baja frecuencia para evitar resultados inestables en nubes de palabras y bigramas.”\n",
    "\n"
   ]
  },
  {
   "cell_type": "code",
   "execution_count": 115,
   "id": "1e4dd563",
   "metadata": {},
   "outputs": [
    {
     "name": "stdout",
     "output_type": "stream",
     "text": [
      "Filas del concepto: 507\n"
     ]
    }
   ],
   "source": [
    "subset = df[df[concepto_col] == concepto_elegido].copy()\n",
    "print(\"Filas del concepto:\", len(subset))"
   ]
  },
  {
   "cell_type": "code",
   "execution_count": 116,
   "id": "4b9b1a5d",
   "metadata": {},
   "outputs": [
    {
     "data": {
      "application/vnd.microsoft.datawrangler.viewer.v0+json": {
       "columns": [
        {
         "name": "index",
         "rawType": "int64",
         "type": "integer"
        },
        {
         "name": "region_nombre",
         "rawType": "object",
         "type": "string"
        },
        {
         "name": "provincia_nombre",
         "rawType": "object",
         "type": "string"
        },
        {
         "name": "comuna_nombre",
         "rawType": "object",
         "type": "string"
        },
        {
         "name": "cabildo_id",
         "rawType": "int64",
         "type": "integer"
        },
        {
         "name": "cabildo_nombre",
         "rawType": "object",
         "type": "string"
        },
        {
         "name": "cabildo_direccion",
         "rawType": "object",
         "type": "string"
        },
        {
         "name": "num_mesa",
         "rawType": "int64",
         "type": "integer"
        },
        {
         "name": "pregunta_glosa",
         "rawType": "object",
         "type": "string"
        },
        {
         "name": "concepto_nombre",
         "rawType": "object",
         "type": "string"
        },
        {
         "name": "concepto_otro",
         "rawType": "object",
         "type": "unknown"
        },
        {
         "name": "tipo-eleccion",
         "rawType": "object",
         "type": "string"
        },
        {
         "name": "fundamento",
         "rawType": "object",
         "type": "string"
        },
        {
         "name": "len_chars",
         "rawType": "int64",
         "type": "integer"
        },
        {
         "name": "len_tokens_raw",
         "rawType": "int64",
         "type": "integer"
        }
       ],
       "ref": "3373dc84-b386-4ee1-9023-d5c5bca4e45b",
       "rows": [
        [
         "1",
         "Arica y Parinacota",
         "Arica",
         "Arica",
         "81",
         "Colegio San Marcos",
         "Santa María 2140, Arica",
         "1",
         "¿Cuáles son los valores y principios más importantes que deben inspirar y dar sustento a la Constitución?",
         "Democracia",
         null,
         "A",
         "Sin fundamento",
         "14",
         "2"
        ],
        [
         "142",
         "Arica y Parinacota",
         "Arica",
         "Arica",
         "81",
         "Colegio San Marcos",
         "Santa María 2140, Arica",
         "5",
         "¿Cuáles son los valores y principios más importantes que deben inspirar y dar sustento a la Constitución?",
         "Democracia",
         null,
         "A",
         "Que el ciudadano pueda participar en la toma de decisiones con igualdad, aceptación y respeto por el otro, considerando todas las realidades.",
         "141",
         "22"
        ],
        [
         "169",
         "Arica y Parinacota",
         "Arica",
         "Arica",
         "81",
         "Colegio San Marcos",
         "Santa María 2140, Arica",
         "6",
         "¿Cuáles son los valores y principios más importantes que deben inspirar y dar sustento a la Constitución?",
         "Democracia",
         null,
         "P",
         "Las condiciones actuales no constituyen democracia. No obstante debe ser un valor fundamental en la nueva Constitucion",
         "118",
         "17"
        ],
        [
         "283",
         "Arica y Parinacota",
         "Arica",
         "Arica",
         "81",
         "Colegio San Marcos",
         "Santa María 2140, Arica",
         "9",
         "¿Cuáles son los valores y principios más importantes que deben inspirar y dar sustento a la Constitución?",
         "Democracia",
         null,
         "P",
         "por la estructura establecida en el dialogo anterior",
         "52",
         "8"
        ],
        [
         "316",
         "Arica y Parinacota",
         "Arica",
         "Arica",
         "81",
         "Colegio San Marcos",
         "Santa María 2140, Arica",
         "10",
         "¿Cuáles son los valores y principios más importantes que deben inspirar y dar sustento a la Constitución?",
         "Democracia",
         null,
         "A",
         "debemos pasar de una democracia representativa a una participativa",
         "66",
         "9"
        ],
        [
         "363",
         "Arica y Parinacota",
         "Arica",
         "Arica",
         "81",
         "Colegio San Marcos",
         "Santa María 2140, Arica",
         "11",
         "¿Cuáles son los valores y principios más importantes que deben inspirar y dar sustento a la Constitución?",
         "Democracia",
         null,
         "A",
         "por eso estamos aqui",
         "20",
         "4"
        ],
        [
         "491",
         "Arica y Parinacota",
         "Arica",
         "Arica",
         "81",
         "Colegio San Marcos",
         "Santa María 2140, Arica",
         "14",
         "¿Cuáles son los valores y principios más importantes que deben inspirar y dar sustento a la Constitución?",
         "Democracia",
         null,
         "A",
         "Se garantice una democracia vinculante que se apliquen topes a la acumulación de riquezas",
         "89",
         "14"
        ],
        [
         "526",
         "Arica y Parinacota",
         "Arica",
         "Arica",
         "81",
         "Colegio San Marcos",
         "Santa María 2140, Arica",
         "15",
         "¿Cuáles son los valores y principios más importantes que deben inspirar y dar sustento a la Constitución?",
         "Democracia",
         null,
         "A",
         "la base y el principio de todos",
         "31",
         "7"
        ],
        [
         "746",
         "Arica y Parinacota",
         "Parinacota",
         "Putre",
         "121",
         "Liceo Granaderos de Putre",
         "Teniente del Campo 242, Putre",
         "2",
         "¿Cuáles son los valores y principios más importantes que deben inspirar y dar sustento a la Constitución?",
         "Democracia",
         null,
         "A",
         "Mejorar  en todos los aspectos los sistemas democráticos de participación. No es posible que aún , en algunas instancias de votación, las postulaciones más votadas finalmente no sean las elegidas. Por ende, ahí se pasa por encima de las decisiones populares.",
         "258",
         "41"
        ],
        [
         "945",
         "Tarapacá",
         "Iquique",
         "Alto Hospicio",
         "107",
         "San Antonio de Matilla",
         "Los Kiwis 3443, Alto Hospicio",
         "2",
         "¿Cuáles son los valores y principios más importantes que deben inspirar y dar sustento a la Constitución?",
         "Democracia",
         null,
         "A",
         "Elemento fundamental en la nueva constitución en Chile",
         "54",
         "8"
        ]
       ],
       "shape": {
        "columns": 14,
        "rows": 10
       }
      },
      "text/html": [
       "<div>\n",
       "<style scoped>\n",
       "    .dataframe tbody tr th:only-of-type {\n",
       "        vertical-align: middle;\n",
       "    }\n",
       "\n",
       "    .dataframe tbody tr th {\n",
       "        vertical-align: top;\n",
       "    }\n",
       "\n",
       "    .dataframe thead th {\n",
       "        text-align: right;\n",
       "    }\n",
       "</style>\n",
       "<table border=\"1\" class=\"dataframe\">\n",
       "  <thead>\n",
       "    <tr style=\"text-align: right;\">\n",
       "      <th></th>\n",
       "      <th>region_nombre</th>\n",
       "      <th>provincia_nombre</th>\n",
       "      <th>comuna_nombre</th>\n",
       "      <th>cabildo_id</th>\n",
       "      <th>cabildo_nombre</th>\n",
       "      <th>cabildo_direccion</th>\n",
       "      <th>num_mesa</th>\n",
       "      <th>pregunta_glosa</th>\n",
       "      <th>concepto_nombre</th>\n",
       "      <th>concepto_otro</th>\n",
       "      <th>tipo-eleccion</th>\n",
       "      <th>fundamento</th>\n",
       "      <th>len_chars</th>\n",
       "      <th>len_tokens_raw</th>\n",
       "    </tr>\n",
       "  </thead>\n",
       "  <tbody>\n",
       "    <tr>\n",
       "      <th>1</th>\n",
       "      <td>Arica y Parinacota</td>\n",
       "      <td>Arica</td>\n",
       "      <td>Arica</td>\n",
       "      <td>81</td>\n",
       "      <td>Colegio San Marcos</td>\n",
       "      <td>Santa María 2140, Arica</td>\n",
       "      <td>1</td>\n",
       "      <td>¿Cuáles son los valores y principios más impor...</td>\n",
       "      <td>Democracia</td>\n",
       "      <td>NaN</td>\n",
       "      <td>A</td>\n",
       "      <td>Sin fundamento</td>\n",
       "      <td>14</td>\n",
       "      <td>2</td>\n",
       "    </tr>\n",
       "    <tr>\n",
       "      <th>142</th>\n",
       "      <td>Arica y Parinacota</td>\n",
       "      <td>Arica</td>\n",
       "      <td>Arica</td>\n",
       "      <td>81</td>\n",
       "      <td>Colegio San Marcos</td>\n",
       "      <td>Santa María 2140, Arica</td>\n",
       "      <td>5</td>\n",
       "      <td>¿Cuáles son los valores y principios más impor...</td>\n",
       "      <td>Democracia</td>\n",
       "      <td>NaN</td>\n",
       "      <td>A</td>\n",
       "      <td>Que el ciudadano pueda participar en la toma d...</td>\n",
       "      <td>141</td>\n",
       "      <td>22</td>\n",
       "    </tr>\n",
       "    <tr>\n",
       "      <th>169</th>\n",
       "      <td>Arica y Parinacota</td>\n",
       "      <td>Arica</td>\n",
       "      <td>Arica</td>\n",
       "      <td>81</td>\n",
       "      <td>Colegio San Marcos</td>\n",
       "      <td>Santa María 2140, Arica</td>\n",
       "      <td>6</td>\n",
       "      <td>¿Cuáles son los valores y principios más impor...</td>\n",
       "      <td>Democracia</td>\n",
       "      <td>NaN</td>\n",
       "      <td>P</td>\n",
       "      <td>Las condiciones actuales no constituyen democr...</td>\n",
       "      <td>118</td>\n",
       "      <td>17</td>\n",
       "    </tr>\n",
       "    <tr>\n",
       "      <th>283</th>\n",
       "      <td>Arica y Parinacota</td>\n",
       "      <td>Arica</td>\n",
       "      <td>Arica</td>\n",
       "      <td>81</td>\n",
       "      <td>Colegio San Marcos</td>\n",
       "      <td>Santa María 2140, Arica</td>\n",
       "      <td>9</td>\n",
       "      <td>¿Cuáles son los valores y principios más impor...</td>\n",
       "      <td>Democracia</td>\n",
       "      <td>NaN</td>\n",
       "      <td>P</td>\n",
       "      <td>por la estructura establecida en el dialogo an...</td>\n",
       "      <td>52</td>\n",
       "      <td>8</td>\n",
       "    </tr>\n",
       "    <tr>\n",
       "      <th>316</th>\n",
       "      <td>Arica y Parinacota</td>\n",
       "      <td>Arica</td>\n",
       "      <td>Arica</td>\n",
       "      <td>81</td>\n",
       "      <td>Colegio San Marcos</td>\n",
       "      <td>Santa María 2140, Arica</td>\n",
       "      <td>10</td>\n",
       "      <td>¿Cuáles son los valores y principios más impor...</td>\n",
       "      <td>Democracia</td>\n",
       "      <td>NaN</td>\n",
       "      <td>A</td>\n",
       "      <td>debemos pasar de una democracia representativa...</td>\n",
       "      <td>66</td>\n",
       "      <td>9</td>\n",
       "    </tr>\n",
       "    <tr>\n",
       "      <th>363</th>\n",
       "      <td>Arica y Parinacota</td>\n",
       "      <td>Arica</td>\n",
       "      <td>Arica</td>\n",
       "      <td>81</td>\n",
       "      <td>Colegio San Marcos</td>\n",
       "      <td>Santa María 2140, Arica</td>\n",
       "      <td>11</td>\n",
       "      <td>¿Cuáles son los valores y principios más impor...</td>\n",
       "      <td>Democracia</td>\n",
       "      <td>NaN</td>\n",
       "      <td>A</td>\n",
       "      <td>por eso estamos aqui</td>\n",
       "      <td>20</td>\n",
       "      <td>4</td>\n",
       "    </tr>\n",
       "    <tr>\n",
       "      <th>491</th>\n",
       "      <td>Arica y Parinacota</td>\n",
       "      <td>Arica</td>\n",
       "      <td>Arica</td>\n",
       "      <td>81</td>\n",
       "      <td>Colegio San Marcos</td>\n",
       "      <td>Santa María 2140, Arica</td>\n",
       "      <td>14</td>\n",
       "      <td>¿Cuáles son los valores y principios más impor...</td>\n",
       "      <td>Democracia</td>\n",
       "      <td>NaN</td>\n",
       "      <td>A</td>\n",
       "      <td>Se garantice una democracia vinculante que se ...</td>\n",
       "      <td>89</td>\n",
       "      <td>14</td>\n",
       "    </tr>\n",
       "    <tr>\n",
       "      <th>526</th>\n",
       "      <td>Arica y Parinacota</td>\n",
       "      <td>Arica</td>\n",
       "      <td>Arica</td>\n",
       "      <td>81</td>\n",
       "      <td>Colegio San Marcos</td>\n",
       "      <td>Santa María 2140, Arica</td>\n",
       "      <td>15</td>\n",
       "      <td>¿Cuáles son los valores y principios más impor...</td>\n",
       "      <td>Democracia</td>\n",
       "      <td>NaN</td>\n",
       "      <td>A</td>\n",
       "      <td>la base y el principio de todos</td>\n",
       "      <td>31</td>\n",
       "      <td>7</td>\n",
       "    </tr>\n",
       "    <tr>\n",
       "      <th>746</th>\n",
       "      <td>Arica y Parinacota</td>\n",
       "      <td>Parinacota</td>\n",
       "      <td>Putre</td>\n",
       "      <td>121</td>\n",
       "      <td>Liceo Granaderos de Putre</td>\n",
       "      <td>Teniente del Campo 242, Putre</td>\n",
       "      <td>2</td>\n",
       "      <td>¿Cuáles son los valores y principios más impor...</td>\n",
       "      <td>Democracia</td>\n",
       "      <td>NaN</td>\n",
       "      <td>A</td>\n",
       "      <td>Mejorar  en todos los aspectos los sistemas de...</td>\n",
       "      <td>258</td>\n",
       "      <td>41</td>\n",
       "    </tr>\n",
       "    <tr>\n",
       "      <th>945</th>\n",
       "      <td>Tarapacá</td>\n",
       "      <td>Iquique</td>\n",
       "      <td>Alto Hospicio</td>\n",
       "      <td>107</td>\n",
       "      <td>San Antonio de Matilla</td>\n",
       "      <td>Los Kiwis 3443, Alto Hospicio</td>\n",
       "      <td>2</td>\n",
       "      <td>¿Cuáles son los valores y principios más impor...</td>\n",
       "      <td>Democracia</td>\n",
       "      <td>NaN</td>\n",
       "      <td>A</td>\n",
       "      <td>Elemento fundamental en la nueva constitución ...</td>\n",
       "      <td>54</td>\n",
       "      <td>8</td>\n",
       "    </tr>\n",
       "  </tbody>\n",
       "</table>\n",
       "</div>"
      ],
      "text/plain": [
       "          region_nombre provincia_nombre  comuna_nombre  cabildo_id  \\\n",
       "1    Arica y Parinacota            Arica          Arica          81   \n",
       "142  Arica y Parinacota            Arica          Arica          81   \n",
       "169  Arica y Parinacota            Arica          Arica          81   \n",
       "283  Arica y Parinacota            Arica          Arica          81   \n",
       "316  Arica y Parinacota            Arica          Arica          81   \n",
       "363  Arica y Parinacota            Arica          Arica          81   \n",
       "491  Arica y Parinacota            Arica          Arica          81   \n",
       "526  Arica y Parinacota            Arica          Arica          81   \n",
       "746  Arica y Parinacota       Parinacota          Putre         121   \n",
       "945            Tarapacá          Iquique  Alto Hospicio         107   \n",
       "\n",
       "                cabildo_nombre              cabildo_direccion  num_mesa  \\\n",
       "1           Colegio San Marcos        Santa María 2140, Arica         1   \n",
       "142         Colegio San Marcos        Santa María 2140, Arica         5   \n",
       "169         Colegio San Marcos        Santa María 2140, Arica         6   \n",
       "283         Colegio San Marcos        Santa María 2140, Arica         9   \n",
       "316         Colegio San Marcos        Santa María 2140, Arica        10   \n",
       "363         Colegio San Marcos        Santa María 2140, Arica        11   \n",
       "491         Colegio San Marcos        Santa María 2140, Arica        14   \n",
       "526         Colegio San Marcos        Santa María 2140, Arica        15   \n",
       "746  Liceo Granaderos de Putre  Teniente del Campo 242, Putre         2   \n",
       "945     San Antonio de Matilla  Los Kiwis 3443, Alto Hospicio         2   \n",
       "\n",
       "                                        pregunta_glosa concepto_nombre  \\\n",
       "1    ¿Cuáles son los valores y principios más impor...      Democracia   \n",
       "142  ¿Cuáles son los valores y principios más impor...      Democracia   \n",
       "169  ¿Cuáles son los valores y principios más impor...      Democracia   \n",
       "283  ¿Cuáles son los valores y principios más impor...      Democracia   \n",
       "316  ¿Cuáles son los valores y principios más impor...      Democracia   \n",
       "363  ¿Cuáles son los valores y principios más impor...      Democracia   \n",
       "491  ¿Cuáles son los valores y principios más impor...      Democracia   \n",
       "526  ¿Cuáles son los valores y principios más impor...      Democracia   \n",
       "746  ¿Cuáles son los valores y principios más impor...      Democracia   \n",
       "945  ¿Cuáles son los valores y principios más impor...      Democracia   \n",
       "\n",
       "    concepto_otro tipo-eleccion  \\\n",
       "1             NaN             A   \n",
       "142           NaN             A   \n",
       "169           NaN             P   \n",
       "283           NaN             P   \n",
       "316           NaN             A   \n",
       "363           NaN             A   \n",
       "491           NaN             A   \n",
       "526           NaN             A   \n",
       "746           NaN             A   \n",
       "945           NaN             A   \n",
       "\n",
       "                                            fundamento  len_chars  \\\n",
       "1                                       Sin fundamento         14   \n",
       "142  Que el ciudadano pueda participar en la toma d...        141   \n",
       "169  Las condiciones actuales no constituyen democr...        118   \n",
       "283  por la estructura establecida en el dialogo an...         52   \n",
       "316  debemos pasar de una democracia representativa...         66   \n",
       "363                               por eso estamos aqui         20   \n",
       "491  Se garantice una democracia vinculante que se ...         89   \n",
       "526                    la base y el principio de todos         31   \n",
       "746  Mejorar  en todos los aspectos los sistemas de...        258   \n",
       "945  Elemento fundamental en la nueva constitución ...         54   \n",
       "\n",
       "     len_tokens_raw  \n",
       "1                 2  \n",
       "142              22  \n",
       "169              17  \n",
       "283               8  \n",
       "316               9  \n",
       "363               4  \n",
       "491              14  \n",
       "526               7  \n",
       "746              41  \n",
       "945               8  "
      ]
     },
     "execution_count": 116,
     "metadata": {},
     "output_type": "execute_result"
    }
   ],
   "source": [
    "# Subconjunto de datos para el concepto elegido\n",
    "subset.head(10)"
   ]
  },
  {
   "cell_type": "markdown",
   "id": "7435734c",
   "metadata": {},
   "source": [
    "### **06. Pre-Procesamiento de Texto**\n",
    "\n",
    "**Limpieza de texto**  \n",
    "1. Remoción de Ruido Semántico (ejemplo: “sin fundamento”)  \n",
    "2. Normalización a minúsculas\n",
    "3. Eliminación de caracteres especiales y tildes\n",
    "4. Eliminación de espacios extras"
   ]
  },
  {
   "cell_type": "code",
   "execution_count": 120,
   "id": "e7fa4ef9",
   "metadata": {},
   "outputs": [
    {
     "name": "stdout",
     "output_type": "stream",
     "text": [
      "0 filas eliminadas por ser placeholders\n"
     ]
    }
   ],
   "source": [
    "PLACEHOLDER_PATTERNS = {\n",
    "    'sin fundamento','sin  fundamento','sinfundamento','sf','nuevo concepto'\n",
    "}\n",
    "\n",
    "def is_placeholder(text):\n",
    "    if not isinstance(text, str):\n",
    "        return True\n",
    "    t = text.strip().lower()\n",
    "    t = re.sub(r'\\s+', ' ', t)\n",
    "    return t in PLACEHOLDER_PATTERNS\n",
    "\n",
    "before_ph = len(df)\n",
    "df = df[~df[texto_col].apply(is_placeholder)]\n",
    "print(f\"{before_ph - len(df)} filas eliminadas por ser placeholders\")"
   ]
  },
  {
   "cell_type": "markdown",
   "id": "b5496745",
   "metadata": {},
   "source": [
    "#### Normalización de Texto"
   ]
  },
  {
   "cell_type": "code",
   "execution_count": 121,
   "id": "5fa531fd",
   "metadata": {},
   "outputs": [],
   "source": [
    "def normalize_text(text: str) -> str:\n",
    "    text = str(text).lower() #\n",
    "    text = unicodedata.normalize('NFKD', text).encode('ascii','ignore').decode('utf-8','ignore')  # eliminar tildes\n",
    "    text = re.sub(r'[^a-z0-9\\\\s]', ' ', text) # eliminar caracteres especiales\n",
    "    text = re.sub(r'\\\\s+', ' ', text).strip() # eliminar espacios extra\n",
    "    return text\n",
    "\n",
    "subset['texto_norm'] = subset[texto_col].apply(normalize_text)"
   ]
  },
  {
   "cell_type": "code",
   "execution_count": 122,
   "id": "675838f9",
   "metadata": {},
   "outputs": [
    {
     "data": {
      "application/vnd.microsoft.datawrangler.viewer.v0+json": {
       "columns": [
        {
         "name": "index",
         "rawType": "int64",
         "type": "integer"
        },
        {
         "name": "region_nombre",
         "rawType": "object",
         "type": "string"
        },
        {
         "name": "provincia_nombre",
         "rawType": "object",
         "type": "string"
        },
        {
         "name": "comuna_nombre",
         "rawType": "object",
         "type": "string"
        },
        {
         "name": "cabildo_id",
         "rawType": "int64",
         "type": "integer"
        },
        {
         "name": "cabildo_nombre",
         "rawType": "object",
         "type": "string"
        },
        {
         "name": "cabildo_direccion",
         "rawType": "object",
         "type": "string"
        },
        {
         "name": "num_mesa",
         "rawType": "int64",
         "type": "integer"
        },
        {
         "name": "pregunta_glosa",
         "rawType": "object",
         "type": "string"
        },
        {
         "name": "concepto_nombre",
         "rawType": "object",
         "type": "string"
        },
        {
         "name": "concepto_otro",
         "rawType": "object",
         "type": "unknown"
        },
        {
         "name": "tipo-eleccion",
         "rawType": "object",
         "type": "string"
        },
        {
         "name": "fundamento",
         "rawType": "object",
         "type": "string"
        },
        {
         "name": "len_chars",
         "rawType": "int64",
         "type": "integer"
        },
        {
         "name": "len_tokens_raw",
         "rawType": "int64",
         "type": "integer"
        },
        {
         "name": "texto_norm",
         "rawType": "object",
         "type": "string"
        }
       ],
       "ref": "bc604577-21b6-494f-9713-0e8506224447",
       "rows": [
        [
         "1",
         "Arica y Parinacota",
         "Arica",
         "Arica",
         "81",
         "Colegio San Marcos",
         "Santa María 2140, Arica",
         "1",
         "¿Cuáles son los valores y principios más importantes que deben inspirar y dar sustento a la Constitución?",
         "Democracia",
         null,
         "A",
         "Sin fundamento",
         "14",
         "2",
         "sin fundamento"
        ],
        [
         "142",
         "Arica y Parinacota",
         "Arica",
         "Arica",
         "81",
         "Colegio San Marcos",
         "Santa María 2140, Arica",
         "5",
         "¿Cuáles son los valores y principios más importantes que deben inspirar y dar sustento a la Constitución?",
         "Democracia",
         null,
         "A",
         "Que el ciudadano pueda participar en la toma de decisiones con igualdad, aceptación y respeto por el otro, considerando todas las realidades.",
         "141",
         "22",
         "que el ciudadano pueda participar en la toma de decisiones con igualdad  aceptacion y respeto por el otro  considerando todas las realidades"
        ],
        [
         "169",
         "Arica y Parinacota",
         "Arica",
         "Arica",
         "81",
         "Colegio San Marcos",
         "Santa María 2140, Arica",
         "6",
         "¿Cuáles son los valores y principios más importantes que deben inspirar y dar sustento a la Constitución?",
         "Democracia",
         null,
         "P",
         "Las condiciones actuales no constituyen democracia. No obstante debe ser un valor fundamental en la nueva Constitucion",
         "118",
         "17",
         "las condiciones actuales no constituyen democracia  no obstante debe ser un valor fundamental en la nueva constitucion"
        ],
        [
         "283",
         "Arica y Parinacota",
         "Arica",
         "Arica",
         "81",
         "Colegio San Marcos",
         "Santa María 2140, Arica",
         "9",
         "¿Cuáles son los valores y principios más importantes que deben inspirar y dar sustento a la Constitución?",
         "Democracia",
         null,
         "P",
         "por la estructura establecida en el dialogo anterior",
         "52",
         "8",
         "por la estructura establecida en el dialogo anterior"
        ],
        [
         "316",
         "Arica y Parinacota",
         "Arica",
         "Arica",
         "81",
         "Colegio San Marcos",
         "Santa María 2140, Arica",
         "10",
         "¿Cuáles son los valores y principios más importantes que deben inspirar y dar sustento a la Constitución?",
         "Democracia",
         null,
         "A",
         "debemos pasar de una democracia representativa a una participativa",
         "66",
         "9",
         "debemos pasar de una democracia representativa a una participativa"
        ],
        [
         "363",
         "Arica y Parinacota",
         "Arica",
         "Arica",
         "81",
         "Colegio San Marcos",
         "Santa María 2140, Arica",
         "11",
         "¿Cuáles son los valores y principios más importantes que deben inspirar y dar sustento a la Constitución?",
         "Democracia",
         null,
         "A",
         "por eso estamos aqui",
         "20",
         "4",
         "por eso estamos aqui"
        ],
        [
         "491",
         "Arica y Parinacota",
         "Arica",
         "Arica",
         "81",
         "Colegio San Marcos",
         "Santa María 2140, Arica",
         "14",
         "¿Cuáles son los valores y principios más importantes que deben inspirar y dar sustento a la Constitución?",
         "Democracia",
         null,
         "A",
         "Se garantice una democracia vinculante que se apliquen topes a la acumulación de riquezas",
         "89",
         "14",
         "se garantice una democracia vinculante que se apliquen topes a la acumulacion de riquezas"
        ],
        [
         "526",
         "Arica y Parinacota",
         "Arica",
         "Arica",
         "81",
         "Colegio San Marcos",
         "Santa María 2140, Arica",
         "15",
         "¿Cuáles son los valores y principios más importantes que deben inspirar y dar sustento a la Constitución?",
         "Democracia",
         null,
         "A",
         "la base y el principio de todos",
         "31",
         "7",
         "la base y el principio de todos"
        ],
        [
         "746",
         "Arica y Parinacota",
         "Parinacota",
         "Putre",
         "121",
         "Liceo Granaderos de Putre",
         "Teniente del Campo 242, Putre",
         "2",
         "¿Cuáles son los valores y principios más importantes que deben inspirar y dar sustento a la Constitución?",
         "Democracia",
         null,
         "A",
         "Mejorar  en todos los aspectos los sistemas democráticos de participación. No es posible que aún , en algunas instancias de votación, las postulaciones más votadas finalmente no sean las elegidas. Por ende, ahí se pasa por encima de las decisiones populares.",
         "258",
         "41",
         "mejorar  en todos los aspectos los sistemas democraticos de participacion  no es posible que aun   en algunas instancias de votacion  las postulaciones mas votadas finalmente no sean las elegidas  por ende  ahi se pasa por encima de las decisiones populares"
        ],
        [
         "945",
         "Tarapacá",
         "Iquique",
         "Alto Hospicio",
         "107",
         "San Antonio de Matilla",
         "Los Kiwis 3443, Alto Hospicio",
         "2",
         "¿Cuáles son los valores y principios más importantes que deben inspirar y dar sustento a la Constitución?",
         "Democracia",
         null,
         "A",
         "Elemento fundamental en la nueva constitución en Chile",
         "54",
         "8",
         "elemento fundamental en la nueva constitucion en chile"
        ],
        [
         "946",
         "Tarapacá",
         "Iquique",
         "Iquique",
         "106",
         "Colegio Inglés",
         "Patricio Lynch 1580, Iquique",
         "2",
         "¿Cuáles son los valores y principios más importantes que deben inspirar y dar sustento a la Constitución?",
         "Democracia",
         null,
         "A",
         "Participación del pueblo en todas las decisiones",
         "48",
         "7",
         "participacion del pueblo en todas las decisiones"
        ],
        [
         "1045",
         "Tarapacá",
         "Iquique",
         "Alto Hospicio",
         "107",
         "San Antonio de Matilla",
         "Los Kiwis 3443, Alto Hospicio",
         "3",
         "¿Cuáles son los valores y principios más importantes que deben inspirar y dar sustento a la Constitución?",
         "Democracia",
         null,
         "A",
         "Democracia participativa y resolutiva\nIncluir pueblos originarios",
         "65",
         "7",
         "democracia participativa y resolutiva incluir pueblos originarios"
        ],
        [
         "1046",
         "Tarapacá",
         "Iquique",
         "Iquique",
         "106",
         "Colegio Inglés",
         "Patricio Lynch 1580, Iquique",
         "3",
         "¿Cuáles son los valores y principios más importantes que deben inspirar y dar sustento a la Constitución?",
         "Democracia",
         null,
         "A",
         "La decisión soberana debe ser del pueblo. Posibilidad de elegir a nuestros representantes.",
         "90",
         "13",
         "la decision soberana debe ser del pueblo  posibilidad de elegir a nuestros representantes"
        ],
        [
         "1134",
         "Tarapacá",
         "Iquique",
         "Iquique",
         "106",
         "Colegio Inglés",
         "Patricio Lynch 1580, Iquique",
         "4",
         "¿Cuáles son los valores y principios más importantes que deben inspirar y dar sustento a la Constitución?",
         "Democracia",
         null,
         "A",
         "Es fundamental este principio para la sociedad actual y establecer mecanismos que la protejan. para que la ciudadanía decida lo que les parezca mejor a su desarrollo",
         "165",
         "27",
         "es fundamental este principio para la sociedad actual y establecer mecanismos que la protejan  para que la ciudadania decida lo que les parezca mejor a su desarrollo"
        ],
        [
         "1169",
         "Tarapacá",
         "Iquique",
         "Iquique",
         "106",
         "Colegio Inglés",
         "Patricio Lynch 1580, Iquique",
         "5",
         "¿Cuáles son los valores y principios más importantes que deben inspirar y dar sustento a la Constitución?",
         "Democracia",
         null,
         "P",
         "Este concepto no es considerado por el grupo como un valor o principio sino una forma de régimen político",
         "105",
         "19",
         "este concepto no es considerado por el grupo como un valor o principio sino una forma de regimen politico"
        ],
        [
         "1218",
         "Tarapacá",
         "Iquique",
         "Iquique",
         "106",
         "Colegio Inglés",
         "Patricio Lynch 1580, Iquique",
         "6",
         "¿Cuáles son los valores y principios más importantes que deben inspirar y dar sustento a la Constitución?",
         "Democracia",
         null,
         "A",
         "La democracia es importante ya que es la garantía que el Estado propenda a tomar las decisiones que la mayoría desea.",
         "117",
         "21",
         "la democracia es importante ya que es la garantia que el estado propenda a tomar las decisiones que la mayoria desea"
        ],
        [
         "1250",
         "Tarapacá",
         "Iquique",
         "Iquique",
         "106",
         "Colegio Inglés",
         "Patricio Lynch 1580, Iquique",
         "7",
         "¿Cuáles son los valores y principios más importantes que deben inspirar y dar sustento a la Constitución?",
         "Democracia",
         null,
         "A",
         "Que se amplíen y se garanticen los mecanismos de participación ciudadana; Asamblea Constituyente y que esta sea vinculante.",
         "123",
         "18",
         "que se amplien y se garanticen los mecanismos de participacion ciudadana  asamblea constituyente y que esta sea vinculante"
        ],
        [
         "1284",
         "Tarapacá",
         "El Tamarugal",
         "Pozo Almonte",
         "141",
         "Escuela Básica de Pozo Almonte",
         "La cascada 86, Pozo Almonte",
         "1",
         "¿Cuáles son los valores y principios más importantes que deben inspirar y dar sustento a la Constitución?",
         "Democracia",
         null,
         "A",
         "- Mas participación de los ciudadanos en  la toma de decisiones.",
         "64",
         "11",
         "mas participacion de los ciudadanos en  la toma de decisiones"
        ],
        [
         "1331",
         "Tarapacá",
         "El Tamarugal",
         "Pozo Almonte",
         "141",
         "Escuela Básica de Pozo Almonte",
         "La cascada 86, Pozo Almonte",
         "2",
         "¿Cuáles son los valores y principios más importantes que deben inspirar y dar sustento a la Constitución?",
         "Democracia",
         null,
         "A",
         "Que se define como el poder del pueblo. Donde el gobierno del pueblo por y para el pueblo.\nEntonces: para nosotros según esto, la democracia no se aplica como debería ser.",
         "171",
         "31",
         "que se define como el poder del pueblo  donde el gobierno del pueblo por y para el pueblo  entonces  para nosotros segun esto  la democracia no se aplica como deberia ser"
        ],
        [
         "1380",
         "Tarapacá",
         "El Tamarugal",
         "Pozo Almonte",
         "141",
         "Escuela Básica de Pozo Almonte",
         "La cascada 86, Pozo Almonte",
         "3",
         "¿Cuáles son los valores y principios más importantes que deben inspirar y dar sustento a la Constitución?",
         "Democracia",
         null,
         "A",
         "Sin argumentar.",
         "15",
         "2",
         "sin argumentar"
        ],
        [
         "1421",
         "Tarapacá",
         "El Tamarugal",
         "Pozo Almonte",
         "141",
         "Escuela Básica de Pozo Almonte",
         "La cascada 86, Pozo Almonte",
         "4",
         "¿Cuáles son los valores y principios más importantes que deben inspirar y dar sustento a la Constitución?",
         "Democracia",
         null,
         "A",
         "Estamos de acuerdo que se consagre en la constitución.",
         "54",
         "9",
         "estamos de acuerdo que se consagre en la constitucion"
        ],
        [
         "1506",
         "Tarapacá",
         "El Tamarugal",
         "Pozo Almonte",
         "141",
         "Escuela Básica de Pozo Almonte",
         "La cascada 86, Pozo Almonte",
         "6",
         "¿Cuáles son los valores y principios más importantes que deben inspirar y dar sustento a la Constitución?",
         "Democracia",
         null,
         "A",
         "Estamos de acuerdo que la democracia sea una prioridad en la reforma constituyente.",
         "83",
         "13",
         "estamos de acuerdo que la democracia sea una prioridad en la reforma constituyente"
        ],
        [
         "1551",
         "Tarapacá",
         "El Tamarugal",
         "Pozo Almonte",
         "141",
         "Escuela Básica de Pozo Almonte",
         "La cascada 86, Pozo Almonte",
         "7",
         "¿Cuáles son los valores y principios más importantes que deben inspirar y dar sustento a la Constitución?",
         "Democracia",
         null,
         "A",
         "Se acepta la propuesta oficial pero el grupo definio la democracia como  la centralidad. Por ejemplo \" descentralizacion debe ser en marco democrático\". Todos los principios en un marco democrático.",
         "198",
         "30",
         "se acepta la propuesta oficial pero el grupo definio la democracia como  la centralidad  por ejemplo   descentralizacion debe ser en marco democratico   todos los principios en un marco democratico"
        ],
        [
         "1587",
         "Antofagasta",
         "Antofagasta",
         "Antofagasta",
         "79",
         "Colegio Don Bosco",
         "Huamachuco 9567, Antofagasta",
         "1",
         "¿Cuáles son los valores y principios más importantes que deben inspirar y dar sustento a la Constitución?",
         "Democracia",
         null,
         "A",
         "participativa",
         "13",
         "1",
         "participativa"
        ],
        [
         "1628",
         "Antofagasta",
         "Antofagasta",
         "Antofagasta",
         "79",
         "Colegio Don Bosco",
         "Huamachuco 9567, Antofagasta",
         "2",
         "¿Cuáles son los valores y principios más importantes que deben inspirar y dar sustento a la Constitución?",
         "Democracia",
         null,
         "A",
         "Todos están de acuerdo que la democracia.",
         "41",
         "7",
         "todos estan de acuerdo que la democracia"
        ],
        [
         "1682",
         "Antofagasta",
         "Antofagasta",
         "Antofagasta",
         "79",
         "Colegio Don Bosco",
         "Huamachuco 9567, Antofagasta",
         "3",
         "¿Cuáles son los valores y principios más importantes que deben inspirar y dar sustento a la Constitución?",
         "Democracia",
         null,
         "A",
         "debe ser participativa con mecanismos que la garanticen.\nprincipio rector de ella la participación ciudadana.\nmecanismos de consulta ciudadana vinculante.",
         "154",
         "20",
         "debe ser participativa con mecanismos que la garanticen  principio rector de ella la participacion ciudadana  mecanismos de consulta ciudadana vinculante"
        ],
        [
         "1722",
         "Antofagasta",
         "Antofagasta",
         "Antofagasta",
         "79",
         "Colegio Don Bosco",
         "Huamachuco 9567, Antofagasta",
         "4",
         "¿Cuáles son los valores y principios más importantes que deben inspirar y dar sustento a la Constitución?",
         "Democracia",
         null,
         "A",
         "Porque se entiende como el sistema de gobierno del pueblo que garantiza la participación ciudadana en todos los ámbitos.",
         "120",
         "19",
         "porque se entiende como el sistema de gobierno del pueblo que garantiza la participacion ciudadana en todos los ambitos"
        ],
        [
         "1767",
         "Antofagasta",
         "Antofagasta",
         "Antofagasta",
         "79",
         "Colegio Don Bosco",
         "Huamachuco 9567, Antofagasta",
         "5",
         "¿Cuáles son los valores y principios más importantes que deben inspirar y dar sustento a la Constitución?",
         "Democracia",
         null,
         "A",
         "sin este valor no podría ser un estado",
         "38",
         "8",
         "sin este valor no podria ser un estado"
        ],
        [
         "1866",
         "Antofagasta",
         "Antofagasta",
         "Antofagasta",
         "79",
         "Colegio Don Bosco",
         "Huamachuco 9567, Antofagasta",
         "7",
         "¿Cuáles son los valores y principios más importantes que deben inspirar y dar sustento a la Constitución?",
         "Democracia",
         null,
         "A",
         "Basada en un estado social de derecho y participativa",
         "53",
         "9",
         "basada en un estado social de derecho y participativa"
        ],
        [
         "1917",
         "Antofagasta",
         "Antofagasta",
         "Antofagasta",
         "79",
         "Colegio Don Bosco",
         "Huamachuco 9567, Antofagasta",
         "8",
         "¿Cuáles son los valores y principios más importantes que deben inspirar y dar sustento a la Constitución?",
         "Democracia",
         null,
         "A",
         "Piedra angular de la nueva constitución\nun Estado que respete a sus ciudadanos y garantice sus derechos",
         "103",
         "17",
         "piedra angular de la nueva constitucion un estado que respete a sus ciudadanos y garantice sus derechos"
        ],
        [
         "1945",
         "Antofagasta",
         "Antofagasta",
         "Antofagasta",
         "79",
         "Colegio Don Bosco",
         "Huamachuco 9567, Antofagasta",
         "9",
         "¿Cuáles son los valores y principios más importantes que deben inspirar y dar sustento a la Constitución?",
         "Democracia",
         null,
         "A",
         "DEBE ESTAR PERO CON MATICES. REPRESENTATIVA Y CON REPRESENTACION DE RESPONSABILIDAD DE AUTORIDADES ELECTAS, NO SE DEBE SOMETER A LOS PROCESOS ELECCIONARIOS PARTICIPACION Y COMPETENCIA COMO PILARES. CONSULTAS CIUDADANAS. DEMOCRACIA PARTICIPATIVA Y VINCULANTE. CALIDAD DE AUTORIDADES.",
         "282",
         "36",
         "debe estar pero con matices  representativa y con representacion de responsabilidad de autoridades electas  no se debe someter a los procesos eleccionarios participacion y competencia como pilares  consultas ciudadanas  democracia participativa y vinculante  calidad de autoridades"
        ],
        [
         "2001",
         "Antofagasta",
         "Antofagasta",
         "Antofagasta",
         "79",
         "Colegio Don Bosco",
         "Huamachuco 9567, Antofagasta",
         "10",
         "¿Cuáles son los valores y principios más importantes que deben inspirar y dar sustento a la Constitución?",
         "Democracia",
         null,
         "A",
         "Sin descripción en fundamentos",
         "30",
         "4",
         "sin descripcion en fundamentos"
        ],
        [
         "2051",
         "Antofagasta",
         "Antofagasta",
         "Antofagasta",
         "79",
         "Colegio Don Bosco",
         "Huamachuco 9567, Antofagasta",
         "11",
         "¿Cuáles son los valores y principios más importantes que deben inspirar y dar sustento a la Constitución?",
         "Democracia",
         null,
         "A",
         "FUNDAMENTAL\nTIENE QUE RECONOCER LOS TERRITOIROS\nDIFERENCIAS ETNICAS.",
         "68",
         "8",
         "fundamental tiene que reconocer los territoiros diferencias etnicas"
        ],
        [
         "2137",
         "Antofagasta",
         "El Loa",
         "Calama",
         "102",
         "Liceo Jorge Alessandri Rodriguez",
         "Granaderos 3464, Calama",
         "17",
         "¿Cuáles son los valores y principios más importantes que deben inspirar y dar sustento a la Constitución?",
         "Democracia",
         null,
         "P",
         "LAS VOTACIONES FUERON\nACUERDO:47,4%\nACUERDO PARCIAL: 52,6%",
         "58",
         "7",
         "las votaciones fueron acuerdo 47 4  acuerdo parcial  52 6"
        ],
        [
         "2191",
         "Antofagasta",
         "El Loa",
         "Calama",
         "102",
         "Liceo Jorge Alessandri Rodriguez",
         "Granaderos 3464, Calama",
         "18",
         "¿Cuáles son los valores y principios más importantes que deben inspirar y dar sustento a la Constitución?",
         "Democracia",
         null,
         "A",
         "1) COMO BASE PARA EL DIALOGO Y PARTICIPACIÓN DE TODOS COMO CIUDADANOS PARA CONSTRUIR, UNA SOCIEDAD MÁS JUSTA; CON CIUDADANOS MÁS COMPROMETIDOS; CON NUESTRO QUEHACER EN LA CONSTRUCCIÓN DESDE LA JUNTA DE VECINOS, LA COMUNA Y LA PROVINCIA PARA CONSTRUIR UNA DEMOCRACIA DESDE LA BASE SOCIAL.",
         "287",
         "46",
         "1  como base para el dialogo y participacion de todos como ciudadanos para construir  una sociedad mas justa  con ciudadanos mas comprometidos  con nuestro quehacer en la construccion desde la junta de vecinos  la comuna y la provincia para construir una democracia desde la base social"
        ],
        [
         "2283",
         "Antofagasta",
         "El Loa",
         "Calama",
         "102",
         "Liceo Jorge Alessandri Rodriguez",
         "Granaderos 3464, Calama",
         "21",
         "¿Cuáles son los valores y principios más importantes que deben inspirar y dar sustento a la Constitución?",
         "Democracia",
         null,
         "A",
         "No hay democracia en Chile. Para llegar a una verdadera democracia se exige Asamblea Constituyente Vinculante. Esencial y fundamental apara cada pueblo para cambiar la actual Constitución dejada por la dictadura",
         "211",
         "31",
         "no hay democracia en chile  para llegar a una verdadera democracia se exige asamblea constituyente vinculante  esencial y fundamental apara cada pueblo para cambiar la actual constitucion dejada por la dictadura"
        ],
        [
         "2311",
         "Antofagasta",
         "El Loa",
         "Calama",
         "102",
         "Liceo Jorge Alessandri Rodriguez",
         "Granaderos 3464, Calama",
         "22",
         "¿Cuáles son los valores y principios más importantes que deben inspirar y dar sustento a la Constitución?",
         "Democracia",
         null,
         "A",
         "LA DEMOCRACIA ES LA AUNICA FORMA DE GOBERNAR EL PAIS Y SE DEBE ASEGURAR QUE SEA VERDADERAMENTE EFECTIVA Y QUE NO GOBIERNE SOLO UNOS POCOS",
         "137",
         "25",
         "la democracia es la aunica forma de gobernar el pais y se debe asegurar que sea verdaderamente efectiva y que no gobierne solo unos pocos"
        ],
        [
         "2345",
         "Antofagasta",
         "Tocopilla",
         "Tocopilla",
         "143",
         "Liceo Domingo Latrille",
         "Av. 18 de Septiembre s/n, Tocopilla",
         "1",
         "¿Cuáles son los valores y principios más importantes que deben inspirar y dar sustento a la Constitución?",
         "Democracia",
         null,
         "A",
         "preferencia geopolítica al ejercicio municipal prinvincial y regional",
         "69",
         "8",
         "preferencia geopolitica al ejercicio municipal prinvincial y regional"
        ],
        [
         "2388",
         "Antofagasta",
         "Tocopilla",
         "Tocopilla",
         "143",
         "Liceo Domingo Latrille",
         "Av. 18 de Septiembre s/n, Tocopilla",
         "2",
         "¿Cuáles son los valores y principios más importantes que deben inspirar y dar sustento a la Constitución?",
         "Democracia",
         null,
         "A",
         "SI LAS NORMAS Y VALORES REGULA LA PAZ Y JUSTICIA Y EXISTA UN MAYOR DESARROLLO CONSTITUCIONAL",
         "92",
         "16",
         "si las normas y valores regula la paz y justicia y exista un mayor desarrollo constitucional"
        ],
        [
         "2418",
         "Antofagasta",
         "Tocopilla",
         "Tocopilla",
         "143",
         "Liceo Domingo Latrille",
         "Av. 18 de Septiembre s/n, Tocopilla",
         "3",
         "¿Cuáles son los valores y principios más importantes que deben inspirar y dar sustento a la Constitución?",
         "Democracia",
         null,
         "A",
         "Permite la participación de las personas. Permite el debate de ideas.",
         "69",
         "11",
         "permite la participacion de las personas  permite el debate de ideas"
        ],
        [
         "2463",
         "Atacama",
         "Chañaral",
         "Chañaral",
         "92",
         "Liceo Federico Varela",
         "Zuleta 221, Chañaral",
         "1",
         "¿Cuáles son los valores y principios más importantes que deben inspirar y dar sustento a la Constitución?",
         "Democracia",
         null,
         "A",
         "COMO FUNDAMENTO DE NUESTRA LIBERTAD\nDEMOCRACIA MAS DIRECTA: MAS CONSULTAS CIUDADANAS\nDEMOCRACIA PLENA: A CADA CIUDADANO SE RESPETE SUS PLANTEAMIENTOS. PARA Y CON EL PUEBLO",
         "171",
         "25",
         "como fundamento de nuestra libertad democracia mas directa  mas consultas ciudadanas democracia plena  a cada ciudadano se respete sus planteamientos  para y con el pueblo"
        ],
        [
         "2600",
         "Atacama",
         "Copiapó",
         "Copiapó",
         "98",
         "Liceo Música",
         "Andrés Bello 170, Copiapó",
         "2",
         "¿Cuáles son los valores y principios más importantes que deben inspirar y dar sustento a la Constitución?",
         "Democracia",
         null,
         "P",
         "EXISTE UN VOTO EN CONTRA CON LA CUAL PLANTEA QUE EL CONCEPTO DE DEMOCRACIA NO DEBERIA ESTAR DENTRO DE LOS 7 VALORES Y PRINCIPIOS MÁS VOTADOS",
         "140",
         "26",
         "existe un voto en contra con la cual plantea que el concepto de democracia no deberia estar dentro de los 7 valores y principios mas votados"
        ],
        [
         "2649",
         "Atacama",
         "Copiapó",
         "Copiapó",
         "98",
         "Liceo Música",
         "Andrés Bello 170, Copiapó",
         "3",
         "¿Cuáles son los valores y principios más importantes que deben inspirar y dar sustento a la Constitución?",
         "Democracia",
         null,
         "A",
         "Valor supremo de la sociedad. La democracia actual está tergiversada, debe ser real, plena, participativa y responsable.  Se debe cambiar la constitución para obtener una real democracia.",
         "187",
         "27",
         "valor supremo de la sociedad  la democracia actual esta tergiversada  debe ser real  plena  participativa y responsable   se debe cambiar la constitucion para obtener una real democracia"
        ],
        [
         "2681",
         "Atacama",
         "Copiapó",
         "Copiapó",
         "98",
         "Liceo Música",
         "Andrés Bello 170, Copiapó",
         "4",
         "¿Cuáles son los valores y principios más importantes que deben inspirar y dar sustento a la Constitución?",
         "Democracia",
         null,
         "A",
         "Se entiende como un concepto que necesariamente debe estar incluido en la constitución. Pero la estructura que se desea sigue siendo un tema de debate.",
         "151",
         "25",
         "se entiende como un concepto que necesariamente debe estar incluido en la constitucion  pero la estructura que se desea sigue siendo un tema de debate"
        ],
        [
         "2730",
         "Atacama",
         "Copiapó",
         "Copiapó",
         "98",
         "Liceo Música",
         "Andrés Bello 170, Copiapó",
         "5",
         "¿Cuáles son los valores y principios más importantes que deben inspirar y dar sustento a la Constitución?",
         "Democracia",
         null,
         "A",
         "Base fundamental de nuestra sociedad",
         "36",
         "5",
         "base fundamental de nuestra sociedad"
        ],
        [
         "2804",
         "Atacama",
         "Copiapó",
         "Copiapó",
         "98",
         "Liceo Música",
         "Andrés Bello 170, Copiapó",
         "7",
         "¿Cuáles son los valores y principios más importantes que deben inspirar y dar sustento a la Constitución?",
         "Democracia",
         null,
         "A",
         "Que sea más participativa a través de asambleas y otros",
         "55",
         "10",
         "que sea mas participativa a traves de asambleas y otros"
        ],
        [
         "2909",
         "Atacama",
         "Copiapó",
         "Copiapó",
         "98",
         "Liceo Música",
         "Andrés Bello 170, Copiapó",
         "10",
         "¿Cuáles son los valores y principios más importantes que deben inspirar y dar sustento a la Constitución?",
         "Democracia",
         null,
         "A",
         "Es la base de todo. Loque se necesita es democracia real, efectiva, eficiente y eficaz.",
         "87",
         "15",
         "es la base de todo  loque se necesita es democracia real  efectiva  eficiente y eficaz"
        ],
        [
         "2953",
         "Atacama",
         "Copiapó",
         "Copiapó",
         "98",
         "Liceo Música",
         "Andrés Bello 170, Copiapó",
         "11",
         "¿Cuáles son los valores y principios más importantes que deben inspirar y dar sustento a la Constitución?",
         "Democracia",
         null,
         "P",
         "Avanzar a una directa y participativa",
         "37",
         "6",
         "avanzar a una directa y participativa"
        ],
        [
         "3028",
         "Atacama",
         "Huasco",
         "Vallenar",
         "105",
         "Escuela N°5 Ignacio Carrera Pinto",
         "Merced 960, Vallenar",
         "1",
         "¿Cuáles son los valores y principios más importantes que deben inspirar y dar sustento a la Constitución?",
         "Democracia",
         null,
         "A",
         "ejercicio democrático, revocación democrática",
         "45",
         "4",
         "ejercicio democratico  revocacion democratica"
        ],
        [
         "3078",
         "Atacama",
         "Huasco",
         "Vallenar",
         "105",
         "Escuela N°5 Ignacio Carrera Pinto",
         "Merced 960, Vallenar",
         "2",
         "¿Cuáles son los valores y principios más importantes que deben inspirar y dar sustento a la Constitución?",
         "Democracia",
         null,
         "A",
         "real y participativa con mayor participación ciudadana",
         "54",
         "7",
         "real y participativa con mayor participacion ciudadana"
        ]
       ],
       "shape": {
        "columns": 15,
        "rows": 507
       }
      },
      "text/html": [
       "<div>\n",
       "<style scoped>\n",
       "    .dataframe tbody tr th:only-of-type {\n",
       "        vertical-align: middle;\n",
       "    }\n",
       "\n",
       "    .dataframe tbody tr th {\n",
       "        vertical-align: top;\n",
       "    }\n",
       "\n",
       "    .dataframe thead th {\n",
       "        text-align: right;\n",
       "    }\n",
       "</style>\n",
       "<table border=\"1\" class=\"dataframe\">\n",
       "  <thead>\n",
       "    <tr style=\"text-align: right;\">\n",
       "      <th></th>\n",
       "      <th>region_nombre</th>\n",
       "      <th>provincia_nombre</th>\n",
       "      <th>comuna_nombre</th>\n",
       "      <th>cabildo_id</th>\n",
       "      <th>cabildo_nombre</th>\n",
       "      <th>cabildo_direccion</th>\n",
       "      <th>num_mesa</th>\n",
       "      <th>pregunta_glosa</th>\n",
       "      <th>concepto_nombre</th>\n",
       "      <th>concepto_otro</th>\n",
       "      <th>tipo-eleccion</th>\n",
       "      <th>fundamento</th>\n",
       "      <th>len_chars</th>\n",
       "      <th>len_tokens_raw</th>\n",
       "      <th>texto_norm</th>\n",
       "    </tr>\n",
       "  </thead>\n",
       "  <tbody>\n",
       "    <tr>\n",
       "      <th>1</th>\n",
       "      <td>Arica y Parinacota</td>\n",
       "      <td>Arica</td>\n",
       "      <td>Arica</td>\n",
       "      <td>81</td>\n",
       "      <td>Colegio San Marcos</td>\n",
       "      <td>Santa María 2140, Arica</td>\n",
       "      <td>1</td>\n",
       "      <td>¿Cuáles son los valores y principios más impor...</td>\n",
       "      <td>Democracia</td>\n",
       "      <td>NaN</td>\n",
       "      <td>A</td>\n",
       "      <td>Sin fundamento</td>\n",
       "      <td>14</td>\n",
       "      <td>2</td>\n",
       "      <td>sin fundamento</td>\n",
       "    </tr>\n",
       "    <tr>\n",
       "      <th>142</th>\n",
       "      <td>Arica y Parinacota</td>\n",
       "      <td>Arica</td>\n",
       "      <td>Arica</td>\n",
       "      <td>81</td>\n",
       "      <td>Colegio San Marcos</td>\n",
       "      <td>Santa María 2140, Arica</td>\n",
       "      <td>5</td>\n",
       "      <td>¿Cuáles son los valores y principios más impor...</td>\n",
       "      <td>Democracia</td>\n",
       "      <td>NaN</td>\n",
       "      <td>A</td>\n",
       "      <td>Que el ciudadano pueda participar en la toma d...</td>\n",
       "      <td>141</td>\n",
       "      <td>22</td>\n",
       "      <td>que el ciudadano pueda participar en la toma d...</td>\n",
       "    </tr>\n",
       "    <tr>\n",
       "      <th>169</th>\n",
       "      <td>Arica y Parinacota</td>\n",
       "      <td>Arica</td>\n",
       "      <td>Arica</td>\n",
       "      <td>81</td>\n",
       "      <td>Colegio San Marcos</td>\n",
       "      <td>Santa María 2140, Arica</td>\n",
       "      <td>6</td>\n",
       "      <td>¿Cuáles son los valores y principios más impor...</td>\n",
       "      <td>Democracia</td>\n",
       "      <td>NaN</td>\n",
       "      <td>P</td>\n",
       "      <td>Las condiciones actuales no constituyen democr...</td>\n",
       "      <td>118</td>\n",
       "      <td>17</td>\n",
       "      <td>las condiciones actuales no constituyen democr...</td>\n",
       "    </tr>\n",
       "    <tr>\n",
       "      <th>283</th>\n",
       "      <td>Arica y Parinacota</td>\n",
       "      <td>Arica</td>\n",
       "      <td>Arica</td>\n",
       "      <td>81</td>\n",
       "      <td>Colegio San Marcos</td>\n",
       "      <td>Santa María 2140, Arica</td>\n",
       "      <td>9</td>\n",
       "      <td>¿Cuáles son los valores y principios más impor...</td>\n",
       "      <td>Democracia</td>\n",
       "      <td>NaN</td>\n",
       "      <td>P</td>\n",
       "      <td>por la estructura establecida en el dialogo an...</td>\n",
       "      <td>52</td>\n",
       "      <td>8</td>\n",
       "      <td>por la estructura establecida en el dialogo an...</td>\n",
       "    </tr>\n",
       "    <tr>\n",
       "      <th>316</th>\n",
       "      <td>Arica y Parinacota</td>\n",
       "      <td>Arica</td>\n",
       "      <td>Arica</td>\n",
       "      <td>81</td>\n",
       "      <td>Colegio San Marcos</td>\n",
       "      <td>Santa María 2140, Arica</td>\n",
       "      <td>10</td>\n",
       "      <td>¿Cuáles son los valores y principios más impor...</td>\n",
       "      <td>Democracia</td>\n",
       "      <td>NaN</td>\n",
       "      <td>A</td>\n",
       "      <td>debemos pasar de una democracia representativa...</td>\n",
       "      <td>66</td>\n",
       "      <td>9</td>\n",
       "      <td>debemos pasar de una democracia representativa...</td>\n",
       "    </tr>\n",
       "    <tr>\n",
       "      <th>...</th>\n",
       "      <td>...</td>\n",
       "      <td>...</td>\n",
       "      <td>...</td>\n",
       "      <td>...</td>\n",
       "      <td>...</td>\n",
       "      <td>...</td>\n",
       "      <td>...</td>\n",
       "      <td>...</td>\n",
       "      <td>...</td>\n",
       "      <td>...</td>\n",
       "      <td>...</td>\n",
       "      <td>...</td>\n",
       "      <td>...</td>\n",
       "      <td>...</td>\n",
       "      <td>...</td>\n",
       "    </tr>\n",
       "    <tr>\n",
       "      <th>30184</th>\n",
       "      <td>Magallanes y de la Antártica Chilena</td>\n",
       "      <td>Última Esperanza</td>\n",
       "      <td>Natales</td>\n",
       "      <td>144</td>\n",
       "      <td>Liceo Bernardo O'Higgins</td>\n",
       "      <td>Eleuterio Ramirez 748, Natales</td>\n",
       "      <td>2</td>\n",
       "      <td>¿Cuáles son los valores y principios más impor...</td>\n",
       "      <td>Democracia</td>\n",
       "      <td>NaN</td>\n",
       "      <td>A</td>\n",
       "      <td>Incorporarle nuevos elementos de acuerdo a los...</td>\n",
       "      <td>105</td>\n",
       "      <td>13</td>\n",
       "      <td>incorporarle nuevos elementos de acuerdo a los...</td>\n",
       "    </tr>\n",
       "    <tr>\n",
       "      <th>30212</th>\n",
       "      <td>Magallanes y de la Antártica Chilena</td>\n",
       "      <td>Última Esperanza</td>\n",
       "      <td>Natales</td>\n",
       "      <td>144</td>\n",
       "      <td>Liceo Bernardo O'Higgins</td>\n",
       "      <td>Eleuterio Ramirez 748, Natales</td>\n",
       "      <td>3</td>\n",
       "      <td>¿Cuáles son los valores y principios más impor...</td>\n",
       "      <td>Democracia</td>\n",
       "      <td>NaN</td>\n",
       "      <td>A</td>\n",
       "      <td>La democracia debe ser la base de la sociedad ...</td>\n",
       "      <td>299</td>\n",
       "      <td>46</td>\n",
       "      <td>la democracia debe ser la base de la sociedad ...</td>\n",
       "    </tr>\n",
       "    <tr>\n",
       "      <th>30251</th>\n",
       "      <td>Magallanes y de la Antártica Chilena</td>\n",
       "      <td>Última Esperanza</td>\n",
       "      <td>Natales</td>\n",
       "      <td>144</td>\n",
       "      <td>Liceo Bernardo O'Higgins</td>\n",
       "      <td>Eleuterio Ramirez 748, Natales</td>\n",
       "      <td>4</td>\n",
       "      <td>¿Cuáles son los valores y principios más impor...</td>\n",
       "      <td>Democracia</td>\n",
       "      <td>NaN</td>\n",
       "      <td>A</td>\n",
       "      <td>Descentralización, con justicia e igualdad, co...</td>\n",
       "      <td>106</td>\n",
       "      <td>15</td>\n",
       "      <td>descentralizacion  con justicia e igualdad  co...</td>\n",
       "    </tr>\n",
       "    <tr>\n",
       "      <th>30290</th>\n",
       "      <td>Magallanes y de la Antártica Chilena</td>\n",
       "      <td>Última Esperanza</td>\n",
       "      <td>Natales</td>\n",
       "      <td>144</td>\n",
       "      <td>Liceo Bernardo O'Higgins</td>\n",
       "      <td>Eleuterio Ramirez 748, Natales</td>\n",
       "      <td>6</td>\n",
       "      <td>¿Cuáles son los valores y principios más impor...</td>\n",
       "      <td>Democracia</td>\n",
       "      <td>NaN</td>\n",
       "      <td>A</td>\n",
       "      <td>Se relaciona con el concepto igualitario</td>\n",
       "      <td>40</td>\n",
       "      <td>6</td>\n",
       "      <td>se relaciona con el concepto igualitario</td>\n",
       "    </tr>\n",
       "    <tr>\n",
       "      <th>30372</th>\n",
       "      <td>Magallanes y de la Antártica Chilena</td>\n",
       "      <td>Última Esperanza</td>\n",
       "      <td>Natales</td>\n",
       "      <td>144</td>\n",
       "      <td>Liceo Bernardo O'Higgins</td>\n",
       "      <td>Eleuterio Ramirez 748, Natales</td>\n",
       "      <td>9</td>\n",
       "      <td>¿Cuáles son los valores y principios más impor...</td>\n",
       "      <td>Democracia</td>\n",
       "      <td>NaN</td>\n",
       "      <td>A</td>\n",
       "      <td>Un valor necesario en un sistema político, que...</td>\n",
       "      <td>184</td>\n",
       "      <td>27</td>\n",
       "      <td>un valor necesario en un sistema politico  que...</td>\n",
       "    </tr>\n",
       "  </tbody>\n",
       "</table>\n",
       "<p>507 rows × 15 columns</p>\n",
       "</div>"
      ],
      "text/plain": [
       "                              region_nombre  provincia_nombre comuna_nombre  \\\n",
       "1                        Arica y Parinacota             Arica         Arica   \n",
       "142                      Arica y Parinacota             Arica         Arica   \n",
       "169                      Arica y Parinacota             Arica         Arica   \n",
       "283                      Arica y Parinacota             Arica         Arica   \n",
       "316                      Arica y Parinacota             Arica         Arica   \n",
       "...                                     ...               ...           ...   \n",
       "30184  Magallanes y de la Antártica Chilena  Última Esperanza       Natales   \n",
       "30212  Magallanes y de la Antártica Chilena  Última Esperanza       Natales   \n",
       "30251  Magallanes y de la Antártica Chilena  Última Esperanza       Natales   \n",
       "30290  Magallanes y de la Antártica Chilena  Última Esperanza       Natales   \n",
       "30372  Magallanes y de la Antártica Chilena  Última Esperanza       Natales   \n",
       "\n",
       "       cabildo_id            cabildo_nombre               cabildo_direccion  \\\n",
       "1              81        Colegio San Marcos         Santa María 2140, Arica   \n",
       "142            81        Colegio San Marcos         Santa María 2140, Arica   \n",
       "169            81        Colegio San Marcos         Santa María 2140, Arica   \n",
       "283            81        Colegio San Marcos         Santa María 2140, Arica   \n",
       "316            81        Colegio San Marcos         Santa María 2140, Arica   \n",
       "...           ...                       ...                             ...   \n",
       "30184         144  Liceo Bernardo O'Higgins  Eleuterio Ramirez 748, Natales   \n",
       "30212         144  Liceo Bernardo O'Higgins  Eleuterio Ramirez 748, Natales   \n",
       "30251         144  Liceo Bernardo O'Higgins  Eleuterio Ramirez 748, Natales   \n",
       "30290         144  Liceo Bernardo O'Higgins  Eleuterio Ramirez 748, Natales   \n",
       "30372         144  Liceo Bernardo O'Higgins  Eleuterio Ramirez 748, Natales   \n",
       "\n",
       "       num_mesa                                     pregunta_glosa  \\\n",
       "1             1  ¿Cuáles son los valores y principios más impor...   \n",
       "142           5  ¿Cuáles son los valores y principios más impor...   \n",
       "169           6  ¿Cuáles son los valores y principios más impor...   \n",
       "283           9  ¿Cuáles son los valores y principios más impor...   \n",
       "316          10  ¿Cuáles son los valores y principios más impor...   \n",
       "...         ...                                                ...   \n",
       "30184         2  ¿Cuáles son los valores y principios más impor...   \n",
       "30212         3  ¿Cuáles son los valores y principios más impor...   \n",
       "30251         4  ¿Cuáles son los valores y principios más impor...   \n",
       "30290         6  ¿Cuáles son los valores y principios más impor...   \n",
       "30372         9  ¿Cuáles son los valores y principios más impor...   \n",
       "\n",
       "      concepto_nombre concepto_otro tipo-eleccion  \\\n",
       "1          Democracia           NaN             A   \n",
       "142        Democracia           NaN             A   \n",
       "169        Democracia           NaN             P   \n",
       "283        Democracia           NaN             P   \n",
       "316        Democracia           NaN             A   \n",
       "...               ...           ...           ...   \n",
       "30184      Democracia           NaN             A   \n",
       "30212      Democracia           NaN             A   \n",
       "30251      Democracia           NaN             A   \n",
       "30290      Democracia           NaN             A   \n",
       "30372      Democracia           NaN             A   \n",
       "\n",
       "                                              fundamento  len_chars  \\\n",
       "1                                         Sin fundamento         14   \n",
       "142    Que el ciudadano pueda participar en la toma d...        141   \n",
       "169    Las condiciones actuales no constituyen democr...        118   \n",
       "283    por la estructura establecida en el dialogo an...         52   \n",
       "316    debemos pasar de una democracia representativa...         66   \n",
       "...                                                  ...        ...   \n",
       "30184  Incorporarle nuevos elementos de acuerdo a los...        105   \n",
       "30212  La democracia debe ser la base de la sociedad ...        299   \n",
       "30251  Descentralización, con justicia e igualdad, co...        106   \n",
       "30290           Se relaciona con el concepto igualitario         40   \n",
       "30372  Un valor necesario en un sistema político, que...        184   \n",
       "\n",
       "       len_tokens_raw                                         texto_norm  \n",
       "1                   2                                     sin fundamento  \n",
       "142                22  que el ciudadano pueda participar en la toma d...  \n",
       "169                17  las condiciones actuales no constituyen democr...  \n",
       "283                 8  por la estructura establecida en el dialogo an...  \n",
       "316                 9  debemos pasar de una democracia representativa...  \n",
       "...               ...                                                ...  \n",
       "30184              13  incorporarle nuevos elementos de acuerdo a los...  \n",
       "30212              46  la democracia debe ser la base de la sociedad ...  \n",
       "30251              15  descentralizacion  con justicia e igualdad  co...  \n",
       "30290               6           se relaciona con el concepto igualitario  \n",
       "30372              27  un valor necesario en un sistema politico  que...  \n",
       "\n",
       "[507 rows x 15 columns]"
      ]
     },
     "execution_count": 122,
     "metadata": {},
     "output_type": "execute_result"
    }
   ],
   "source": [
    "subset"
   ]
  },
  {
   "cell_type": "markdown",
   "id": "1aba205e",
   "metadata": {},
   "source": [
    "#### Tokenización + POS + Lematización\n",
    "**Procesamiento con Stanza**  \n",
    "- Se aplica el pipeline neuronal (`tokenize,pos,lemma`)\n",
    "- Resultado: lista de tuplas `(token_original, lema, upos)` por documento"
   ]
  },
  {
   "cell_type": "code",
   "execution_count": 123,
   "id": "73388519",
   "metadata": {},
   "outputs": [
    {
     "name": "stderr",
     "output_type": "stream",
     "text": [
      "100%|██████████| 507/507 [02:30<00:00,  3.36it/s]\n"
     ]
    }
   ],
   "source": [
    "def stanza_process(doc_str: str):\n",
    "    doc = nlp(doc_str)\n",
    "    rows = []  # (token, lemma, upos)\n",
    "    for sent in doc.sentences:\n",
    "        for w in sent.words:\n",
    "            rows.append((w.text, w.lemma.lower(), w.upos))\n",
    "    return rows\n",
    "\n",
    "subset['doc'] = subset['texto_norm'].progress_apply(stanza_process)"
   ]
  },
  {
   "cell_type": "markdown",
   "id": "77847c11",
   "metadata": {},
   "source": [
    "#### Visualización de tokens crudos (antes de filtrar stopwords) del subconjunto\n",
    "- Generar y revisar top 30 de tokens lematizados antes de aplicar stopwords de dominio  "
   ]
  },
  {
   "cell_type": "code",
   "execution_count": 124,
   "id": "3320255a",
   "metadata": {},
   "outputs": [
    {
     "data": {
      "text/plain": [
       "[('el', 1071),\n",
       " ('de', 600),\n",
       " ('y', 399),\n",
       " ('que', 353),\n",
       " ('ser', 328),\n",
       " ('democracia', 308),\n",
       " ('él', 278),\n",
       " ('deber', 232),\n",
       " ('uno', 225),\n",
       " ('en', 217),\n",
       " ('a', 193),\n",
       " ('participativo', 181),\n",
       " ('participación', 157),\n",
       " ('como', 116),\n",
       " ('no', 113),\n",
       " ('para', 101),\n",
       " ('con', 99),\n",
       " ('ciudadano', 92),\n",
       " ('todo', 90),\n",
       " ('representativo', 82),\n",
       " ('por', 81),\n",
       " ('valor', 77),\n",
       " ('vinculante', 72),\n",
       " ('pueblo', 65),\n",
       " ('fundamental', 60),\n",
       " ('estar', 60),\n",
       " ('poder', 56),\n",
       " ('acuerdo', 55),\n",
       " ('derecho', 53),\n",
       " ('tener', 52)]"
      ]
     },
     "execution_count": 124,
     "metadata": {},
     "output_type": "execute_result"
    }
   ],
   "source": [
    "subset['tokens_crudos'] = subset['doc'].apply(lambda toks: [lemma for _, lemma, pos in toks])\n",
    "\n",
    "freq_crudas = Counter([w for fila in subset['tokens_crudos'] for w in fila])\n",
    "top30 = freq_crudas.most_common(30)\n",
    "top30"
   ]
  },
  {
   "cell_type": "code",
   "execution_count": null,
   "id": "7cd7a552",
   "metadata": {},
   "outputs": [],
   "source": [
    "subset['doc']"
   ]
  },
  {
   "cell_type": "markdown",
   "id": "a51c65c3",
   "metadata": {},
   "source": [
    "#### Stopwords\n",
    "**Documentación de Stopwords**  \n",
    "- Documentar la lista de Stopwords en archivo `stopwords_dominio.txt`."
   ]
  },
  {
   "cell_type": "code",
   "execution_count": 125,
   "id": "8d8f0c14",
   "metadata": {},
   "outputs": [
    {
     "data": {
      "text/plain": [
       "{'a',\n",
       " 'al',\n",
       " 'algo',\n",
       " 'algunas',\n",
       " 'algunos',\n",
       " 'ante',\n",
       " 'antes',\n",
       " 'como',\n",
       " 'con',\n",
       " 'contra',\n",
       " 'cual',\n",
       " 'cuando',\n",
       " 'de',\n",
       " 'del',\n",
       " 'desde',\n",
       " 'donde',\n",
       " 'durante',\n",
       " 'e',\n",
       " 'el',\n",
       " 'ella',\n",
       " 'ellas',\n",
       " 'ellos',\n",
       " 'en',\n",
       " 'entre',\n",
       " 'era',\n",
       " 'erais',\n",
       " 'eran',\n",
       " 'eras',\n",
       " 'eres',\n",
       " 'es',\n",
       " 'esa',\n",
       " 'esas',\n",
       " 'ese',\n",
       " 'eso',\n",
       " 'esos',\n",
       " 'esta',\n",
       " 'estaba',\n",
       " 'estabais',\n",
       " 'estaban',\n",
       " 'estabas',\n",
       " 'estad',\n",
       " 'estada',\n",
       " 'estadas',\n",
       " 'estado',\n",
       " 'estados',\n",
       " 'estamos',\n",
       " 'estando',\n",
       " 'estar',\n",
       " 'estaremos',\n",
       " 'estará',\n",
       " 'estarán',\n",
       " 'estarás',\n",
       " 'estaré',\n",
       " 'estaréis',\n",
       " 'estaría',\n",
       " 'estaríais',\n",
       " 'estaríamos',\n",
       " 'estarían',\n",
       " 'estarías',\n",
       " 'estas',\n",
       " 'este',\n",
       " 'estemos',\n",
       " 'esto',\n",
       " 'estos',\n",
       " 'estoy',\n",
       " 'estuve',\n",
       " 'estuviera',\n",
       " 'estuvierais',\n",
       " 'estuvieran',\n",
       " 'estuvieras',\n",
       " 'estuvieron',\n",
       " 'estuviese',\n",
       " 'estuvieseis',\n",
       " 'estuviesen',\n",
       " 'estuvieses',\n",
       " 'estuvimos',\n",
       " 'estuviste',\n",
       " 'estuvisteis',\n",
       " 'estuviéramos',\n",
       " 'estuviésemos',\n",
       " 'estuvo',\n",
       " 'está',\n",
       " 'estábamos',\n",
       " 'estáis',\n",
       " 'están',\n",
       " 'estás',\n",
       " 'esté',\n",
       " 'estéis',\n",
       " 'estén',\n",
       " 'estés',\n",
       " 'fue',\n",
       " 'fuera',\n",
       " 'fuerais',\n",
       " 'fueran',\n",
       " 'fueras',\n",
       " 'fueron',\n",
       " 'fuese',\n",
       " 'fueseis',\n",
       " 'fuesen',\n",
       " 'fueses',\n",
       " 'fui',\n",
       " 'fuimos',\n",
       " 'fuiste',\n",
       " 'fuisteis',\n",
       " 'fuéramos',\n",
       " 'fuésemos',\n",
       " 'ha',\n",
       " 'habida',\n",
       " 'habidas',\n",
       " 'habido',\n",
       " 'habidos',\n",
       " 'habiendo',\n",
       " 'habremos',\n",
       " 'habrá',\n",
       " 'habrán',\n",
       " 'habrás',\n",
       " 'habré',\n",
       " 'habréis',\n",
       " 'habría',\n",
       " 'habríais',\n",
       " 'habríamos',\n",
       " 'habrían',\n",
       " 'habrías',\n",
       " 'habéis',\n",
       " 'había',\n",
       " 'habíais',\n",
       " 'habíamos',\n",
       " 'habían',\n",
       " 'habías',\n",
       " 'han',\n",
       " 'has',\n",
       " 'hasta',\n",
       " 'hay',\n",
       " 'haya',\n",
       " 'hayamos',\n",
       " 'hayan',\n",
       " 'hayas',\n",
       " 'hayáis',\n",
       " 'he',\n",
       " 'hemos',\n",
       " 'hube',\n",
       " 'hubiera',\n",
       " 'hubierais',\n",
       " 'hubieran',\n",
       " 'hubieras',\n",
       " 'hubieron',\n",
       " 'hubiese',\n",
       " 'hubieseis',\n",
       " 'hubiesen',\n",
       " 'hubieses',\n",
       " 'hubimos',\n",
       " 'hubiste',\n",
       " 'hubisteis',\n",
       " 'hubiéramos',\n",
       " 'hubiésemos',\n",
       " 'hubo',\n",
       " 'la',\n",
       " 'las',\n",
       " 'le',\n",
       " 'les',\n",
       " 'lo',\n",
       " 'los',\n",
       " 'me',\n",
       " 'mi',\n",
       " 'mis',\n",
       " 'mucho',\n",
       " 'muchos',\n",
       " 'muy',\n",
       " 'más',\n",
       " 'mí',\n",
       " 'mía',\n",
       " 'mías',\n",
       " 'mío',\n",
       " 'míos',\n",
       " 'nada',\n",
       " 'ni',\n",
       " 'no',\n",
       " 'nos',\n",
       " 'nosotras',\n",
       " 'nosotros',\n",
       " 'nuestra',\n",
       " 'nuestras',\n",
       " 'nuestro',\n",
       " 'nuestros',\n",
       " 'o',\n",
       " 'os',\n",
       " 'otra',\n",
       " 'otras',\n",
       " 'otro',\n",
       " 'otros',\n",
       " 'para',\n",
       " 'pero',\n",
       " 'poco',\n",
       " 'por',\n",
       " 'porque',\n",
       " 'que',\n",
       " 'quien',\n",
       " 'quienes',\n",
       " 'qué',\n",
       " 'se',\n",
       " 'sea',\n",
       " 'seamos',\n",
       " 'sean',\n",
       " 'seas',\n",
       " 'sentid',\n",
       " 'sentida',\n",
       " 'sentidas',\n",
       " 'sentido',\n",
       " 'sentidos',\n",
       " 'seremos',\n",
       " 'será',\n",
       " 'serán',\n",
       " 'serás',\n",
       " 'seré',\n",
       " 'seréis',\n",
       " 'sería',\n",
       " 'seríais',\n",
       " 'seríamos',\n",
       " 'serían',\n",
       " 'serías',\n",
       " 'seáis',\n",
       " 'siente',\n",
       " 'sin',\n",
       " 'sintiendo',\n",
       " 'sobre',\n",
       " 'sois',\n",
       " 'somos',\n",
       " 'son',\n",
       " 'soy',\n",
       " 'su',\n",
       " 'sus',\n",
       " 'suya',\n",
       " 'suyas',\n",
       " 'suyo',\n",
       " 'suyos',\n",
       " 'sí',\n",
       " 'también',\n",
       " 'tanto',\n",
       " 'te',\n",
       " 'tendremos',\n",
       " 'tendrá',\n",
       " 'tendrán',\n",
       " 'tendrás',\n",
       " 'tendré',\n",
       " 'tendréis',\n",
       " 'tendría',\n",
       " 'tendríais',\n",
       " 'tendríamos',\n",
       " 'tendrían',\n",
       " 'tendrías',\n",
       " 'tened',\n",
       " 'tenemos',\n",
       " 'tenga',\n",
       " 'tengamos',\n",
       " 'tengan',\n",
       " 'tengas',\n",
       " 'tengo',\n",
       " 'tengáis',\n",
       " 'tenida',\n",
       " 'tenidas',\n",
       " 'tenido',\n",
       " 'tenidos',\n",
       " 'teniendo',\n",
       " 'tenéis',\n",
       " 'tenía',\n",
       " 'teníais',\n",
       " 'teníamos',\n",
       " 'tenían',\n",
       " 'tenías',\n",
       " 'ti',\n",
       " 'tiene',\n",
       " 'tienen',\n",
       " 'tienes',\n",
       " 'todo',\n",
       " 'todos',\n",
       " 'tu',\n",
       " 'tus',\n",
       " 'tuve',\n",
       " 'tuviera',\n",
       " 'tuvierais',\n",
       " 'tuvieran',\n",
       " 'tuvieras',\n",
       " 'tuvieron',\n",
       " 'tuviese',\n",
       " 'tuvieseis',\n",
       " 'tuviesen',\n",
       " 'tuvieses',\n",
       " 'tuvimos',\n",
       " 'tuviste',\n",
       " 'tuvisteis',\n",
       " 'tuviéramos',\n",
       " 'tuviésemos',\n",
       " 'tuvo',\n",
       " 'tuya',\n",
       " 'tuyas',\n",
       " 'tuyo',\n",
       " 'tuyos',\n",
       " 'tú',\n",
       " 'un',\n",
       " 'una',\n",
       " 'uno',\n",
       " 'unos',\n",
       " 'vosotras',\n",
       " 'vosotros',\n",
       " 'vuestra',\n",
       " 'vuestras',\n",
       " 'vuestro',\n",
       " 'vuestros',\n",
       " 'y',\n",
       " 'ya',\n",
       " 'yo',\n",
       " 'él',\n",
       " 'éramos'}"
      ]
     },
     "execution_count": 125,
     "metadata": {},
     "output_type": "execute_result"
    }
   ],
   "source": [
    "spanish_sw = set(stopwords.words('spanish'))\n",
    "spanish_sw"
   ]
  },
  {
   "cell_type": "markdown",
   "id": "7357e305",
   "metadata": {},
   "source": [
    "#### Guardando los stopwords en un archivo de texto\n"
   ]
  },
  {
   "cell_type": "code",
   "execution_count": 126,
   "id": "652b185a",
   "metadata": {},
   "outputs": [
    {
     "name": "stdout",
     "output_type": "stream",
     "text": [
      "Stopwords guardadas en el archivo stopwords_español.txt (313 palabras)\n"
     ]
    }
   ],
   "source": [
    "with open('output/tables/stopwords_español.txt', 'w', encoding='utf-8') as f:\n",
    "    for w in sorted(spanish_sw):\n",
    "        f.write(w + '\\n')\n",
    "print(f\"Stopwords guardadas en el archivo stopwords_español.txt ({len(spanish_sw)} palabras)\")\n"
   ]
  },
  {
   "cell_type": "markdown",
   "id": "7d882327",
   "metadata": {},
   "source": [
    "### **07. Extracción de Sustantivos, Adjetivos y Bigramas**\n",
    "**Filtrado POS (Part‑Of‑Speech)**  \n",
    "- Sustantivos y nombres propios (`NOUN`, `PROPN`)  \n",
    "- Adjetivos (`ADJ`)  \n",
    "- Bigramas sustantivo–adjetivo contiguos  \n",
    "- Eliminación de tokens con frecuencia <2 y stopwords de dominio"
   ]
  },
  {
   "cell_type": "markdown",
   "id": "02b7a30f",
   "metadata": {},
   "source": [
    "#### Filtrar Sustantivos"
   ]
  },
  {
   "cell_type": "code",
   "execution_count": 127,
   "id": "4487217a",
   "metadata": {},
   "outputs": [],
   "source": [
    "subset['nouns'] = subset['doc'].apply(\n",
    "    lambda toks: [lemma for _, lemma, pos in toks\n",
    "                  if pos in {\"NOUN\",\"PROPN\"} and lemma not in spanish_sw and len(lemma) > 2]\n",
    ")"
   ]
  },
  {
   "cell_type": "code",
   "execution_count": 128,
   "id": "3175ed0e",
   "metadata": {},
   "outputs": [
    {
     "data": {
      "application/vnd.microsoft.datawrangler.viewer.v0+json": {
       "columns": [
        {
         "name": "index",
         "rawType": "int64",
         "type": "integer"
        },
        {
         "name": "nouns",
         "rawType": "object",
         "type": "unknown"
        }
       ],
       "ref": "f95cd872-fee9-406e-b17a-30d3c3ef5102",
       "rows": [
        [
         "1",
         "['fundamento']"
        ],
        [
         "142",
         "['ciudadano', 'toma', 'decisión', 'igualdad', 'aceptación', 'respeto', 'realidad']"
        ],
        [
         "169",
         "['condición', 'democracia', 'obstante', 'valor', 'constitución']"
        ],
        [
         "283",
         "['estructura', 'dialogo']"
        ],
        [
         "316",
         "['democracia']"
        ],
        [
         "363",
         "[]"
        ],
        [
         "491",
         "['democracia', 'tope', 'acumulación', 'riqueza']"
        ],
        [
         "526",
         "['base', 'principio']"
        ],
        [
         "746",
         "['aspecto', 'sistema', 'participación', 'instancia', 'votacion', 'postulación', 'ende', 'decisión']"
        ],
        [
         "945",
         "['elemento', 'constitución', 'chile']"
        ],
        [
         "946",
         "['participación', 'pueblo', 'decisión']"
        ],
        [
         "1045",
         "['democracia', 'pueblo']"
        ],
        [
         "1046",
         "['decisión', 'pueblo', 'posibilidad', 'representante']"
        ],
        [
         "1134",
         "['principio', 'sociedad', 'mecanismo', 'ciudadanía', 'desarrollo']"
        ],
        [
         "1169",
         "['concepto', 'grupo', 'valor', 'principio', 'forma', 'regimen']"
        ],
        [
         "1218",
         "['democracia', 'garantia', 'decisión', 'mayoria']"
        ],
        [
         "1250",
         "['mecanismo', 'participación', 'asamblea']"
        ],
        [
         "1284",
         "['participación', 'ciudadano', 'toma', 'decisión']"
        ],
        [
         "1331",
         "['poder', 'pueblo', 'gobierno', 'pueblo', 'pueblo', 'democracia']"
        ],
        [
         "1380",
         "[]"
        ],
        [
         "1421",
         "['acuerdo', 'constitución']"
        ],
        [
         "1506",
         "['acuerdo', 'democracia', 'prioridad', 'reforma']"
        ],
        [
         "1551",
         "['propuesta', 'grupo', 'democracia', 'centralidad', 'ejemplo', 'descentralización', 'marco', 'principio', 'marco']"
        ],
        [
         "1587",
         "[]"
        ],
        [
         "1628",
         "['acuerdo', 'democracia']"
        ],
        [
         "1682",
         "['mecanismo', 'principio', 'participación', 'mecanismo', 'consulta']"
        ],
        [
         "1722",
         "['sistema', 'gobierno', 'pueblo', 'participación', 'ambito']"
        ],
        [
         "1767",
         "['valor']"
        ],
        [
         "1866",
         "['derecho']"
        ],
        [
         "1917",
         "['piedra', 'constitución', 'ciudadano', 'derecho']"
        ],
        [
         "1945",
         "['matiz', 'representación', 'responsabilidad', 'autoridad', 'proceso', 'participación', 'competencia', 'pilar', 'consulta', 'democracia', 'calidad', 'autoridad']"
        ],
        [
         "2001",
         "['descripción', 'fundamento']"
        ],
        [
         "2051",
         "['territoiro', 'diferencia']"
        ],
        [
         "2137",
         "['votación', 'acuerdo', 'acuerdo']"
        ],
        [
         "2191",
         "['base', 'dialogo', 'participación', 'ciudadano', 'sociedad', 'ciudadano', 'quehacer', 'construcción', 'junta', 'vecino', 'comuna', 'provincia', 'democracia', 'base']"
        ],
        [
         "2283",
         "['democracia', 'chile', 'democracia', 'asamblea', 'pueblo', 'constitución', 'dictadura']"
        ],
        [
         "2311",
         "['democracia', 'forma', 'país']"
        ],
        [
         "2345",
         "['preferencia', 'ejercicio']"
        ],
        [
         "2388",
         "['norma', 'valor', 'paz', 'justicia', 'desarrollo']"
        ],
        [
         "2418",
         "['participación', 'persona', 'debate', 'idea']"
        ],
        [
         "2463",
         "['fundamento', 'libertad', 'democracia', 'consulta', 'democracia', 'ciudadano', 'planteamiento', 'pueblo']"
        ],
        [
         "2600",
         "['voto', 'concepto', 'democracia', 'valor', 'principio']"
        ],
        [
         "2649",
         "['valor', 'sociedad', 'democracia', 'constitución', 'democracia']"
        ],
        [
         "2681",
         "['concepto', 'constitución', 'estructura', 'tema', 'debate']"
        ],
        [
         "2730",
         "['base', 'sociedad']"
        ],
        [
         "2804",
         "['través', 'asamblea']"
        ],
        [
         "2909",
         "['base', 'loque', 'democracia']"
        ],
        [
         "2953",
         "[]"
        ],
        [
         "3028",
         "['ejercicio', 'revocación']"
        ],
        [
         "3078",
         "['participación']"
        ]
       ],
       "shape": {
        "columns": 1,
        "rows": 507
       }
      },
      "text/plain": [
       "1                                             [fundamento]\n",
       "142      [ciudadano, toma, decisión, igualdad, aceptaci...\n",
       "169      [condición, democracia, obstante, valor, const...\n",
       "283                                  [estructura, dialogo]\n",
       "316                                           [democracia]\n",
       "                               ...                        \n",
       "30184                          [elemento, acuerdo, tiempo]\n",
       "30212    [democracia, base, sociedad, modalidad, gobier...\n",
       "30251    [descentralización, justicia, igualdad, opinió...\n",
       "30290                                           [concepto]\n",
       "30372    [valor, sistema, ciudadanía, aumento, priorida...\n",
       "Name: nouns, Length: 507, dtype: object"
      ]
     },
     "execution_count": 128,
     "metadata": {},
     "output_type": "execute_result"
    }
   ],
   "source": [
    "subset['nouns']"
   ]
  },
  {
   "cell_type": "markdown",
   "id": "8ad33b77",
   "metadata": {},
   "source": [
    "#### Filtrar Adjetivos"
   ]
  },
  {
   "cell_type": "code",
   "execution_count": 129,
   "id": "440567b9",
   "metadata": {},
   "outputs": [],
   "source": [
    "subset['adjs'] = subset['doc'].apply(\n",
    "    lambda toks: [lemma for _, lemma, pos in toks\n",
    "                  if pos == 'ADJ' and len(lemma) > 2]\n",
    ")"
   ]
  },
  {
   "cell_type": "code",
   "execution_count": 130,
   "id": "8dc5324f",
   "metadata": {},
   "outputs": [
    {
     "data": {
      "application/vnd.microsoft.datawrangler.viewer.v0+json": {
       "columns": [
        {
         "name": "index",
         "rawType": "int64",
         "type": "integer"
        },
        {
         "name": "adjs",
         "rawType": "object",
         "type": "unknown"
        }
       ],
       "ref": "15edbe97-d3f8-48ff-a40f-9b71277e52ae",
       "rows": [
        [
         "1",
         "[]"
        ],
        [
         "142",
         "[]"
        ],
        [
         "169",
         "['actual', 'fundamental', 'nuevo']"
        ],
        [
         "283",
         "['establecido', 'anterior']"
        ],
        [
         "316",
         "['representativo', 'participativo']"
        ],
        [
         "363",
         "[]"
        ],
        [
         "491",
         "['vinculante']"
        ],
        [
         "526",
         "[]"
        ],
        [
         "746",
         "['democratico', 'posible', 'votado', 'elegir', 'popular']"
        ],
        [
         "945",
         "['fundamental', 'nuevo']"
        ],
        [
         "946",
         "[]"
        ],
        [
         "1045",
         "['participativo', 'resolutivo', 'originario']"
        ],
        [
         "1046",
         "['soberano']"
        ],
        [
         "1134",
         "['fundamental', 'actual', 'mejor']"
        ],
        [
         "1169",
         "['politico']"
        ],
        [
         "1218",
         "['importante']"
        ],
        [
         "1250",
         "['ciudadano', 'constituyente', 'vinculante']"
        ],
        [
         "1284",
         "[]"
        ],
        [
         "1331",
         "[]"
        ],
        [
         "1380",
         "[]"
        ],
        [
         "1421",
         "[]"
        ],
        [
         "1506",
         "['constituyente']"
        ],
        [
         "1551",
         "['oficial', 'democratico', 'democratico']"
        ],
        [
         "1587",
         "['participativo']"
        ],
        [
         "1628",
         "[]"
        ],
        [
         "1682",
         "['participativo', 'rector', 'ciudadano', 'ciudadano', 'vinculante']"
        ],
        [
         "1722",
         "['ciudadano']"
        ],
        [
         "1767",
         "[]"
        ],
        [
         "1866",
         "['basado', 'social', 'participativo']"
        ],
        [
         "1917",
         "['angular', 'nuevo']"
        ],
        [
         "1945",
         "['representativo', 'electo', 'eleccionario', 'ciudadana', 'participativo', 'vinculante']"
        ],
        [
         "2001",
         "[]"
        ],
        [
         "2051",
         "['fundamental', 'etnico']"
        ],
        [
         "2137",
         "['parcial']"
        ],
        [
         "2191",
         "['justo', 'comprometido', 'social']"
        ],
        [
         "2283",
         "['verdadero', 'constituyente', 'vinculante', 'esencial', 'fundamental', 'actual', 'dejado']"
        ],
        [
         "2311",
         "['aunico', 'efectivo']"
        ],
        [
         "2345",
         "['geopolítico', 'municipal', 'prinvincial', 'regional']"
        ],
        [
         "2388",
         "['mayor', 'constitucional']"
        ],
        [
         "2418",
         "[]"
        ],
        [
         "2463",
         "['directo', 'ciudadana', 'pleno']"
        ],
        [
         "2600",
         "['votado']"
        ],
        [
         "2649",
         "['supremo', 'actual', 'tergiversado', 'real', 'pleno', 'participativo', 'responsable', 'real']"
        ],
        [
         "2681",
         "['incluido']"
        ],
        [
         "2730",
         "['fundamental']"
        ],
        [
         "2804",
         "['participativo']"
        ],
        [
         "2909",
         "['real', 'efectivo', 'eficiente', 'eficaz']"
        ],
        [
         "2953",
         "['directo', 'participativo']"
        ],
        [
         "3028",
         "['democratico', 'democratico']"
        ],
        [
         "3078",
         "['real', 'participativo', 'mayor', 'ciudadano']"
        ]
       ],
       "shape": {
        "columns": 1,
        "rows": 507
       }
      },
      "text/plain": [
       "1                                                       []\n",
       "142                                                     []\n",
       "169                           [actual, fundamental, nuevo]\n",
       "283                                [establecido, anterior]\n",
       "316                        [representativo, participativo]\n",
       "                               ...                        \n",
       "30184    [nuevo, ademocracia, sustentable, sostenible, ...\n",
       "30212    [chileno, democratico, fundamental, directo, r...\n",
       "30251                                                   []\n",
       "30290                                        [igualitario]\n",
       "30372                     [necesario, politico, controlar]\n",
       "Name: adjs, Length: 507, dtype: object"
      ]
     },
     "execution_count": 130,
     "metadata": {},
     "output_type": "execute_result"
    }
   ],
   "source": [
    "subset['adjs']"
   ]
  },
  {
   "cell_type": "markdown",
   "id": "e103f522",
   "metadata": {},
   "source": [
    "#### Bigramas Sustantivo–Adjetivo contiguos\n"
   ]
  },
  {
   "cell_type": "code",
   "execution_count": 131,
   "id": "a2ca1875",
   "metadata": {},
   "outputs": [],
   "source": [
    "def noun_adj_bigrams(tok_rows):\n",
    "    bigs = []\n",
    "    for i in range(len(tok_rows)-1):\n",
    "        (_, lemma1, pos1) = tok_rows[i]\n",
    "        (_, lemma2, pos2) = tok_rows[i+1]\n",
    "        if pos1 in {'NOUN','PROPN'} and pos2 == 'ADJ':\n",
    "            if lemma1 not in spanish_sw and lemma2 not in spanish_sw:\n",
    "                bigs.append(f'{lemma1}_{lemma2}')\n",
    "    return bigs\n",
    "\n",
    "subset['bigrams_noun_adj'] = subset['doc'].apply(noun_adj_bigrams)"
   ]
  },
  {
   "cell_type": "markdown",
   "id": "1593b135",
   "metadata": {},
   "source": [
    "### **08. Conteos Globales**\n",
    "\n",
    "**Conteos finales**  \n",
    "- `all_nouns`: Contador de sustantivos  \n",
    "- `all_bigrams`: Contador de bigramas N‑A  \n",
    "- `adj_counts`: Contador de adjetivos  "
   ]
  },
  {
   "cell_type": "code",
   "execution_count": 133,
   "id": "09314dc6",
   "metadata": {},
   "outputs": [
    {
     "name": "stdout",
     "output_type": "stream",
     "text": [
      "Unigramas distintos: 482\n",
      "Bigramas N-A distintos: 397\n",
      "Adjetivos distintos: 333\n"
     ]
    }
   ],
   "source": [
    "all_nouns = Counter([w for fila in subset['nouns'] for w in fila])\n",
    "all_bigrams = Counter([b for fila in subset['bigrams_noun_adj'] for b in fila])\n",
    "adj_counts = Counter([w for fila in subset['adjs'] for w in fila])\n",
    "print('Unigramas distintos:', len(all_nouns))\n",
    "print('Bigramas N-A distintos:', len(all_bigrams))\n",
    "print('Adjetivos distintos:', len(adj_counts))"
   ]
  },
  {
   "cell_type": "markdown",
   "id": "86073a1d",
   "metadata": {},
   "source": [
    "#### Remover claves vacías o sospechosas\n",
    "Se crea la función `clean_key(k)` para verificar que una palabra no esté vacía, y sea de tipo string. También verifica que no contenga espacios en blancos el string. Se crea un diccionario llamado `filtered_items`, donde se agregan las palabras que pasan el filtro de la función `clean_key(k)` y que aparecerán al menos dos veces en el conteo global de sustantivos."
   ]
  },
  {
   "cell_type": "code",
   "execution_count": 135,
   "id": "7abcdc0c",
   "metadata": {},
   "outputs": [
    {
     "name": "stdout",
     "output_type": "stream",
     "text": [
      "Vocabulario filtrado: 213 Total frecuencia: 2339\n"
     ]
    }
   ],
   "source": [
    "def clean_key(k):\n",
    "    return bool(k) and isinstance(k, str) and not k.isspace()\n",
    "\n",
    "filtered_items = {k:int(v) for k,v in all_nouns.items() if clean_key(k) and v>=2}\n",
    "\n",
    "print(\"Vocabulario filtrado:\", len(filtered_items), \"Total frecuencia:\", sum(filtered_items.values()))"
   ]
  },
  {
   "cell_type": "markdown",
   "id": "4bbd7a82",
   "metadata": {},
   "source": [
    "### **08. Visualizaciones**"
   ]
  },
  {
   "cell_type": "markdown",
   "id": "547b1275",
   "metadata": {},
   "source": [
    "#### WordCloud Sustantivos - Concepto Elegido\n",
    "- Se muestran términos con frecuencia ≥ 2  \n",
    "- Parámetros ajustables: tamaño, max_words, etc  \n",
    "- Interpretación: el nivel del tamaño indican importancia léxica del concepto"
   ]
  },
  {
   "cell_type": "code",
   "execution_count": 136,
   "id": "25e4a6bc",
   "metadata": {},
   "outputs": [
    {
     "data": {
      "image/png": "[encoded data removed]",
      "text/plain": [
       "<Figure size 1200x800 with 1 Axes>"
      ]
     },
     "metadata": {},
     "output_type": "display_data"
    }
   ],
   "source": [
    "freq_unigrams = {w:c for w,c in all_nouns.items() if c>=2}\n",
    "wc = WordCloud(width=1500, height=800, background_color='white', colormap=\"magma\",  max_words=1000, collocations=False)\n",
    "wc.generate_from_frequencies(freq_unigrams)\n",
    "plt.figure(figsize=(12,8))\n",
    "plt.imshow(wc, interpolation='bilinear')\n",
    "plt.axis('off')\n",
    "plt.title(f'WordCloud Sustantivos – {concepto_elegido}')\n",
    "plt.show()"
   ]
  },
  {
   "cell_type": "markdown",
   "id": "716d6465",
   "metadata": {},
   "source": [
    "#### WordCloud Bigramas (Sustantivo-Adjetivo)"
   ]
  },
  {
   "cell_type": "code",
   "execution_count": null,
   "id": "653cb496",
   "metadata": {},
   "outputs": [],
   "source": [
    "freq_bigrams = {b:c for b,c in all_bigrams.items() if c>=2}\n",
    "freq_bigrams_space = {b.replace('_', ' '): c for b, c in freq_bigrams.items()} # Se crea un nuevo diccionario reemplazando '_' por ' '\n",
    "\n",
    "wc2 = WordCloud(\n",
    "    width=1500,\n",
    "    height=800,\n",
    "    background_color='white',\n",
    "    colormap=\"magma\",\n",
    "    max_words=400,\n",
    "    collocations=False\n",
    ").generate_from_frequencies(freq_bigrams_space)\n",
    "\n",
    "plt.figure(figsize=(12,8))\n",
    "plt.imshow(wc2, interpolation='bilinear')\n",
    "plt.axis('off')\n",
    "plt.title(f'WordCloud Bigramas Sustantivo - Adjetivo – {concepto_elegido}')\n",
    "plt.show()"
   ]
  },
  {
   "cell_type": "markdown",
   "id": "91c72269",
   "metadata": {},
   "source": [
    "#### Top 20 Adjetivos - Democracia"
   ]
  },
  {
   "cell_type": "code",
   "execution_count": null,
   "id": "533d99d8",
   "metadata": {},
   "outputs": [],
   "source": [
    "# Nuevo dataFrame de adjetivos\n",
    "adj_df = pd.DataFrame(adj_counts.most_common(20), columns=['adjetivo','frecuencia'])\n",
    "\n",
    "plt.figure(figsize=(10,6))\n",
    "bars = plt.barh(adj_df['adjetivo'], adj_df['frecuencia'], color=\"#ED7272\")\n",
    "\n",
    "# Etiquetas de datos\n",
    "for bar in bars:\n",
    "    width = bar.get_width()\n",
    "    plt.text(\n",
    "        width + max(adj_df['frecuencia']) * 0.01, \n",
    "        bar.get_y() + bar.get_height()/2,\n",
    "        f'{int(width)}',\n",
    "        va='center',\n",
    "        fontsize=9\n",
    "    )\n",
    "\n",
    "plt.xlabel('Frecuencia')\n",
    "plt.ylabel('Adjetivo')\n",
    "plt.title(f'Top 20 Adjetivos – {concepto_elegido}')\n",
    "plt.gca().invert_yaxis()\n",
    "plt.tight_layout()\n",
    "plt.show()"
   ]
  },
  {
   "cell_type": "markdown",
   "id": "f423d36e",
   "metadata": {},
   "source": [
    "#### Red de Bigramas"
   ]
  },
  {
   "cell_type": "code",
   "execution_count": null,
   "id": "575a717b",
   "metadata": {},
   "outputs": [],
   "source": [
    "G = nx.Graph()\n",
    "for big, freq in freq_bigrams.items():\n",
    "    noun, adj = big.split('_')\n",
    "    G.add_node(noun, tipo='NOUN')\n",
    "    G.add_node(adj,  tipo='ADJ')\n",
    "    G.add_edge(noun, adj, weight=freq)\n",
    "\n",
    "print('Nodos:', G.number_of_nodes(), '| Aristas:', G.number_of_edges())\n",
    "\n",
    "# Cálculo de métricas para tamaño y color\n",
    "degree_dict = dict(G.degree())\n",
    "\n",
    "# Se escala el tamaño de nodo según grado\n",
    "node_sizes  = [100 + degree_dict[n]*200 for n in G.nodes()]\n",
    "color_map = {'NOUN':\"#F88A8A\", 'ADJ':\"#FFC18B\"}\n",
    "node_colors = [color_map[G.nodes[n]['tipo']] for n in G.nodes()]\n",
    "\n",
    "# Se escala la anchura de arista según peso \n",
    "edge_widths = [G[u][v]['weight']*0.1 for u,v in G.edges()]\n",
    "\n",
    "plt.figure(figsize=(16,14))\n",
    "pos = nx.spring_layout(G, k=0.5, seed=42)\n",
    "\n",
    "nx.draw_networkx_edges(G, pos, width=edge_widths, alpha=0.6)\n",
    "nx.draw_networkx_nodes(G, pos, node_size=node_sizes, node_color=node_colors, alpha=0.9)\n",
    "nx.draw_networkx_labels(G, pos, font_size=9)\n",
    "\n",
    "legend_elems = [\n",
    "    Patch(facecolor=color_map['NOUN'], label='Sustantivo'),\n",
    "    Patch(facecolor=color_map['ADJ'],  label='Adjetivo')\n",
    "]\n",
    "plt.legend(handles=legend_elems, title='Tipo Nodo')\n",
    "\n",
    "plt.title(f'Red de Bigramas Sustantivo–Adjetivo – {concepto_elegido}')\n",
    "plt.axis('off')\n",
    "plt.tight_layout()\n",
    "plt.show()"
   ]
  }
 ],
 "metadata": {
  "kernelspec": {
   "display_name": "nlp",
   "language": "python",
   "name": "python3"
  },
  "language_info": {
   "codemirror_mode": {
    "name": "ipython",
    "version": 3
   },
   "file_extension": ".py",
   "mimetype": "text/x-python",
   "name": "python",
   "nbconvert_exporter": "python",
   "pygments_lexer": "ipython3",
   "version": "3.12.11"
  }
 },
 "nbformat": 4,
 "nbformat_minor": 5
}

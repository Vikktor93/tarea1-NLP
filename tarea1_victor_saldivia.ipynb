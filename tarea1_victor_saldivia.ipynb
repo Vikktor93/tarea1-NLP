{
 "cells": [
  {
   "cell_type": "markdown",
   "id": "cf5f8f78",
   "metadata": {},
   "source": [
    "<div>\n",
    "<img src=\"https://i.ibb.co/v3CvVz9/udd-short.png\" width=\"150\"/>\n",
    "    <br>\n",
    "    <strong>Universidad del Desarrollo</strong><br>\n",
    "    <em>Magíster en Data Science</em><br>\n",
    "    <em>Profesora: Maria Paz Raveau</em><br>\n",
    "    <em>Asignatura: Procesamiento de Lenguaje Natural</em><br>\n",
    "\n",
    "</div>\n",
    "\n",
    "# **Tarea 1**\n",
    "\n",
    "*Fecha de Entrega: Domingo 20, Julio 2025.*\n",
    "\n",
    "**Nombre Estudiante**: Victor Saldivia Vera"
   ]
  },
  {
   "cell_type": "markdown",
   "id": "6018466a",
   "metadata": {},
   "source": [
    "### **01. Intrucciones y Enunciado**\n",
    "\n",
    "Suponga que ud. es contactado por alguna agencia gubernamental que quiere saber qué dijeron los participantes de los cabildos de 2016. Ud. debe entonces, basándose en los textos de fundamento, responder a este requerimiento.  Use para ello la base de datos que vimos en clases, de los cabildos provinciales. \n",
    "\n",
    "- Escoja alguna de los conceptos que vienen en la base de datos (evite las que no tengan muchas entradas). Hemos visto cómo generar WordClouds con tokens y con bigramas. *¿Es posible valerse de las etiquetas gramaticales para mejorar el resultado?* \n",
    "- Pruebe haciendo un WordCloud con tokens/sustantivos,  y otro con  bigramas/sustantivo-adjetivo. Recuerde pre-procesar correctamente.\n",
    "- Con estos mismo bigramas/sustantivo-adjetivo, haga una red de bigramas.\n",
    "- Ayúdese con frases de ejemplo, y de los WordClouds, para escribir una descripción del concepto.\n"
   ]
  },
  {
   "cell_type": "markdown",
   "id": "72b064a5",
   "metadata": {},
   "source": [
    "### **02. Descripción de la Data**\n"
   ]
  },
  {
   "cell_type": "code",
   "execution_count": 50,
   "id": "3ce18d31",
   "metadata": {},
   "outputs": [
    {
     "name": "stdout",
     "output_type": "stream",
     "text": [
      "Dimensión: (30414, 12)\n",
      "Nombre de Columnas: Index(['region_nombre', 'provincia_nombre', 'comuna_nombre', 'cabildo_id',\n",
      "       'cabildo_nombre', 'cabildo_direccion', 'num_mesa', 'pregunta_glosa',\n",
      "       'concepto_nombre', 'concepto_otro', 'tipo-eleccion', 'fundamento'],\n",
      "      dtype='object')\n"
     ]
    }
   ],
   "source": [
    "import pandas as pd\n",
    "df = pd.read_excel('data/resultadocabildoprovincial.xlsx')\n",
    "print(f'Dimensión: {df.shape}'), \n",
    "print(f'Nombre de Columnas: {df.columns}')"
   ]
  },
  {
   "cell_type": "markdown",
   "id": "984ad9d6",
   "metadata": {},
   "source": [
    "### **03. Librerías a Utilizar**\n"
   ]
  },
  {
   "cell_type": "code",
   "execution_count": 51,
   "id": "d8989cf8",
   "metadata": {},
   "outputs": [],
   "source": [
    "import pandas as pd\n",
    "import numpy as np\n",
    "import re\n",
    "import unicodedata\n",
    "from collections import Counter\n",
    "\n",
    "# Librerías de Procesamiento de Texto\n",
    "import nltk\n",
    "from nltk.corpus import stopwords\n",
    "from nltk.collocations import BigramCollocationFinder, BigramAssocMeasures\n",
    "import stanza\n",
    "\n",
    "# Visualización\n",
    "import matplotlib.pyplot as plt\n",
    "from wordcloud import WordCloud\n",
    "import networkx as nx\n",
    "\n",
    "# La librería de warnings se utiliza para manejar las advertencias\n",
    "import warnings\n",
    "warnings.filterwarnings('ignore')\n",
    "\n",
    "# Paquete muestra Barra de Progreso\n",
    "from tqdm import tqdm\n",
    "tqdm.pandas()"
   ]
  },
  {
   "cell_type": "code",
   "execution_count": null,
   "id": "baf0d31f",
   "metadata": {},
   "outputs": [],
   "source": [
    "# Descargas (Nota: Ejecutar una sola vez en entorno local)\n",
    "# nltk.download('punkt')\n",
    "# nltk.download('stopwords')\n",
    "# stanza.download('es')"
   ]
  },
  {
   "cell_type": "markdown",
   "id": "b5a81d65",
   "metadata": {},
   "source": [
    "#### Configuración de Stanza para el PLN"
   ]
  },
  {
   "cell_type": "code",
   "execution_count": 52,
   "id": "33f79e82",
   "metadata": {},
   "outputs": [
    {
     "name": "stderr",
     "output_type": "stream",
     "text": [
      "2025-07-19 23:50:14 INFO: Checking for updates to resources.json in case models have been updated.  Note: this behavior can be turned off with download_method=None or download_method=DownloadMethod.REUSE_RESOURCES\n",
      "Downloading https://raw.githubusercontent.com/stanfordnlp/stanza-resources/main/resources_1.10.0.json: 433kB [00:00, 20.5MB/s]                    \n",
      "2025-07-19 23:50:14 INFO: Downloaded file to C:\\Users\\Victo\\stanza_resources\\resources.json\n",
      "2025-07-19 23:50:14 WARNING: Language es package default expects mwt, which has been added\n",
      "2025-07-19 23:50:14 INFO: Loading these models for language: es (Spanish):\n",
      "=================================\n",
      "| Processor | Package           |\n",
      "---------------------------------\n",
      "| tokenize  | combined          |\n",
      "| mwt       | combined          |\n",
      "| pos       | combined_charlm   |\n",
      "| lemma     | combined_nocharlm |\n",
      "=================================\n",
      "\n",
      "2025-07-19 23:50:14 INFO: Using device: cpu\n",
      "2025-07-19 23:50:14 INFO: Loading: tokenize\n",
      "2025-07-19 23:50:14 INFO: Loading: mwt\n",
      "2025-07-19 23:50:14 INFO: Loading: pos\n",
      "2025-07-19 23:50:16 INFO: Loading: lemma\n",
      "2025-07-19 23:50:18 INFO: Done loading processors!\n"
     ]
    }
   ],
   "source": [
    "nlp = stanza.Pipeline('es', processors='tokenize,pos,lemma', use_gpu=False)  # Cambiar a True si hay GPU\n"
   ]
  },
  {
   "cell_type": "markdown",
   "id": "8fdc2837",
   "metadata": {},
   "source": [
    "### **04. Carga y Exploración Inicial**\n"
   ]
  },
  {
   "cell_type": "code",
   "execution_count": 53,
   "id": "af4cbe4a",
   "metadata": {},
   "outputs": [
    {
     "data": {
      "application/vnd.microsoft.datawrangler.viewer.v0+json": {
       "columns": [
        {
         "name": "index",
         "rawType": "int64",
         "type": "integer"
        },
        {
         "name": "region_nombre",
         "rawType": "object",
         "type": "string"
        },
        {
         "name": "provincia_nombre",
         "rawType": "object",
         "type": "string"
        },
        {
         "name": "comuna_nombre",
         "rawType": "object",
         "type": "string"
        },
        {
         "name": "cabildo_id",
         "rawType": "int64",
         "type": "integer"
        },
        {
         "name": "cabildo_nombre",
         "rawType": "object",
         "type": "string"
        },
        {
         "name": "cabildo_direccion",
         "rawType": "object",
         "type": "string"
        },
        {
         "name": "num_mesa",
         "rawType": "int64",
         "type": "integer"
        },
        {
         "name": "pregunta_glosa",
         "rawType": "object",
         "type": "string"
        },
        {
         "name": "concepto_nombre",
         "rawType": "object",
         "type": "string"
        },
        {
         "name": "concepto_otro",
         "rawType": "object",
         "type": "unknown"
        },
        {
         "name": "tipo-eleccion",
         "rawType": "object",
         "type": "string"
        },
        {
         "name": "fundamento",
         "rawType": "object",
         "type": "string"
        }
       ],
       "ref": "30959890-23d9-4f36-8218-42a02cc418ef",
       "rows": [
        [
         "0",
         "Arica y Parinacota",
         "Arica",
         "Arica",
         "81",
         "Colegio San Marcos",
         "Santa María 2140, Arica",
         "1",
         "¿Cuáles son los valores y principios más importantes que deben inspirar y dar sustento a la Constitución?",
         "Autonomía/libertad",
         null,
         "A",
         "sin fundamento"
        ],
        [
         "1",
         "Arica y Parinacota",
         "Arica",
         "Arica",
         "81",
         "Colegio San Marcos",
         "Santa María 2140, Arica",
         "1",
         "¿Cuáles son los valores y principios más importantes que deben inspirar y dar sustento a la Constitución?",
         "Democracia",
         null,
         "A",
         "Sin fundamento"
        ],
        [
         "2",
         "Arica y Parinacota",
         "Arica",
         "Arica",
         "81",
         "Colegio San Marcos",
         "Santa María 2140, Arica",
         "1",
         "¿Cuáles son los valores y principios más importantes que deben inspirar y dar sustento a la Constitución?",
         "Descentralización",
         null,
         "A",
         "La descentralizacion de ser autonoma por ser zona extrema del pais"
        ],
        [
         "3",
         "Arica y Parinacota",
         "Arica",
         "Arica",
         "81",
         "Colegio San Marcos",
         "Santa María 2140, Arica",
         "1",
         "¿Cuáles son los valores y principios más importantes que deben inspirar y dar sustento a la Constitución?",
         "Equidad de género",
         null,
         "A",
         "Sin fundamento"
        ],
        [
         "4",
         "Arica y Parinacota",
         "Arica",
         "Arica",
         "81",
         "Colegio San Marcos",
         "Santa María 2140, Arica",
         "1",
         "¿Cuáles son los valores y principios más importantes que deben inspirar y dar sustento a la Constitución?",
         "Respeto/conservación de la naturaleza o medio ambiente",
         null,
         "A",
         "Sin fundamento"
        ]
       ],
       "shape": {
        "columns": 12,
        "rows": 5
       }
      },
      "text/html": [
       "<div>\n",
       "<style scoped>\n",
       "    .dataframe tbody tr th:only-of-type {\n",
       "        vertical-align: middle;\n",
       "    }\n",
       "\n",
       "    .dataframe tbody tr th {\n",
       "        vertical-align: top;\n",
       "    }\n",
       "\n",
       "    .dataframe thead th {\n",
       "        text-align: right;\n",
       "    }\n",
       "</style>\n",
       "<table border=\"1\" class=\"dataframe\">\n",
       "  <thead>\n",
       "    <tr style=\"text-align: right;\">\n",
       "      <th></th>\n",
       "      <th>region_nombre</th>\n",
       "      <th>provincia_nombre</th>\n",
       "      <th>comuna_nombre</th>\n",
       "      <th>cabildo_id</th>\n",
       "      <th>cabildo_nombre</th>\n",
       "      <th>cabildo_direccion</th>\n",
       "      <th>num_mesa</th>\n",
       "      <th>pregunta_glosa</th>\n",
       "      <th>concepto_nombre</th>\n",
       "      <th>concepto_otro</th>\n",
       "      <th>tipo-eleccion</th>\n",
       "      <th>fundamento</th>\n",
       "    </tr>\n",
       "  </thead>\n",
       "  <tbody>\n",
       "    <tr>\n",
       "      <th>0</th>\n",
       "      <td>Arica y Parinacota</td>\n",
       "      <td>Arica</td>\n",
       "      <td>Arica</td>\n",
       "      <td>81</td>\n",
       "      <td>Colegio San Marcos</td>\n",
       "      <td>Santa María 2140, Arica</td>\n",
       "      <td>1</td>\n",
       "      <td>¿Cuáles son los valores y principios más impor...</td>\n",
       "      <td>Autonomía/libertad</td>\n",
       "      <td>NaN</td>\n",
       "      <td>A</td>\n",
       "      <td>sin fundamento</td>\n",
       "    </tr>\n",
       "    <tr>\n",
       "      <th>1</th>\n",
       "      <td>Arica y Parinacota</td>\n",
       "      <td>Arica</td>\n",
       "      <td>Arica</td>\n",
       "      <td>81</td>\n",
       "      <td>Colegio San Marcos</td>\n",
       "      <td>Santa María 2140, Arica</td>\n",
       "      <td>1</td>\n",
       "      <td>¿Cuáles son los valores y principios más impor...</td>\n",
       "      <td>Democracia</td>\n",
       "      <td>NaN</td>\n",
       "      <td>A</td>\n",
       "      <td>Sin fundamento</td>\n",
       "    </tr>\n",
       "    <tr>\n",
       "      <th>2</th>\n",
       "      <td>Arica y Parinacota</td>\n",
       "      <td>Arica</td>\n",
       "      <td>Arica</td>\n",
       "      <td>81</td>\n",
       "      <td>Colegio San Marcos</td>\n",
       "      <td>Santa María 2140, Arica</td>\n",
       "      <td>1</td>\n",
       "      <td>¿Cuáles son los valores y principios más impor...</td>\n",
       "      <td>Descentralización</td>\n",
       "      <td>NaN</td>\n",
       "      <td>A</td>\n",
       "      <td>La descentralizacion de ser autonoma por ser z...</td>\n",
       "    </tr>\n",
       "    <tr>\n",
       "      <th>3</th>\n",
       "      <td>Arica y Parinacota</td>\n",
       "      <td>Arica</td>\n",
       "      <td>Arica</td>\n",
       "      <td>81</td>\n",
       "      <td>Colegio San Marcos</td>\n",
       "      <td>Santa María 2140, Arica</td>\n",
       "      <td>1</td>\n",
       "      <td>¿Cuáles son los valores y principios más impor...</td>\n",
       "      <td>Equidad de género</td>\n",
       "      <td>NaN</td>\n",
       "      <td>A</td>\n",
       "      <td>Sin fundamento</td>\n",
       "    </tr>\n",
       "    <tr>\n",
       "      <th>4</th>\n",
       "      <td>Arica y Parinacota</td>\n",
       "      <td>Arica</td>\n",
       "      <td>Arica</td>\n",
       "      <td>81</td>\n",
       "      <td>Colegio San Marcos</td>\n",
       "      <td>Santa María 2140, Arica</td>\n",
       "      <td>1</td>\n",
       "      <td>¿Cuáles son los valores y principios más impor...</td>\n",
       "      <td>Respeto/conservación de la naturaleza o medio ...</td>\n",
       "      <td>NaN</td>\n",
       "      <td>A</td>\n",
       "      <td>Sin fundamento</td>\n",
       "    </tr>\n",
       "  </tbody>\n",
       "</table>\n",
       "</div>"
      ],
      "text/plain": [
       "        region_nombre provincia_nombre comuna_nombre  cabildo_id  \\\n",
       "0  Arica y Parinacota            Arica         Arica          81   \n",
       "1  Arica y Parinacota            Arica         Arica          81   \n",
       "2  Arica y Parinacota            Arica         Arica          81   \n",
       "3  Arica y Parinacota            Arica         Arica          81   \n",
       "4  Arica y Parinacota            Arica         Arica          81   \n",
       "\n",
       "       cabildo_nombre        cabildo_direccion  num_mesa  \\\n",
       "0  Colegio San Marcos  Santa María 2140, Arica         1   \n",
       "1  Colegio San Marcos  Santa María 2140, Arica         1   \n",
       "2  Colegio San Marcos  Santa María 2140, Arica         1   \n",
       "3  Colegio San Marcos  Santa María 2140, Arica         1   \n",
       "4  Colegio San Marcos  Santa María 2140, Arica         1   \n",
       "\n",
       "                                      pregunta_glosa  \\\n",
       "0  ¿Cuáles son los valores y principios más impor...   \n",
       "1  ¿Cuáles son los valores y principios más impor...   \n",
       "2  ¿Cuáles son los valores y principios más impor...   \n",
       "3  ¿Cuáles son los valores y principios más impor...   \n",
       "4  ¿Cuáles son los valores y principios más impor...   \n",
       "\n",
       "                                     concepto_nombre concepto_otro  \\\n",
       "0                                 Autonomía/libertad           NaN   \n",
       "1                                         Democracia           NaN   \n",
       "2                                  Descentralización           NaN   \n",
       "3                                  Equidad de género           NaN   \n",
       "4  Respeto/conservación de la naturaleza o medio ...           NaN   \n",
       "\n",
       "  tipo-eleccion                                         fundamento  \n",
       "0             A                                     sin fundamento  \n",
       "1             A                                     Sin fundamento  \n",
       "2             A  La descentralizacion de ser autonoma por ser z...  \n",
       "3             A                                     Sin fundamento  \n",
       "4             A                                     Sin fundamento  "
      ]
     },
     "execution_count": 53,
     "metadata": {},
     "output_type": "execute_result"
    }
   ],
   "source": [
    "df.head()"
   ]
  },
  {
   "cell_type": "markdown",
   "id": "43e47afd",
   "metadata": {},
   "source": [
    "#### Conteo de nulos en columnas de texto\n"
   ]
  },
  {
   "cell_type": "code",
   "execution_count": 54,
   "id": "e8568cbe",
   "metadata": {},
   "outputs": [
    {
     "name": "stdout",
     "output_type": "stream",
     "text": [
      "0\n"
     ]
    }
   ],
   "source": [
    "texto_col = \"fundamento\"\n",
    "print(df[texto_col].isna().sum())"
   ]
  },
  {
   "cell_type": "markdown",
   "id": "737f928e",
   "metadata": {},
   "source": [
    "#### Estadísticas Descriptivas sobre el texto\n"
   ]
  },
  {
   "cell_type": "code",
   "execution_count": 55,
   "id": "67c1b00c",
   "metadata": {},
   "outputs": [
    {
     "data": {
      "application/vnd.microsoft.datawrangler.viewer.v0+json": {
       "columns": [
        {
         "name": "index",
         "rawType": "object",
         "type": "string"
        },
        {
         "name": "len_chars",
         "rawType": "float64",
         "type": "float"
        },
        {
         "name": "len_tokens_raw",
         "rawType": "float64",
         "type": "float"
        }
       ],
       "ref": "60b112d6-2c7c-42d4-8e13-901255baa4f0",
       "rows": [
        [
         "count",
         "30414.0",
         "30414.0"
        ],
        [
         "mean",
         "69.09012296968501",
         "10.828269875715131"
        ],
        [
         "std",
         "69.67039421710389",
         "10.993366645463677"
        ],
        [
         "min",
         "1.0",
         "1.0"
        ],
        [
         "25%",
         "15.0",
         "2.0"
        ],
        [
         "50%",
         "47.0",
         "7.0"
        ],
        [
         "75%",
         "102.0",
         "16.0"
        ],
        [
         "max",
         "300.0",
         "61.0"
        ]
       ],
       "shape": {
        "columns": 2,
        "rows": 8
       }
      },
      "text/html": [
       "<div>\n",
       "<style scoped>\n",
       "    .dataframe tbody tr th:only-of-type {\n",
       "        vertical-align: middle;\n",
       "    }\n",
       "\n",
       "    .dataframe tbody tr th {\n",
       "        vertical-align: top;\n",
       "    }\n",
       "\n",
       "    .dataframe thead th {\n",
       "        text-align: right;\n",
       "    }\n",
       "</style>\n",
       "<table border=\"1\" class=\"dataframe\">\n",
       "  <thead>\n",
       "    <tr style=\"text-align: right;\">\n",
       "      <th></th>\n",
       "      <th>len_chars</th>\n",
       "      <th>len_tokens_raw</th>\n",
       "    </tr>\n",
       "  </thead>\n",
       "  <tbody>\n",
       "    <tr>\n",
       "      <th>count</th>\n",
       "      <td>30414.000000</td>\n",
       "      <td>30414.000000</td>\n",
       "    </tr>\n",
       "    <tr>\n",
       "      <th>mean</th>\n",
       "      <td>69.090123</td>\n",
       "      <td>10.828270</td>\n",
       "    </tr>\n",
       "    <tr>\n",
       "      <th>std</th>\n",
       "      <td>69.670394</td>\n",
       "      <td>10.993367</td>\n",
       "    </tr>\n",
       "    <tr>\n",
       "      <th>min</th>\n",
       "      <td>1.000000</td>\n",
       "      <td>1.000000</td>\n",
       "    </tr>\n",
       "    <tr>\n",
       "      <th>25%</th>\n",
       "      <td>15.000000</td>\n",
       "      <td>2.000000</td>\n",
       "    </tr>\n",
       "    <tr>\n",
       "      <th>50%</th>\n",
       "      <td>47.000000</td>\n",
       "      <td>7.000000</td>\n",
       "    </tr>\n",
       "    <tr>\n",
       "      <th>75%</th>\n",
       "      <td>102.000000</td>\n",
       "      <td>16.000000</td>\n",
       "    </tr>\n",
       "    <tr>\n",
       "      <th>max</th>\n",
       "      <td>300.000000</td>\n",
       "      <td>61.000000</td>\n",
       "    </tr>\n",
       "  </tbody>\n",
       "</table>\n",
       "</div>"
      ],
      "text/plain": [
       "          len_chars  len_tokens_raw\n",
       "count  30414.000000    30414.000000\n",
       "mean      69.090123       10.828270\n",
       "std       69.670394       10.993367\n",
       "min        1.000000        1.000000\n",
       "25%       15.000000        2.000000\n",
       "50%       47.000000        7.000000\n",
       "75%      102.000000       16.000000\n",
       "max      300.000000       61.000000"
      ]
     },
     "execution_count": 55,
     "metadata": {},
     "output_type": "execute_result"
    }
   ],
   "source": [
    "df['len_chars'] = df[texto_col].str.len() # columna de longitud de caracteres\n",
    "df['len_tokens_raw'] = df[texto_col].str.split().str.len() # columna de tokens sin procesar\n",
    "df[['len_chars','len_tokens_raw']].describe()"
   ]
  },
  {
   "cell_type": "markdown",
   "id": "14a04f3f",
   "metadata": {},
   "source": [
    "#### Eliminación de nulos y duplicados\n"
   ]
  },
  {
   "cell_type": "code",
   "execution_count": 56,
   "id": "34d5c453",
   "metadata": {},
   "outputs": [
    {
     "name": "stdout",
     "output_type": "stream",
     "text": [
      "Filas eliminadas: 11088\n"
     ]
    }
   ],
   "source": [
    "before = len(df)\n",
    "df = df.dropna(subset=[texto_col])\n",
    "df = df.drop_duplicates(subset=[texto_col])\n",
    "print(f\"Filas eliminadas: {before - len(df)}\")"
   ]
  },
  {
   "cell_type": "markdown",
   "id": "7101cecc",
   "metadata": {},
   "source": [
    "### **05. Selección de Concepto**\n"
   ]
  },
  {
   "cell_type": "code",
   "execution_count": 57,
   "id": "7774fd01",
   "metadata": {},
   "outputs": [
    {
     "data": {
      "application/vnd.microsoft.datawrangler.viewer.v0+json": {
       "columns": [
        {
         "name": "concepto_nombre",
         "rawType": "object",
         "type": "string"
        },
        {
         "name": "count",
         "rawType": "int64",
         "type": "integer"
        }
       ],
       "ref": "2692c2a2-264a-4a0d-9b2f-c219e89e2ead",
       "rows": [
        [
         "Otro",
         "3976"
        ],
        [
         "Igualdad",
         "519"
        ],
        [
         "Democracia",
         "507"
        ],
        [
         "Descentralización",
         "503"
        ],
        [
         "Justicia",
         "492"
        ],
        [
         "Respeto/conservación de la naturaleza o medio ambiente",
         "484"
        ],
        [
         "A la vida",
         "440"
        ],
        [
         "A la salud",
         "437"
        ],
        [
         "A la educación",
         "428"
        ],
        [
         "Respeto",
         "385"
        ],
        [
         "Fuerzas Armadas",
         "381"
        ],
        [
         "Bien Común/comunidad",
         "381"
        ],
        [
         "Congreso o parlamento (estructura y funciones)",
         "373"
        ],
        [
         "A la vivienda digna",
         "365"
        ],
        [
         "Plebiscitos, referendos y consultas",
         "361"
        ],
        [
         "Respeto por la constitución",
         "335"
        ],
        [
         "Igualdad ante la ley",
         "332"
        ],
        [
         "Defensor del Pueblo/Ciudadano",
         "312"
        ],
        [
         "Poder judicial (estructura y funciones)",
         "306"
        ],
        [
         "A la seguridad social",
         "300"
        ]
       ],
       "shape": {
        "columns": 1,
        "rows": 20
       }
      },
      "text/plain": [
       "concepto_nombre\n",
       "Otro                                                      3976\n",
       "Igualdad                                                   519\n",
       "Democracia                                                 507\n",
       "Descentralización                                          503\n",
       "Justicia                                                   492\n",
       "Respeto/conservación de la naturaleza o medio ambiente     484\n",
       "A la vida                                                  440\n",
       "A la salud                                                 437\n",
       "A la educación                                             428\n",
       "Respeto                                                    385\n",
       "Fuerzas Armadas                                            381\n",
       "Bien Común/comunidad                                       381\n",
       "Congreso o parlamento (estructura y funciones)             373\n",
       "A la vivienda digna                                        365\n",
       "Plebiscitos, referendos y consultas                        361\n",
       "Respeto por la constitución                                335\n",
       "Igualdad ante la ley                                       332\n",
       "Defensor del Pueblo/Ciudadano                              312\n",
       "Poder judicial (estructura y funciones)                    306\n",
       "A la seguridad social                                      300\n",
       "Name: count, dtype: int64"
      ]
     },
     "execution_count": 57,
     "metadata": {},
     "output_type": "execute_result"
    }
   ],
   "source": [
    "# Distribución de frecuencias para elegir uno con suficientes observaciones\n",
    "concepto_col = \"concepto_nombre\" \n",
    "concept_counts = df[concepto_col].value_counts()\n",
    "concept_counts.head(20)"
   ]
  },
  {
   "cell_type": "markdown",
   "id": "ba66ba73",
   "metadata": {},
   "source": [
    "#### Selección de Concepto"
   ]
  },
  {
   "cell_type": "code",
   "execution_count": null,
   "id": "77233baa",
   "metadata": {},
   "outputs": [],
   "source": [
    "concepto_elegido = \"Democracia\" "
   ]
  },
  {
   "cell_type": "markdown",
   "id": "5a00504d",
   "metadata": {},
   "source": [
    "#### Creación del Subconjunto filtrado"
   ]
  },
  {
   "cell_type": "code",
   "execution_count": 65,
   "id": "1e4dd563",
   "metadata": {},
   "outputs": [
    {
     "name": "stdout",
     "output_type": "stream",
     "text": [
      "Filas del concepto: 437\n"
     ]
    }
   ],
   "source": [
    "subset = df[df[concepto_col] == concepto_elegido].copy()\n",
    "print(\"Filas del concepto:\", len(subset))\n",
    "#subset.head(3)"
   ]
  }
 ],
 "metadata": {
  "kernelspec": {
   "display_name": "nlp",
   "language": "python",
   "name": "python3"
  },
  "language_info": {
   "codemirror_mode": {
    "name": "ipython",
    "version": 3
   },
   "file_extension": ".py",
   "mimetype": "text/x-python",
   "name": "python",
   "nbconvert_exporter": "python",
   "pygments_lexer": "ipython3",
   "version": "3.12.11"
  }
 },
 "nbformat": 4,
 "nbformat_minor": 5
}
